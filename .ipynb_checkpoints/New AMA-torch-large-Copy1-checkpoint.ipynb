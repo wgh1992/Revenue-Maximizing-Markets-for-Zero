{
 "cells": [
  {
   "cell_type": "code",
   "execution_count": 1,
   "metadata": {
    "ExecuteTime": {
     "end_time": "2020-10-31T09:11:10.231624Z",
     "start_time": "2020-10-31T09:11:09.155197Z"
    }
   },
   "outputs": [],
   "source": [
    "import math\n",
    "import random\n",
    "import torch\n",
    "import numpy as np\n",
    "import torch.nn.functional\n",
    "import matplotlib.pyplot as plt\n",
    "import torch.optim as opt\n",
    "from torch.autograd import Variable\n",
    "from sklearn.model_selection import train_test_split\n",
    "\n",
    "\n",
    "\n"
   ]
  },
  {
   "cell_type": "code",
   "execution_count": 2,
   "metadata": {
    "ExecuteTime": {
     "end_time": "2020-10-31T09:11:10.304285Z",
     "start_time": "2020-10-31T09:11:10.232624Z"
    }
   },
   "outputs": [
    {
     "name": "stdout",
     "output_type": "stream",
     "text": [
      "cuda:0\n"
     ]
    }
   ],
   "source": [
    "if torch.cuda.is_available():  \n",
    "    dev = \"cuda:0\" \n",
    "else:  \n",
    "    dev = \"cpu\"  \n",
    "\n",
    "print(dev)"
   ]
  },
  {
   "cell_type": "code",
   "execution_count": 3,
   "metadata": {
    "ExecuteTime": {
     "end_time": "2020-10-31T09:11:10.311265Z",
     "start_time": "2020-10-31T09:11:10.306279Z"
    }
   },
   "outputs": [],
   "source": [
    "def valuation(type_offender, type_defender, t):\n",
    "    v_1 = type_offender * (t - t ** 2 / 2)\n",
    "    v_2 = type_defender * (1 - t)\n",
    "    \n",
    "    return v_1, v_2\n",
    "\n",
    "\n",
    "def loss_function(value):\n",
    "    return -value\n"
   ]
  },
  {
   "cell_type": "code",
   "execution_count": 4,
   "metadata": {
    "ExecuteTime": {
     "end_time": "2020-10-31T09:11:10.324232Z",
     "start_time": "2020-10-31T09:11:10.312263Z"
    }
   },
   "outputs": [],
   "source": [
    "class Net(torch.nn.Module):\n",
    "    def __init__(self):\n",
    "\n",
    "        super(Net, self).__init__()\n",
    "        self.u_offender = Variable(torch.Tensor([1.0]), requires_grad=False).cuda() \n",
    "        self.u_defender = torch.nn.Parameter(torch.Tensor([3.75]), requires_grad=False).cuda() \n",
    "        num_input=1\n",
    "        num_hidden=20\n",
    "        num_output=1\n",
    "        \n",
    "        self.hidden_0 = torch.nn.Linear(num_input, num_hidden)\n",
    "        self.hidden_1 = torch.nn.Linear(num_hidden, num_hidden)\n",
    "        self.hidden_2 = torch.nn.Linear(num_hidden, num_hidden)\n",
    "        self.hidden_3 = torch.nn.Linear(num_hidden, num_hidden)\n",
    "        self.output   = torch.nn.Linear(num_hidden, num_output)\n",
    "        \n",
    "        \n",
    "\n",
    "    def forward(self, x, type_offender, type_defender): # type_offender val_offender   ;  type_defender val_defender\n",
    "\n",
    "        h1 = torch.relu_(self.hidden_0(x))\n",
    "        h2 = torch.relu_(self.hidden_1(h1))\n",
    "        h3 = torch.relu_(self.hidden_2(h2))\n",
    "        h4 = torch.sigmoid(self.hidden_3(h3))\n",
    "        ao = self.output(h4)\n",
    "\n",
    "        value_offender, value_defender = valuation(type_offender, type_defender, x)\n",
    "        temp_val_offender = (value_offender * (self.u_offender).cuda()).cuda() \n",
    "        temp_val_defender = (value_defender * (self.u_defender).cuda()).cuda()\n",
    "        \n",
    "        \n",
    "        val_offender = temp_val_offender + ao\n",
    "        val_defender = temp_val_defender + ao\n",
    "        #print(o.grad_fn,temp_val_defender.grad_fn)\n",
    "        #print(val_offender)\n",
    "        \n",
    "        max_offender, max_t_offender = val_offender.max(0)\n",
    "        max_defender, max_t_defender = val_defender.max(0)\n",
    "        \n",
    "        \n",
    "        \n",
    "        #print(\"max_offender: \" ,max_offender,max_offender.grad)\n",
    "        \n",
    "        val_sum = val_offender + val_defender - ao\n",
    "        max_val, t_end = val_sum.max(0) \n",
    "\n",
    "        end_val_offender = val_offender[int(t_end)].cuda()\n",
    "        end_val_defender = val_defender[int(t_end)].cuda()\n",
    "        pay_offender = (max_defender - end_val_defender) / (self.u_offender).cuda()\n",
    "        pay_defender = (max_offender - end_val_offender) / (self.u_defender).cuda()\n",
    "        \n",
    "#         if((max_defender - end_val_defender) / self.u_offender > value_offender[int(t_end)]):\n",
    "#             print(\"error: payment offender\",(max_defender - end_val_defender) / self.u_offender,value_offender[int(t_end)]);\n",
    "#         if((max_offender - end_val_offender) / self.u_defender > value_defender[int(t_end)]):\n",
    "#             print(\"error: payment defender\",(max_offender - end_val_offender) / self.u_defender,value_defender[int(t_end)]);\n",
    "        \n",
    "        payment = pay_offender + pay_defender\n",
    "\n",
    "        return payment, ao, x[int(t_end)], self.u_offender ,self.u_defender\n",
    "\n",
    "\n"
   ]
  },
  {
   "cell_type": "code",
   "execution_count": 5,
   "metadata": {
    "ExecuteTime": {
     "end_time": "2020-10-31T09:11:10.332209Z",
     "start_time": "2020-10-31T09:11:10.325228Z"
    }
   },
   "outputs": [],
   "source": [
    "def weight_init(m):\n",
    "    if isinstance(m, torch.nn.Conv2d):\n",
    "        torch.nn.init.xavier_normal_(m.weight, gain=nn.init.calculate_gain('relu'))\n",
    "        torch.nn.init.zeros_(m.bias)\n",
    "    elif isinstance(m, torch.nn.Linear):\n",
    "        torch.nn.init.xavier_normal_(m.weight)\n",
    "        torch.nn.init.zeros_(m.bias)\n",
    "        "
   ]
  },
  {
   "cell_type": "code",
   "execution_count": 6,
   "metadata": {
    "ExecuteTime": {
     "end_time": "2020-10-31T09:11:11.610341Z",
     "start_time": "2020-10-31T09:11:10.333208Z"
    }
   },
   "outputs": [
    {
     "name": "stdout",
     "output_type": "stream",
     "text": [
      "tensor([[0.0000],\n",
      "        [0.0010],\n",
      "        [0.0020],\n",
      "        ...,\n",
      "        [0.9980],\n",
      "        [0.9990],\n",
      "        [1.0000]], device='cuda:0')\n"
     ]
    }
   ],
   "source": [
    "random.seed(2000)\n",
    "torch.manual_seed(256)\n",
    "time_frame = np.linspace(0, 1, 1001)\n",
    "time_frame = np.expand_dims(time_frame, axis=1)\n",
    "\n",
    "time_frame = torch.from_numpy(time_frame).cuda()\n",
    "time_frame = time_frame.type(torch.float32)\n",
    "time_frame.requires_gard = False\n",
    "net  = Net()\n",
    "net.apply(weight_init)\n",
    "print(time_frame)"
   ]
  },
  {
   "cell_type": "code",
   "execution_count": 7,
   "metadata": {
    "ExecuteTime": {
     "end_time": "2020-10-31T09:11:14.176886Z",
     "start_time": "2020-10-31T09:11:11.611301Z"
    }
   },
   "outputs": [
    {
     "name": "stdout",
     "output_type": "stream",
     "text": [
      "[391.1958048    8.07743806]\n",
      "[[271.69199845  12.05608554]\n",
      " [ 85.35414143   6.78185943]\n",
      " [ 92.12115161   8.22734879]\n",
      " ...\n",
      " [303.15368136   3.59778968]\n",
      " [191.24357187   7.38312562]\n",
      " [163.77016144   3.63757603]]\n",
      "[271.69199845  85.35414143  92.12115161 ... 303.15368136 191.24357187\n",
      " 163.77016144]\n"
     ]
    },
    {
     "data": {
      "image/png": "[encoded data removed]",
      "text/plain": [
       "<Figure size 432x288 with 1 Axes>"
      ]
     },
     "metadata": {
      "needs_background": "light"
     },
     "output_type": "display_data"
    },
    {
     "data": {
      "image/png": "[encoded data removed]",
      "text/plain": [
       "<Figure size 432x288 with 1 Axes>"
      ]
     },
     "metadata": {
      "needs_background": "light"
     },
     "output_type": "display_data"
    },
    {
     "name": "stdout",
     "output_type": "stream",
     "text": [
      "180000\n",
      "[array([101.62302154,  14.51348007]), array([358.69276408,   2.38606712]), array([295.40609566,  13.84184206]), array([257.09125878,   6.59259653]), array([62.25040933, 11.64733725]), array([182.99564195,   7.06279225]), array([172.6268948,   3.5526404]), array([341.18964999,  11.74316758]), array([248.70156042,   8.16909651]), array([28.8651362 ,  0.34737068]), array([297.68555209,  10.42705906]), array([106.92333513,   8.71202509]), array([30.9082895 ,  6.52370323]), array([239.77081892,  11.37041653]), array([26.98250393,  7.51637857]), array([80.4731585 ,  9.13683528]), array([314.53090381,   3.10470423]), array([364.68497296,  11.41270698]), array([275.47118998,  10.33522824]), array([187.55454241,   4.51921096]), array([213.08101949,   6.58091709]), array([345.86406392,   5.45856074]), array([261.93782665,   8.83745731]), array([379.09048063,  14.79072811]), array([346.61899147,  12.86602716]), array([13.68086609,  9.10215798]), array([228.88007388,   6.29833958]), array([279.56914527,  11.65904947]), array([321.70735225,  11.83198488]), array([310.4704553 ,   3.41400851]), array([187.19385508,   8.02041804]), array([323.54254684,   5.21871744]), array([248.13422212,   1.07944523]), array([220.99811044,   8.30181328]), array([316.60432984,   2.90549272]), array([158.90834862,   3.20022033]), array([92.54047038, 10.37049821]), array([353.51740086,   2.94265404]), array([173.79109943,  10.52468378]), array([395.67302524,   6.39827196]), array([74.28148973,  0.74438048]), array([62.35490076,  4.58116477]), array([189.89541448,   7.73418017]), array([1.16784107, 9.10343092]), array([168.92428111,   6.73392275]), array([262.63787741,   6.37088845]), array([88.65927909,  5.48375187]), array([206.11320113,   3.94529845]), array([69.35377608,  0.79356138]), array([139.64240717,   6.47952568]), array([16.54884036,  5.49726929]), array([201.0095802 ,   4.95210505]), array([85.43705499, 14.88664917]), array([274.27323808,   0.50530695]), array([144.97778359,   9.11271557]), array([287.39880025,   3.77581879]), array([123.73924479,  11.42621337]), array([303.46651359,   3.67565255]), array([318.14344924,  10.66772944]), array([332.82888765,   6.60762408]), array([239.32528466,   4.93208911]), array([110.26017476,   9.29020148]), array([215.85224658,   8.78444029]), array([287.00186301,   8.76469198]), array([13.97141757, 14.66744042]), array([134.40663524,  14.66832777]), array([253.50599725,   9.96854183]), array([42.21023468,  6.42874656]), array([303.25914721,  13.21479664]), array([187.17582059,   0.40351506]), array([300.49436306,  10.76778629]), array([297.05400155,  14.6904583 ]), array([282.77322033,  14.67852226]), array([364.69314842,   5.54385582]), array([350.31073196,  12.59131674]), array([365.20198108,   6.5452847 ]), array([382.27236333,  14.23010279]), array([20.31644186, 10.61326639]), array([331.2047533 ,  10.07217068]), array([144.20638492,   0.94797915]), array([2.63480715e+02, 1.64607267e-01]), array([2.33976556e+02, 7.91972414e-02]), array([255.46535625,  10.16666166]), array([65.29431703,  3.76418209]), array([125.93354886,   8.0392888 ]), array([328.84607159,   1.54884864]), array([319.25150094,   4.49918427]), array([259.21861677,  13.20127091]), array([17.75373412, 12.19515638]), array([122.09122941,   5.42517438]), array([ 3.55185341, 12.84452023]), array([249.5857441 ,   8.02815262]), array([123.17859517,   0.584481  ]), array([338.07217101,   0.56276272]), array([209.35866555,   8.8792749 ]), array([167.77946664,   1.26163262]), array([73.53995428, 14.54301033]), array([255.97033711,  11.31268876]), array([366.32888152,   5.08291696]), array([108.90939499,   0.42065985])]\n",
      "20000\n"
     ]
    }
   ],
   "source": [
    "agent_number_n=2\n",
    "seed = 7\n",
    "np.random.seed(seed)\n",
    "exec(open('distribution1item_uniform.py').read())\n",
    "\n",
    "X_train,  X_test = train_test_split(value_list, test_size=0.1, random_state=seed)\n",
    "\n",
    "dataset_size = len(X_train)\n",
    "print(dataset_size)\n",
    "print(X_train[:100])\n",
    "print(len(X_test))\n",
    "\n"
   ]
  },
  {
   "cell_type": "code",
   "execution_count": 8,
   "metadata": {
    "ExecuteTime": {
     "end_time": "2020-10-31T09:11:14.183868Z",
     "start_time": "2020-10-31T09:11:14.177883Z"
    }
   },
   "outputs": [],
   "source": [
    "index_train=[]\n",
    "batch_length = int(10)\n",
    "t_off = np.linspace(0, 400, batch_length)\n",
    "t_def = np.linspace(0, 15, batch_length)\n",
    "index_train = []\n",
    "for i in range(batch_length):\n",
    "    for j in range(batch_length):\n",
    "        index_train.append([t_off[i], t_def[j]])"
   ]
  },
  {
   "cell_type": "code",
   "execution_count": 9,
   "metadata": {
    "ExecuteTime": {
     "end_time": "2020-10-31T09:11:14.192870Z",
     "start_time": "2020-10-31T09:11:14.184864Z"
    }
   },
   "outputs": [],
   "source": [
    "net = torch.load(\"AMA_net_large_2\")\n",
    "\n",
    "net.u_defender = torch.nn.Parameter(torch.Tensor([3.7]), requires_grad=False)"
   ]
  },
  {
   "cell_type": "code",
   "execution_count": 10,
   "metadata": {
    "ExecuteTime": {
     "end_time": "2020-10-31T09:11:14.200857Z",
     "start_time": "2020-10-31T09:11:14.193842Z"
    }
   },
   "outputs": [
    {
     "data": {
      "text/plain": [
       "Net(\n",
       "  (hidden_0): Linear(in_features=1, out_features=20, bias=True)\n",
       "  (hidden_1): Linear(in_features=20, out_features=20, bias=True)\n",
       "  (hidden_2): Linear(in_features=20, out_features=20, bias=True)\n",
       "  (hidden_3): Linear(in_features=20, out_features=20, bias=True)\n",
       "  (output): Linear(in_features=20, out_features=1, bias=True)\n",
       ")"
      ]
     },
     "execution_count": 10,
     "metadata": {},
     "output_type": "execute_result"
    }
   ],
   "source": [
    "net.to(dev)"
   ]
  },
  {
   "cell_type": "code",
   "execution_count": 11,
   "metadata": {
    "ExecuteTime": {
     "end_time": "2020-10-31T09:11:14.206805Z",
     "start_time": "2020-10-31T09:11:14.202818Z"
    }
   },
   "outputs": [],
   "source": [
    "\n",
    "#optimizer = opt.RMSprop(net.parameters(), lr=0.00001)\n",
    "#optimizer = opt.SGD(net.parameters(), lr=0.002)\n",
    "optimizer = opt.Adam(net.parameters(), lr=0.0005)\n",
    "\n",
    "batch_size = 256\n",
    "echo = 10000"
   ]
  },
  {
   "cell_type": "code",
   "execution_count": 12,
   "metadata": {
    "ExecuteTime": {
     "end_time": "2020-10-31T09:11:46.484073Z",
     "start_time": "2020-10-31T09:11:14.208800Z"
    },
    "scrolled": true
   },
   "outputs": [
    {
     "name": "stdout",
     "output_type": "stream",
     "text": [
      "sum_average: 51.81226  ， 51.81226 ， 3.70000\n"
     ]
    }
   ],
   "source": [
    "stop_count=10;\n",
    "count_average_list=[]\n",
    "\n",
    "for i in range(int(echo)):\n",
    "\n",
    "    # offender_types = []\n",
    "    # defender_types = []\n",
    "    loss_sum = 0\n",
    "    denominator =0\n",
    "    \"\"\"\n",
    "    for j in range(batch_size):\n",
    "        offender_types.append(random.randint(0, 400))\n",
    "        defender_types.append(random.randint(0, 15))\n",
    "    \"\"\"\n",
    "    for j in range(batch_size):\n",
    "        index_random = random.randint(0,len(X_train)-1)\n",
    "        pay , curve_o, o_star, uu_offender, uu_defender = net(time_frame, \n",
    "                            X_train[index_random][0], X_train[index_random][1])\n",
    "        loss_sum += pay\n",
    "        \n",
    "        denominator+=1\n",
    "        \n",
    "    \n",
    "    optimizer.zero_grad()\n",
    "    loss = loss_function(loss_sum / denominator) \n",
    "    \n",
    "    loss.backward()\n",
    "    \n",
    "    loss_average=loss_sum[0].data / denominator;\n",
    "\n",
    "    optimizer.step()\n",
    "    \n",
    "    count_average_list.append(loss_average)\n",
    "    if(len(count_average_list)>stop_count):\n",
    "        count_average_list.pop(0)\n",
    "        \n",
    "    if(sum(count_average_list)/len(count_average_list)>50.6 and len(count_average_list)==stop_count):\n",
    "        break;\n",
    "\n",
    "    if i % 100 == 0:\n",
    "        #offender_types = sum(offender_types) / batch_size\n",
    "        #defender_types = sum(defender_types) / batch_size\n",
    "        #print(loss_sum.data)\n",
    "        #print(offender_types, defender_types, loss_sum)\n",
    "        #print(\"curve for o: \",curve)\n",
    "        print(\"sum_average: %.5f \" % float(sum(count_average_list)/len(count_average_list)),'， %.5f' % float(loss_average),'， %.5f' % float(uu_defender))\n",
    "        #plt.pause(0.03)\n",
    "    "
   ]
  },
  {
   "cell_type": "code",
   "execution_count": 13,
   "metadata": {
    "ExecuteTime": {
     "end_time": "2020-10-31T09:11:46.673829Z",
     "start_time": "2020-10-31T09:11:46.485036Z"
    }
   },
   "outputs": [
    {
     "name": "stdout",
     "output_type": "stream",
     "text": [
      "loss_sum: 51.22578\n",
      "tensor([0.], device='cuda:0')\n"
     ]
    },
    {
     "data": {
      "text/plain": [
       "[<matplotlib.lines.Line2D at 0x2a48f005bb0>]"
      ]
     },
     "execution_count": 13,
     "metadata": {},
     "output_type": "execute_result"
    },
    {
     "data": {
      "image/png": "[encoded data removed]",
      "text/plain": [
       "<Figure size 432x288 with 1 Axes>"
      ]
     },
     "metadata": {
      "needs_background": "light"
     },
     "output_type": "display_data"
    }
   ],
   "source": [
    "print(\"loss_sum: %.5f\" % -loss)\n",
    "\n",
    "print(o_star)\n",
    "plt.cla()\n",
    "plt.axvline(o_star.cpu().data,color ='red')\n",
    "plt.plot(time_frame.cpu().data.numpy(), curve_o.cpu().data.numpy())\n",
    "\n",
    "\n"
   ]
  },
  {
   "cell_type": "code",
   "execution_count": 14,
   "metadata": {
    "ExecuteTime": {
     "end_time": "2020-10-31T09:12:09.200237Z",
     "start_time": "2020-10-31T09:11:46.675830Z"
    }
   },
   "outputs": [
    {
     "name": "stdout",
     "output_type": "stream",
     "text": [
      "20000\n",
      "test_average: 49.55684\n"
     ]
    }
   ],
   "source": [
    "loss_sum=0\n",
    "for i in range(len(X_test)):\n",
    "    pay , curve_o, o_star, uu_offender, uu_defender = net(time_frame, \n",
    "                            X_test[i][0], X_test[i][1])\n",
    "    loss_sum += float(pay)\n",
    "\n",
    "print(len(X_test))\n",
    "print(\"test_average: %.5f\" % (loss_sum/len(X_test) ))"
   ]
  },
  {
   "cell_type": "code",
   "execution_count": 15,
   "metadata": {
    "ExecuteTime": {
     "end_time": "2020-10-31T09:12:09.208215Z",
     "start_time": "2020-10-31T09:12:09.201199Z"
    }
   },
   "outputs": [],
   "source": [
    "torch.save(net, \"AMA_net_large_3\")"
   ]
  },
  {
   "cell_type": "code",
   "execution_count": null,
   "metadata": {},
   "outputs": [],
   "source": []
  }
 ],
 "metadata": {
  "kernelspec": {
   "display_name": "Python 3",
   "language": "python",
   "name": "python3"
  },
  "language_info": {
   "codemirror_mode": {
    "name": "ipython",
    "version": 3
   },
   "file_extension": ".py",
   "mimetype": "text/x-python",
   "name": "python",
   "nbconvert_exporter": "python",
   "pygments_lexer": "ipython3",
   "version": "3.8.3"
  },
  "toc": {
   "base_numbering": 1,
   "nav_menu": {},
   "number_sections": true,
   "sideBar": true,
   "skip_h1_title": false,
   "title_cell": "Table of Contents",
   "title_sidebar": "Contents",
   "toc_cell": false,
   "toc_position": {},
   "toc_section_display": true,
   "toc_window_display": false
  }
 },
 "nbformat": 4,
 "nbformat_minor": 4
}
