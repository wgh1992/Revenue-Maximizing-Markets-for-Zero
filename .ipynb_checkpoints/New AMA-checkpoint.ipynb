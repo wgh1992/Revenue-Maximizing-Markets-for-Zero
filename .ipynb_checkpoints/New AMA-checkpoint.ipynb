{
 "cells": [
  {
   "cell_type": "code",
   "execution_count": 2,
   "metadata": {
    "ExecuteTime": {
     "end_time": "2020-10-28T07:04:12.162175Z",
     "start_time": "2020-10-28T07:03:20.966904Z"
    }
   },
   "outputs": [
    {
     "name": "stdout",
     "output_type": "stream",
     "text": [
      "WARNING:tensorflow:From D:\\ComputerSoftwares\\Anaconda\\lib\\site-packages\\tensorflow\\python\\compat\\v2_compat.py:96: disable_resource_variables (from tensorflow.python.ops.variable_scope) is deprecated and will be removed in a future version.\n",
      "Instructions for updating:\n",
      "non-resource variables are not supported in the long term\n"
     ]
    }
   ],
   "source": [
    "import numpy as np\n",
    "import random\n",
    "import math\n",
    "from matplotlib import pyplot as plt\n",
    "from mpl_toolkits.mplot3d import Axes3D\n",
    "from sklearn.decomposition import PCA\n",
    "import matplotlib.pyplot as plt\n",
    "import math\n",
    "import scipy.stats as st\n",
    "from mpl_toolkits.mplot3d import Axes3D \n",
    "import matplotlib.pyplot as plt \n",
    "import numpy as np \n",
    "import scipy.io\n",
    "from sklearn.model_selection import train_test_split\n",
    "#print(trainingdata)\n",
    "\n",
    "import tensorflow.compat.v1 as tf\n",
    "#导入TensorFlow工具包并简称为tf\n",
    " \n",
    "from numpy.random import RandomState\n",
    "#导入numpy工具包，生成模拟数据集\n",
    "\n",
    "import tensorflow_probability as tfp\n",
    "tf.disable_v2_behavior()\n",
    "tf.compat.v1.disable_eager_execution()\n",
    "seed = 7\n",
    "np.random.seed(seed)"
   ]
  },
  {
   "cell_type": "code",
   "execution_count": 7,
   "metadata": {
    "ExecuteTime": {
     "end_time": "2020-10-28T07:22:37.459005Z",
     "start_time": "2020-10-28T07:22:37.231548Z"
    }
   },
   "outputs": [],
   "source": [
    "i = tf.constant(0)\n",
    "c = lambda i: tf.less(i, 10)\n",
    "b = lambda i: (tf.add(i, 1), )\n",
    "r = tf.while_loop(c, b, [i])\n",
    "\n",
    "i0 = tf.constant(0)\n",
    "m0 = tf.ones([2, 2])\n",
    "c = lambda i, m: i < 10\n",
    "b = lambda i, m: [i+1, tf.concat([m, m], axis=0)]\n",
    "d=tf.while_loop(\n",
    "    c, b, loop_vars=[i0, m0],\n",
    "    shape_invariants=[i0.get_shape(), tf.TensorShape([None, 2])])\n",
    "#saver = tf.compat.v1.train.Saver()\n",
    "#创建会话来运行TensorFlow程序\n",
    "\n",
    "sess = tf.compat.v1.Session()\n",
    "init_op = tf.compat.v1.global_variables_initializer()\n",
    "sess.run(init_op)\n",
    "writer= tf.compat.v1.summary.FileWriter('logs/',sess.graph)"
   ]
  },
  {
   "cell_type": "code",
   "execution_count": 8,
   "metadata": {
    "ExecuteTime": {
     "end_time": "2020-10-28T07:22:45.462563Z",
     "start_time": "2020-10-28T07:22:45.312774Z"
    }
   },
   "outputs": [
    {
     "data": {
      "text/plain": [
       "[10,\n",
       " array([[1., 1.],\n",
       "        [1., 1.],\n",
       "        [1., 1.],\n",
       "        ...,\n",
       "        [1., 1.],\n",
       "        [1., 1.],\n",
       "        [1., 1.]], dtype=float32)]"
      ]
     },
     "execution_count": 8,
     "metadata": {},
     "output_type": "execute_result"
    }
   ],
   "source": [
    "sess.run(r)\n",
    "sess.run(d)"
   ]
  },
  {
   "cell_type": "code",
   "execution_count": 16,
   "metadata": {
    "ExecuteTime": {
     "end_time": "2020-10-28T07:56:24.410530Z",
     "start_time": "2020-10-28T07:56:23.221359Z"
    }
   },
   "outputs": [
    {
     "name": "stdout",
     "output_type": "stream",
     "text": [
      "10000\n",
      "[10000 10001 10002 ... 19997 19998 19999]\n"
     ]
    }
   ],
   "source": [
    "import tensorflow as tf\n",
    "\n",
    "n = 10000\n",
    "x = tf.constant(list(range(n)))\n",
    "c = lambda i, x: i < n\n",
    "b = lambda i, x: (tf.compat.v1.Print(i + 1, [i]), tf.compat.v1.Print(x + 1,\n",
    "[i], \"x:\"))\n",
    "i, out = tf.while_loop(c, b, (0, x))\n",
    "with tf.compat.v1.Session() as sess:\n",
    "    print(sess.run(i))  # prints [0] ... [9999]\n",
    "\n",
    "    # The following line may increment the counter and x in parallel.\n",
    "    # The counter thread may get ahead of the other thread, but not the\n",
    "    # other way around. So you may see things like\n",
    "    # [9996] x:[9987]\n",
    "    # meaning that the counter thread is on iteration 9996,\n",
    "    # while the other thread is on iteration 9987\n",
    "    print(sess.run(out))"
   ]
  },
  {
   "cell_type": "code",
   "execution_count": 3,
   "metadata": {
    "ExecuteTime": {
     "end_time": "2020-10-28T03:09:43.269264Z",
     "start_time": "2020-10-28T03:09:40.768832Z"
    }
   },
   "outputs": [
    {
     "name": "stdout",
     "output_type": "stream",
     "text": [
      "[391.1958048    8.07743806]\n",
      "[[271.69199845  12.05608554]\n",
      " [ 85.35414143   6.78185943]\n",
      " [ 92.12115161   8.22734879]\n",
      " ...\n",
      " [303.15368136   3.59778968]\n",
      " [191.24357187   7.38312562]\n",
      " [163.77016144   3.63757603]]\n",
      "[271.69199845  85.35414143  92.12115161 ... 303.15368136 191.24357187\n",
      " 163.77016144]\n"
     ]
    },
    {
     "data": {
      "image/png": "[encoded data removed]",
      "text/plain": [
       "<Figure size 432x288 with 1 Axes>"
      ]
     },
     "metadata": {
      "needs_background": "light"
     },
     "output_type": "display_data"
    },
    {
     "data": {
      "image/png": "[encoded data removed]",
      "text/plain": [
       "<Figure size 432x288 with 1 Axes>"
      ]
     },
     "metadata": {
      "needs_background": "light"
     },
     "output_type": "display_data"
    }
   ],
   "source": [
    "agent_number_n=2\n",
    "exec(open('distribution1item_uniform.py').read())\n"
   ]
  },
  {
   "cell_type": "code",
   "execution_count": 7,
   "metadata": {
    "ExecuteTime": {
     "end_time": "2020-10-28T03:10:44.353788Z",
     "start_time": "2020-10-28T03:10:44.289927Z"
    }
   },
   "outputs": [
    {
     "name": "stdout",
     "output_type": "stream",
     "text": [
      "160000\n",
      "40000\n"
     ]
    }
   ],
   "source": [
    "X_train,  X_test = train_test_split(value_list, test_size=0.2, random_state=seed)\n",
    "\n",
    "dataset_size = len(X_train)\n",
    "print(dataset_size)\n",
    "\n",
    "print(len(X_test))"
   ]
  },
  {
   "cell_type": "code",
   "execution_count": 9,
   "metadata": {
    "ExecuteTime": {
     "end_time": "2020-10-28T03:11:36.954698Z",
     "start_time": "2020-10-28T03:11:36.951720Z"
    }
   },
   "outputs": [],
   "source": [
    "time_frame = np.linspace(0, 1, 1000)"
   ]
  },
  {
   "cell_type": "code",
   "execution_count": 11,
   "metadata": {
    "ExecuteTime": {
     "end_time": "2020-10-28T03:12:24.877028Z",
     "start_time": "2020-10-28T03:12:24.847778Z"
    }
   },
   "outputs": [
    {
     "name": "stdout",
     "output_type": "stream",
     "text": [
      "[array([398.39342498,   6.32399283]), array([3.37385503e+02, 8.37534352e-02]), array([124.80044305,   5.2755793 ]), array([238.55342152,   7.78026127]), array([197.18051727,   8.19516856]), array([132.83871216,  14.2786318 ]), array([162.47429703,  11.32321688]), array([326.6265138 ,   2.81981824]), array([245.3671308 ,   2.38230061]), array([393.1687767 ,   9.50473755]), array([107.16316573,  14.00899775]), array([204.85904463,   4.65829008]), array([261.89870333,   3.73374248]), array([286.19906296,   5.23592722]), array([49.31711705,  3.06186514]), array([3.18899287, 0.60329614]), array([98.97132145,  4.02199138]), array([72.69419857,  5.12589114]), array([139.14174737,   8.28123298]), array([252.13725494,  13.12339198]), array([29.61947474,  2.21604204]), array([10.77483047, 10.84407845]), array([48.73685661, 10.49513772]), array([215.97773523,  10.05330542]), array([110.42053015,   3.30234345]), array([166.26922968,  12.89741723]), array([314.87050244,   3.97216638]), array([67.95937705,  4.47181426]), array([194.4356846 ,   7.37776804]), array([106.44780779,   4.16830654]), array([158.63704763,   8.66179703]), array([28.64741127,  9.79584474]), array([ 7.18724813, 14.10466665]), array([50.03565479, 13.56215805]), array([323.46912517,  14.01323081]), array([74.23867542,  4.814314  ]), array([321.3847414 ,   3.85166123]), array([218.74862356,  14.82440444]), array([390.69009812,  13.0785882 ]), array([56.49058482,  9.86062349]), array([36.25457498, 10.18218974]), array([291.56875073,  10.41874343]), array([278.26649546,   5.36156155]), array([59.99464247,  8.94051637]), array([65.79672591,  2.14275158]), array([153.44186512,   6.11277177]), array([315.97126259,   5.24369887]), array([89.82206666, 11.61553998]), array([150.22969464,  12.97543984]), array([23.29595757,  3.29506199]), array([351.38583895,   7.47047264]), array([230.53155593,   0.32963874]), array([49.41018515,  2.11013797]), array([75.05822893, 12.50529528]), array([75.57094888,  3.94514536]), array([154.61726538,   4.12720805]), array([214.96535285,   1.68633093]), array([176.61096801,   9.59005176]), array([250.82556286,   9.89496502]), array([162.23635439,   3.83463547]), array([362.32662581,  10.35707845]), array([198.47135752,   2.30838073]), array([195.71570364,  10.73858073]), array([231.93263991,   8.65213767]), array([197.09695015,  10.76822839]), array([324.2799858 ,  14.86391872]), array([357.01033367,   7.2501397 ]), array([223.43088184,   8.96683483]), array([170.69915302,   4.69100293]), array([175.49488529,   1.27138039]), array([10.95521137,  3.13413292]), array([145.68658043,   3.53638164]), array([1.96829452e+02, 1.18362958e-02]), array([76.14104851,  4.52068781]), array([203.69578024,  12.57516413]), array([52.95687735, 12.34906599]), array([109.63370211,   4.68776308]), array([31.48986261, 13.20107621]), array([114.47888875,   5.74085617]), array([183.46691082,  14.29085457]), array([294.77382093,   4.0306669 ]), array([332.87631911,  14.40928228]), array([3.10175821, 7.04631738]), array([14.7680535 ,  1.09432405]), array([142.69216801,  12.9768378 ]), array([307.39989964,   3.34569798]), array([216.54396521,   5.70792241]), array([109.98399063,   4.22654953]), array([322.90502576,  12.33465648]), array([136.38428449,   4.63248048]), array([63.84703254,  8.78551387]), array([303.02972757,  14.69303974]), array([204.48324659,   0.36987603]), array([165.13241643,  14.74887461]), array([389.84531988,   5.90231999]), array([312.74290791,  12.88363023]), array([302.7015782 ,   3.95189859]), array([359.25800187,   2.51254234]), array([64.98043045,  9.20993756]), array([102.62179935,   4.39343195]), array([154.28753748,   8.59691367]), array([280.84630945,   7.93362839]), array([95.2354993 ,  2.16659009]), array([170.02674401,  13.905543  ]), array([304.53615492,   7.94336955]), array([223.95574643,  11.14482181]), array([164.55453381,   2.02475212]), array([57.13171947, 12.90446852]), array([240.6118312 ,   3.45917187]), array([388.84953224,  13.35759869]), array([271.13132124,  13.91728577]), array([150.2399022,   0.8873959]), array([189.17785694,   6.28145681]), array([213.89797353,   1.94776867]), array([202.08857905,   3.22772564]), array([149.57784512,   2.86205261]), array([261.69481609,   4.15863142]), array([381.65179653,   1.64367095]), array([270.84968841,   4.17687737]), array([108.36772007,   8.03538662]), array([333.13618819,  14.43116171]), array([77.97159313,  2.97025304]), array([72.01666484, 14.48363897]), array([378.81244034,   9.23095876]), array([56.66080684,  5.69191844]), array([367.47321569,   2.93965147]), array([367.92105194,   9.75335035]), array([9.83891967, 9.312209  ]), array([330.1190224 ,   6.68722734]), array([134.06009988,  11.621333  ]), array([215.88006981,   2.33854564]), array([303.69177376,  13.86123114]), array([364.10564508,   1.15001489]), array([115.67721302,   1.76706143]), array([33.84273887, 13.75301553]), array([261.37027695,  11.19112444]), array([2.09367753e+02, 1.71961882e-01]), array([313.08686419,  13.02440197]), array([66.08345436, 11.54140672]), array([26.54312636, 14.1162686 ]), array([172.81166988,  12.51440037]), array([182.00945572,   0.51215208]), array([35.08390698,  1.1322029 ]), array([351.25639338,   5.07488756]), array([199.05372453,  11.05600855]), array([21.76799692,  3.67494258]), array([378.95801416,   2.81849112]), array([185.48416162,   9.07612598]), array([32.40259417,  9.7649603 ]), array([173.44891579,   5.30139914]), array([297.6338318 ,  11.06869033]), array([330.27394652,   4.97301194]), array([61.85835157,  9.25503597]), array([215.63120537,   8.18836303]), array([192.93172692,  12.85714543]), array([184.86208859,  14.43185194]), array([115.28663124,   0.35476952]), array([259.70263768,   2.30501944]), array([344.49543586,  13.4509471 ]), array([83.55215341,  4.08588241]), array([161.16755532,  14.1808168 ]), array([105.4816503 ,   4.03498078]), array([225.06312677,   6.06707791]), array([247.45498919,  10.12389794]), array([198.05361478,   9.02056094]), array([18.63672624,  1.60710815]), array([37.53303113, 13.85841384]), array([1.48183233e+02, 5.27171650e-02]), array([115.2896708 ,   9.93376278]), array([139.63899434,   7.70561248]), array([394.39107775,   4.6825586 ]), array([180.24044537,   3.5419941 ]), array([222.73164717,  11.87585936]), array([394.77506644,  12.17528211]), array([26.51512594,  2.58717912]), array([352.32725153,   8.05893587]), array([282.19132703,  11.19481624]), array([306.35654103,   7.13079901]), array([68.62424563,  3.6829914 ]), array([74.0980223 , 14.37955275]), array([290.0097642 ,   6.45608461]), array([372.62900783,   1.39023243]), array([130.70866836,  14.50189599]), array([194.62904665,   3.49612182]), array([44.16126768, 10.62889852]), array([2.32945439, 7.82490064]), array([12.08457732,  3.53244982]), array([253.59696478,   7.05324017]), array([250.02822705,   8.13331423]), array([107.13871051,   6.76796315]), array([102.47034527,   3.51292537]), array([204.99277086,   2.14345618]), array([174.79793501,   6.64741635]), array([262.51149732,   9.33579995]), array([47.93160005, 11.98391333]), array([227.04397824,   6.1266044 ]), array([193.07647554,  11.55068683]), array([150.69225478,   7.58708615]), array([90.46041262,  6.80123964]), array([131.10518956,  12.75441117])]\n"
     ]
    }
   ],
   "source": [
    "print(X_train[:200])"
   ]
  },
  {
   "cell_type": "code",
   "execution_count": 43,
   "metadata": {
    "ExecuteTime": {
     "end_time": "2020-10-28T11:58:17.844900Z",
     "start_time": "2020-10-28T11:58:17.821955Z"
    }
   },
   "outputs": [
    {
     "ename": "AttributeError",
     "evalue": "module 'tensorflow' has no attribute 'truncated_normal'",
     "output_type": "error",
     "traceback": [
      "\u001b[1;31m---------------------------------------------------------------------------\u001b[0m",
      "\u001b[1;31mAttributeError\u001b[0m                            Traceback (most recent call last)",
      "\u001b[1;32m<ipython-input-43-e89548e85fa7>\u001b[0m in \u001b[0;36m<module>\u001b[1;34m\u001b[0m\n\u001b[0;32m      1\u001b[0m \u001b[0mtensor_number\u001b[0m\u001b[1;33m=\u001b[0m\u001b[1;36m100\u001b[0m\u001b[1;33m\u001b[0m\u001b[1;33m\u001b[0m\u001b[0m\n\u001b[1;32m----> 2\u001b[1;33m \u001b[0mw1\u001b[0m \u001b[1;33m=\u001b[0m \u001b[0mtf\u001b[0m\u001b[1;33m.\u001b[0m\u001b[0mVariable\u001b[0m\u001b[1;33m(\u001b[0m\u001b[0mtf\u001b[0m\u001b[1;33m.\u001b[0m\u001b[0mtruncated_normal\u001b[0m\u001b[1;33m(\u001b[0m\u001b[1;33m[\u001b[0m\u001b[1;36m1\u001b[0m\u001b[1;33m,\u001b[0m\u001b[0mtensor_number\u001b[0m\u001b[1;33m]\u001b[0m\u001b[1;33m,\u001b[0m\u001b[0mstddev\u001b[0m\u001b[1;33m=\u001b[0m\u001b[1;36m0.1\u001b[0m\u001b[1;33m)\u001b[0m\u001b[1;33m)\u001b[0m\u001b[1;33m\u001b[0m\u001b[1;33m\u001b[0m\u001b[0m\n\u001b[0m\u001b[0;32m      3\u001b[0m \u001b[0mw2\u001b[0m \u001b[1;33m=\u001b[0m \u001b[0mtf\u001b[0m\u001b[1;33m.\u001b[0m\u001b[0mVariable\u001b[0m\u001b[1;33m(\u001b[0m\u001b[0mtf\u001b[0m\u001b[1;33m.\u001b[0m\u001b[0mtruncated_normal\u001b[0m\u001b[1;33m(\u001b[0m\u001b[1;33m[\u001b[0m\u001b[0mtensor_number\u001b[0m\u001b[1;33m,\u001b[0m\u001b[0mtensor_number\u001b[0m\u001b[1;33m]\u001b[0m\u001b[1;33m,\u001b[0m\u001b[0mstddev\u001b[0m\u001b[1;33m=\u001b[0m\u001b[1;36m0.1\u001b[0m\u001b[1;33m)\u001b[0m\u001b[1;33m)\u001b[0m\u001b[1;33m\u001b[0m\u001b[1;33m\u001b[0m\u001b[0m\n\u001b[0;32m      4\u001b[0m \u001b[0mw3\u001b[0m \u001b[1;33m=\u001b[0m \u001b[0mtf\u001b[0m\u001b[1;33m.\u001b[0m\u001b[0mVariable\u001b[0m\u001b[1;33m(\u001b[0m\u001b[0mtf\u001b[0m\u001b[1;33m.\u001b[0m\u001b[0mtruncated_normal\u001b[0m\u001b[1;33m(\u001b[0m\u001b[1;33m[\u001b[0m\u001b[0mtensor_number\u001b[0m\u001b[1;33m,\u001b[0m\u001b[0mtensor_number\u001b[0m\u001b[1;33m]\u001b[0m\u001b[1;33m,\u001b[0m\u001b[0mstddev\u001b[0m\u001b[1;33m=\u001b[0m\u001b[1;36m0.1\u001b[0m\u001b[1;33m)\u001b[0m\u001b[1;33m)\u001b[0m\u001b[1;33m\u001b[0m\u001b[1;33m\u001b[0m\u001b[0m\n\u001b[0;32m      5\u001b[0m \u001b[0mw4\u001b[0m \u001b[1;33m=\u001b[0m \u001b[0mtf\u001b[0m\u001b[1;33m.\u001b[0m\u001b[0mVariable\u001b[0m\u001b[1;33m(\u001b[0m\u001b[0mtf\u001b[0m\u001b[1;33m.\u001b[0m\u001b[0mtruncated_normal\u001b[0m\u001b[1;33m(\u001b[0m\u001b[1;33m[\u001b[0m\u001b[0mtensor_number\u001b[0m\u001b[1;33m,\u001b[0m\u001b[0mtensor_number\u001b[0m\u001b[1;33m]\u001b[0m\u001b[1;33m,\u001b[0m\u001b[0mstddev\u001b[0m\u001b[1;33m=\u001b[0m\u001b[1;36m0.1\u001b[0m\u001b[1;33m)\u001b[0m\u001b[1;33m)\u001b[0m\u001b[1;33m\u001b[0m\u001b[1;33m\u001b[0m\u001b[0m\n",
      "\u001b[1;31mAttributeError\u001b[0m: module 'tensorflow' has no attribute 'truncated_normal'"
     ]
    }
   ],
   "source": [
    "tensor_number=100\n",
    "w1 = tf.Variable(tf.truncated_normal([1,tensor_number],stddev=0.1))\n",
    "w2 = tf.Variable(tf.truncated_normal([tensor_number,tensor_number],stddev=0.1))\n",
    "w3 = tf.Variable(tf.truncated_normal([tensor_number,tensor_number],stddev=0.1))\n",
    "w4 = tf.Variable(tf.truncated_normal([tensor_number,tensor_number],stddev=0.1))\n",
    "w5 = tf.Variable(tf.truncated_normal([tensor_number,tensor_number],stddev=0.1))\n",
    "w6 = tf.Variable(tf.truncated_normal([tensor_number,1],stddev=0.1))\n",
    "\n",
    "\n",
    "biases1 = tf.Variable(tf.zeros([1,tensor_number])+0.01)\n",
    "biases2 = tf.Variable(tf.zeros([1,tensor_number])+0.01)\n",
    "biases3 = tf.Variable(tf.zeros([1,tensor_number])+0.01)\n",
    "biases4 = tf.Variable(tf.zeros([1,tensor_number])+0.01)\n",
    "biases5 = tf.Variable(tf.zeros([1,tensor_number])+0.01)\n",
    "biases6 = tf.Variable(tf.zeros([1,1])+0.01)\n",
    "\n",
    "with tf.name_scope('input'):\n",
    "    input_value1 = tf.placeholder(tf.float32,shape=(None,1),name='x-input1')\n",
    "    input_value2 = tf.placeholder(tf.float32,shape=(None,1),name='x-input2')"
   ]
  },
  {
   "cell_type": "code",
   "execution_count": 44,
   "metadata": {
    "ExecuteTime": {
     "end_time": "2020-10-28T11:58:18.131505Z",
     "start_time": "2020-10-28T11:58:18.113983Z"
    }
   },
   "outputs": [
    {
     "ename": "NameError",
     "evalue": "name 'input_value1' is not defined",
     "output_type": "error",
     "traceback": [
      "\u001b[1;31m---------------------------------------------------------------------------\u001b[0m",
      "\u001b[1;31mNameError\u001b[0m                                 Traceback (most recent call last)",
      "\u001b[1;32m<ipython-input-44-564a236d970c>\u001b[0m in \u001b[0;36m<module>\u001b[1;34m\u001b[0m\n\u001b[1;32m----> 1\u001b[1;33m \u001b[0mx1\u001b[0m \u001b[1;33m=\u001b[0m \u001b[0mtf\u001b[0m\u001b[1;33m.\u001b[0m\u001b[0mnn\u001b[0m\u001b[1;33m.\u001b[0m\u001b[0mrelu\u001b[0m\u001b[1;33m(\u001b[0m\u001b[0mtf\u001b[0m\u001b[1;33m.\u001b[0m\u001b[0mmatmul\u001b[0m\u001b[1;33m(\u001b[0m\u001b[1;33m[\u001b[0m\u001b[0minput_value1\u001b[0m\u001b[1;33m]\u001b[0m\u001b[1;33m,\u001b[0m\u001b[0mw1\u001b[0m\u001b[1;33m)\u001b[0m\u001b[1;33m)\u001b[0m\u001b[1;33m+\u001b[0m\u001b[0mbiases1\u001b[0m\u001b[1;33m\u001b[0m\u001b[1;33m\u001b[0m\u001b[0m\n\u001b[0m\u001b[0;32m      2\u001b[0m \u001b[0mx2\u001b[0m \u001b[1;33m=\u001b[0m \u001b[0mtf\u001b[0m\u001b[1;33m.\u001b[0m\u001b[0mnn\u001b[0m\u001b[1;33m.\u001b[0m\u001b[0mrelu\u001b[0m\u001b[1;33m(\u001b[0m\u001b[0mtf\u001b[0m\u001b[1;33m.\u001b[0m\u001b[0mmatmul\u001b[0m\u001b[1;33m(\u001b[0m\u001b[0mx1\u001b[0m\u001b[1;33m,\u001b[0m\u001b[0mw2\u001b[0m\u001b[1;33m)\u001b[0m\u001b[1;33m)\u001b[0m\u001b[1;33m+\u001b[0m\u001b[0mbiases2\u001b[0m\u001b[1;33m\u001b[0m\u001b[1;33m\u001b[0m\u001b[0m\n\u001b[0;32m      3\u001b[0m \u001b[0mx3\u001b[0m \u001b[1;33m=\u001b[0m \u001b[0mtf\u001b[0m\u001b[1;33m.\u001b[0m\u001b[0mnn\u001b[0m\u001b[1;33m.\u001b[0m\u001b[0mrelu\u001b[0m\u001b[1;33m(\u001b[0m\u001b[0mtf\u001b[0m\u001b[1;33m.\u001b[0m\u001b[0mmatmul\u001b[0m\u001b[1;33m(\u001b[0m\u001b[0mx2\u001b[0m\u001b[1;33m,\u001b[0m\u001b[0mw3\u001b[0m\u001b[1;33m)\u001b[0m\u001b[1;33m)\u001b[0m\u001b[1;33m+\u001b[0m\u001b[0mbiases3\u001b[0m\u001b[1;33m\u001b[0m\u001b[1;33m\u001b[0m\u001b[0m\n\u001b[0;32m      4\u001b[0m \u001b[0mx4\u001b[0m \u001b[1;33m=\u001b[0m \u001b[0mtf\u001b[0m\u001b[1;33m.\u001b[0m\u001b[0mnn\u001b[0m\u001b[1;33m.\u001b[0m\u001b[0mrelu\u001b[0m\u001b[1;33m(\u001b[0m\u001b[0mtf\u001b[0m\u001b[1;33m.\u001b[0m\u001b[0mmatmul\u001b[0m\u001b[1;33m(\u001b[0m\u001b[0mx3\u001b[0m\u001b[1;33m,\u001b[0m\u001b[0mw4\u001b[0m\u001b[1;33m)\u001b[0m\u001b[1;33m)\u001b[0m\u001b[1;33m+\u001b[0m\u001b[0mbiases4\u001b[0m\u001b[1;33m\u001b[0m\u001b[1;33m\u001b[0m\u001b[0m\n\u001b[0;32m      5\u001b[0m \u001b[0mx5\u001b[0m \u001b[1;33m=\u001b[0m \u001b[0mtf\u001b[0m\u001b[1;33m.\u001b[0m\u001b[0mnn\u001b[0m\u001b[1;33m.\u001b[0m\u001b[0mrelu\u001b[0m\u001b[1;33m(\u001b[0m\u001b[0mtf\u001b[0m\u001b[1;33m.\u001b[0m\u001b[0mmatmul\u001b[0m\u001b[1;33m(\u001b[0m\u001b[0mx4\u001b[0m\u001b[1;33m,\u001b[0m\u001b[0mw5\u001b[0m\u001b[1;33m)\u001b[0m\u001b[1;33m)\u001b[0m\u001b[1;33m+\u001b[0m\u001b[0mbiases5\u001b[0m\u001b[1;33m\u001b[0m\u001b[1;33m\u001b[0m\u001b[0m\n",
      "\u001b[1;31mNameError\u001b[0m: name 'input_value1' is not defined"
     ]
    }
   ],
   "source": [
    "x1 = tf.nn.relu(tf.matmul([input_value1],w1))+biases1\n",
    "x2 = tf.nn.relu(tf.matmul(x1,w2))+biases2\n",
    "x3 = tf.nn.relu(tf.matmul(x2,w3))+biases3\n",
    "x4 = tf.nn.relu(tf.matmul(x3,w4))+biases4\n",
    "x5 = tf.nn.relu(tf.matmul(x4,w5))+biases5\n",
    "y1 = tf.nn.tanh(tf.matmul(x5,w6)+biases6)\n",
    "ao =  y1                                                           "
   ]
  },
  {
   "cell_type": "code",
   "execution_count": null,
   "metadata": {},
   "outputs": [],
   "source": []
  },
  {
   "cell_type": "code",
   "execution_count": 38,
   "metadata": {
    "ExecuteTime": {
     "end_time": "2020-10-28T10:59:35.064451Z",
     "start_time": "2020-10-28T10:59:34.663504Z"
    }
   },
   "outputs": [
    {
     "name": "stdout",
     "output_type": "stream",
     "text": [
      "(10000, array([  0, 199,   0, ..., 199,   0, 199]))\n",
      "0\n",
      "1\n"
     ]
    }
   ],
   "source": [
    "nn = 1000\n",
    "xx = tf.constant(list(range(n)))\n",
    "condition = lambda i, xx: i < n\n",
    "body = lambda i, xx: ( i + 1, xx*(200-xx) )\n",
    "i, out = tf.while_loop(condition, body, (0, 0))\n",
    "O_star=tf.math.argmax(tf.while_loop(condition, body, (0, xx))[1])\n",
    "\n",
    "with tf.compat.v1.Session() as sess:\n",
    "    print(sess.run(tf.while_loop(condition, body, (0, xx))))  # prints [0] ... [9999]\n",
    "\n",
    "    print(sess.run(out))\n",
    "    print(sess.run(O_star))\n",
    "\n",
    "    "
   ]
  },
  {
   "cell_type": "code",
   "execution_count": 6,
   "metadata": {
    "ExecuteTime": {
     "end_time": "2020-10-28T03:09:44.631888Z",
     "start_time": "2020-10-28T03:09:43.391019Z"
    }
   },
   "outputs": [
    {
     "ename": "NameError",
     "evalue": "name 't' is not defined",
     "output_type": "error",
     "traceback": [
      "\u001b[1;31m---------------------------------------------------------------------------\u001b[0m",
      "\u001b[1;31mNameError\u001b[0m                                 Traceback (most recent call last)",
      "\u001b[1;32m<ipython-input-6-60bb2b8e6ad7>\u001b[0m in \u001b[0;36m<module>\u001b[1;34m\u001b[0m\n\u001b[1;32m----> 1\u001b[1;33m \u001b[1;32mclass\u001b[0m \u001b[0mLambda\u001b[0m\u001b[1;33m(\u001b[0m\u001b[0mt\u001b[0m\u001b[1;33m.\u001b[0m\u001b[0mnn\u001b[0m\u001b[1;33m.\u001b[0m\u001b[0mModule\u001b[0m\u001b[1;33m)\u001b[0m\u001b[1;33m:\u001b[0m\u001b[1;33m\u001b[0m\u001b[1;33m\u001b[0m\u001b[0m\n\u001b[0m\u001b[0;32m      2\u001b[0m     \u001b[1;32mdef\u001b[0m \u001b[0m__init__\u001b[0m\u001b[1;33m(\u001b[0m\u001b[0mself\u001b[0m\u001b[1;33m,\u001b[0m \u001b[0mnum_input\u001b[0m\u001b[1;33m,\u001b[0m \u001b[0mnum_hidden\u001b[0m\u001b[1;33m,\u001b[0m \u001b[0mnum_output\u001b[0m\u001b[1;33m)\u001b[0m\u001b[1;33m:\u001b[0m\u001b[1;33m\u001b[0m\u001b[1;33m\u001b[0m\u001b[0m\n\u001b[0;32m      3\u001b[0m \u001b[1;33m\u001b[0m\u001b[0m\n\u001b[0;32m      4\u001b[0m         \u001b[0msuper\u001b[0m\u001b[1;33m(\u001b[0m\u001b[0mLambda\u001b[0m\u001b[1;33m,\u001b[0m \u001b[0mself\u001b[0m\u001b[1;33m)\u001b[0m\u001b[1;33m.\u001b[0m\u001b[0m__init__\u001b[0m\u001b[1;33m(\u001b[0m\u001b[1;33m)\u001b[0m\u001b[1;33m\u001b[0m\u001b[1;33m\u001b[0m\u001b[0m\n\u001b[0;32m      5\u001b[0m         \u001b[0mself\u001b[0m\u001b[1;33m.\u001b[0m\u001b[0mu_off\u001b[0m \u001b[1;33m=\u001b[0m \u001b[0mVar\u001b[0m\u001b[1;33m(\u001b[0m\u001b[0mt\u001b[0m\u001b[1;33m.\u001b[0m\u001b[0mTensor\u001b[0m\u001b[1;33m(\u001b[0m\u001b[1;33m[\u001b[0m\u001b[1;36m1.0\u001b[0m\u001b[1;33m]\u001b[0m\u001b[1;33m)\u001b[0m\u001b[1;33m,\u001b[0m \u001b[0mrequires_grad\u001b[0m\u001b[1;33m=\u001b[0m\u001b[1;32mTrue\u001b[0m\u001b[1;33m)\u001b[0m\u001b[1;33m\u001b[0m\u001b[1;33m\u001b[0m\u001b[0m\n",
      "\u001b[1;31mNameError\u001b[0m: name 't' is not defined"
     ]
    }
   ],
   "source": [
    "class Lambda(t.nn.Module):\n",
    "    def __init__(self, num_input, num_hidden, num_output):\n",
    "\n",
    "        super(Lambda, self).__init__()\n",
    "        self.u_off = Var(t.Tensor([1.0]), requires_grad=True)\n",
    "        self.u_off = t.nn.Parameter(self.u_off).cuda()\n",
    "        self.u_def = Var(t.Tensor([3.0]), requires_grad=True)\n",
    "        self.u_def = t.nn.Parameter(self.u_def).cuda()\n",
    "\n",
    "        self.hidden = t.nn.Linear(num_input, num_hidden)\n",
    "        self.hidden_plus = t.nn.Linear(num_hidden, num_hidden)\n",
    "        self.hidden_deep = t.nn.Linear(num_hidden, num_hidden)\n",
    "        self.output = t.nn.Linear(num_hidden, num_output)\n",
    "\n",
    "        self.hidden = self.hidden.cuda()\n",
    "        self.hidden_plus = self.hidden_plus.cuda()\n",
    "        self.hidden_deep = self.hidden_deep.cuda()\n",
    "        self.output = self.output.cuda()\n",
    "\n",
    "    def forward(self, x, type_off, type_def):\n",
    "\n",
    "        h = t.sigmoid(self.hidden(x))\n",
    "        h = t.relu_(self.hidden_plus(h))\n",
    "        h = t.sigmoid(self.hidden_deep(h))\n",
    "        o = self.output(h)\n",
    "\n",
    "        val_off, val_def = valuation(type_off, type_def, x)\n",
    "        val_off *= self.u_off\n",
    "        val_def *= self.u_def\n",
    "\n",
    "        val_off += o\n",
    "        val_def += o\n",
    "\n",
    "        max_off, max_t_off = val_off.max(0)\n",
    "        max_def, max_t_def = val_def.max(0)\n",
    "\n",
    "        val_sum = val_off + val_def\n",
    "        max_val, t_end = val_sum.max(0)\n",
    "        end_val_off = val_off[int(t_end)]\n",
    "        end_val_def = val_def[int(t_end)]\n",
    "\n",
    "        pay_off = min((max_def - end_val_def) / self.u_off, type_off)\n",
    "        pay_def = min((max_off - end_val_off) / self.u_def, type_def)\n",
    "        payment = pay_off + pay_def\n",
    "\n",
    "        return payment, o, x[int(t_end)]\n",
    "\n",
    "\n"
   ]
  },
  {
   "cell_type": "code",
   "execution_count": null,
   "metadata": {
    "ExecuteTime": {
     "end_time": "2020-10-28T03:09:44.632852Z",
     "start_time": "2020-10-28T03:09:36.814Z"
    }
   },
   "outputs": [],
   "source": [
    "random.seed(2000)\n",
    "t.manual_seed(256)\n",
    "time_frame = t.linspace(0, 1, 1000)\n",
    "time_frame = t.unsqueeze(time_frame, dim=1)\n",
    "time_frame = Var(time_frame)\n",
    "time_frame = time_frame.cuda()\n",
    "lamb = Lambda(1, 100, 1)\n",
    "\n",
    "print(time_frame)"
   ]
  },
  {
   "cell_type": "code",
   "execution_count": null,
   "metadata": {
    "ExecuteTime": {
     "end_time": "2020-10-28T03:09:44.633850Z",
     "start_time": "2020-10-28T03:09:36.815Z"
    }
   },
   "outputs": [],
   "source": [
    "optimizer = opt.RMSprop(lamb.parameters(), lr=0.0001, alpha=0.9)\n",
    "optimizer = opt.SGD(lamb.parameters(), lr=0.01)\n",
    "# optimizer = opt.Adam(lamb.parameters(), lr=0.0001, betas=(0.9, 0.99))\n",
    "\n",
    "\n",
    "batch_size = 64\n",
    "batch_length = int(math.sqrt(batch_size))\n",
    "t_off = np.linspace(0, 400, batch_length)\n",
    "t_def = np.linspace(0, 15, batch_length)\n",
    "index_train = []\n",
    "for i in range(batch_length):\n",
    "    for j in range(batch_length):\n",
    "        index_train.append([t_off[i], t_def[j]])\n",
    "\n",
    "echo = 10000"
   ]
  },
  {
   "cell_type": "code",
   "execution_count": null,
   "metadata": {
    "ExecuteTime": {
     "end_time": "2020-10-28T03:09:44.634846Z",
     "start_time": "2020-10-28T03:09:36.817Z"
    }
   },
   "outputs": [],
   "source": [
    "print(index_train)"
   ]
  },
  {
   "cell_type": "code",
   "execution_count": null,
   "metadata": {
    "ExecuteTime": {
     "end_time": "2020-10-28T03:09:44.635845Z",
     "start_time": "2020-10-28T03:09:36.818Z"
    }
   },
   "outputs": [],
   "source": [
    "print(index_train)"
   ]
  },
  {
   "cell_type": "code",
   "execution_count": null,
   "metadata": {
    "ExecuteTime": {
     "end_time": "2020-10-28T03:09:44.636842Z",
     "start_time": "2020-10-28T03:09:36.819Z"
    }
   },
   "outputs": [],
   "source": [
    "\n",
    "\n",
    "\n",
    "for i in range(echo):\n",
    "\n",
    "    # offender_types = []\n",
    "    # defender_types = []\n",
    "    loss_sum = 0\n",
    "    \"\"\"\n",
    "    for j in range(batch_size):\n",
    "        offender_types.append(random.randint(0, 400))\n",
    "        defender_types.append(random.randint(0, 15))\n",
    "    \"\"\"\n",
    "    for j in range(batch_size):\n",
    "        p, curve, te = lamb(time_frame, index_train[j][0], index_train[j][1])\n",
    "        loss_sum += p\n",
    "\n",
    "    loss = loss_function(loss_sum / batch_size)\n",
    "    optimizer.zero_grad()\n",
    "    loss.backward()\n",
    "    optimizer.step()\n",
    "\n",
    "    if i % 5 == 0:\n",
    "        # offender_types = sum(offender_types) / batch_size\n",
    "        # defender_types = sum(defender_types) / batch_size\n",
    "        loss_sum = loss_sum[0].data / batch_size\n",
    "        # print(offender_types, defender_types, loss_sum)\n",
    "        print(\"%.5f\" % loss_sum.item())\n",
    "\n",
    "        plt.cla()\n",
    "        plt.axvline(te.cpu().data)\n",
    "        plt.plot(time_frame.cpu().data.numpy(), curve.cpu().data.numpy())\n",
    "        plt.text(\n",
    "            0.5,\n",
    "            0,\n",
    "            \"Loss=%.4f\" % (loss.cpu().data.numpy()),\n",
    "            fontdict={\"size\": 20, \"color\": \"red\"},\n",
    "        )\n",
    "        plt.pause(0.03)"
   ]
  },
  {
   "cell_type": "code",
   "execution_count": null,
   "metadata": {},
   "outputs": [],
   "source": []
  }
 ],
 "metadata": {
  "kernelspec": {
   "display_name": "Python 3",
   "language": "python",
   "name": "python3"
  },
  "language_info": {
   "codemirror_mode": {
    "name": "ipython",
    "version": 3
   },
   "file_extension": ".py",
   "mimetype": "text/x-python",
   "name": "python",
   "nbconvert_exporter": "python",
   "pygments_lexer": "ipython3",
   "version": "3.8.3"
  },
  "toc": {
   "base_numbering": 1,
   "nav_menu": {},
   "number_sections": true,
   "sideBar": true,
   "skip_h1_title": false,
   "title_cell": "Table of Contents",
   "title_sidebar": "Contents",
   "toc_cell": false,
   "toc_position": {},
   "toc_section_display": true,
   "toc_window_display": false
  }
 },
 "nbformat": 4,
 "nbformat_minor": 4
}
