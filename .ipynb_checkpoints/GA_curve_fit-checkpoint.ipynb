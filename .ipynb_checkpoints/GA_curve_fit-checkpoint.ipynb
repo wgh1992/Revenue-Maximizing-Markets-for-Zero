{
 "cells": [
  {
   "cell_type": "code",
   "execution_count": 1,
   "metadata": {
    "ExecuteTime": {
     "end_time": "2021-04-25T14:29:59.308994Z",
     "start_time": "2021-04-25T14:29:57.922222Z"
    }
   },
   "outputs": [
    {
     "name": "stderr",
     "output_type": "stream",
     "text": [
      "D:\\ComputerSoftwares\\Anaconda\\lib\\site-packages\\sklearn\\utils\\deprecation.py:143: FutureWarning: The sklearn.datasets.samples_generator module is  deprecated in version 0.22 and will be removed in version 0.24. The corresponding classes / functions should instead be imported from sklearn.datasets. Anything that cannot be imported from sklearn.datasets is now part of the private API.\n",
      "  warnings.warn(message, FutureWarning)\n"
     ]
    }
   ],
   "source": [
    "import math\n",
    "import random\n",
    "import torch\n",
    "import numpy as np\n",
    "import torch.nn.functional\n",
    "import matplotlib.pyplot as plt\n",
    "import torch.optim as opt\n",
    "from torch.autograd import Variable\n",
    "from sklearn.model_selection import train_test_split\n",
    "import copy\n",
    "import scipy.stats as st\n",
    "from sklearn.datasets.samples_generator import make_blobs\n",
    "from matplotlib.colors import LogNorm \n",
    "import matplotlib.cm as cm\n",
    "import numpy as np, random, operator, pandas as pd, matplotlib.pyplot as plt\n",
    "from collections import deque\n",
    "import scipy\n",
    "import time"
   ]
  },
  {
   "cell_type": "code",
   "execution_count": 2,
   "metadata": {
    "ExecuteTime": {
     "end_time": "2021-04-25T14:29:59.324352Z",
     "start_time": "2021-04-25T14:29:59.308994Z"
    }
   },
   "outputs": [],
   "source": [
    "#global veriable \n",
    "Uniform_low_bound=0\n",
    "Uniform_up_bound=1\n",
    "\n",
    "number_of_groups=2\n",
    "global_divide_number = 30\n",
    "Normal_loc=0.5\n",
    "Normal_scale=0.2\n",
    "Normal_loc1=0.3\n",
    "Normal_loc2=0.7\n",
    "Normal_scale1=0.1\n",
    "Normal_scale2=0.1\n",
    "Distribution_number=10000"
   ]
  },
  {
   "cell_type": "code",
   "execution_count": 3,
   "metadata": {
    "ExecuteTime": {
     "end_time": "2021-04-25T14:29:59.340406Z",
     "start_time": "2021-04-25T14:29:59.327340Z"
    }
   },
   "outputs": [],
   "source": [
    "popSize = 100\n",
    "eliteSize = 15\n",
    "mutationRate = 0.2\n",
    "generations = 60\n",
    "test_fitness_number = 100\n",
    "\n",
    "\n",
    "global NeighborhoodRate\n",
    "NeighborhoodRate = 0.1"
   ]
  },
  {
   "cell_type": "code",
   "execution_count": 4,
   "metadata": {
    "ExecuteTime": {
     "end_time": "2021-04-25T14:30:02.078530Z",
     "start_time": "2021-04-25T14:29:59.341607Z"
    }
   },
   "outputs": [
    {
     "name": "stdout",
     "output_type": "stream",
     "text": [
      "[391.1958048    8.07743806]\n",
      "[[271.69199845  12.05608554]\n",
      " [ 85.35414143   6.78185943]\n",
      " [ 92.12115161   8.22734879]\n",
      " ...\n",
      " [303.15368136   3.59778968]\n",
      " [191.24357187   7.38312562]\n",
      " [163.77016144   3.63757603]]\n",
      "[271.69199845  85.35414143  92.12115161 ... 303.15368136 191.24357187\n",
      " 163.77016144]\n"
     ]
    },
    {
     "data": {
      "image/png": "[encoded data removed]",
      "text/plain": [
       "<Figure size 432x288 with 1 Axes>"
      ]
     },
     "metadata": {
      "needs_background": "light"
     },
     "output_type": "display_data"
    },
    {
     "data": {
      "image/png": "[encoded data removed]",
      "text/plain": [
       "<Figure size 432x288 with 1 Axes>"
      ]
     },
     "metadata": {
      "needs_background": "light"
     },
     "output_type": "display_data"
    },
    {
     "name": "stdout",
     "output_type": "stream",
     "text": [
      "100000\n",
      "[[3.10811920e+02 5.21631097e+00]\n",
      " [8.61226170e-01 6.63691438e+00]\n",
      " [2.95603823e+00 1.44399471e+01]\n",
      " [4.93728627e+01 4.86427577e+00]\n",
      " [2.62173548e+02 1.00846450e+00]\n",
      " [1.40108567e+02 9.98630337e+00]\n",
      " [4.59771295e+01 4.14795056e+00]\n",
      " [2.78786783e+02 4.43510427e+00]\n",
      " [1.09260416e+02 2.12982929e+00]\n",
      " [3.74892787e+02 1.24830897e+00]\n",
      " [4.35363480e+01 2.82198280e+00]\n",
      " [3.51880012e+02 2.35325222e+00]\n",
      " [1.29745097e+02 1.22779831e+01]\n",
      " [3.20378740e+02 1.04930405e+00]\n",
      " [2.00691820e+02 1.18857497e+01]\n",
      " [1.78737319e+02 6.40578459e+00]\n",
      " [2.83516693e+02 4.75052720e+00]\n",
      " [1.50997313e+02 7.96806650e+00]\n",
      " [1.40213013e+02 1.44715237e+00]\n",
      " [3.51742787e+02 9.27805788e+00]\n",
      " [2.78329570e+02 7.03372574e+00]\n",
      " [1.51062135e+02 1.02240879e+00]\n",
      " [2.86662452e+02 3.01750725e+00]\n",
      " [5.87618795e+01 1.27603248e+00]\n",
      " [9.61851227e+01 4.38462447e+00]\n",
      " [3.28389184e+02 4.44544857e+00]\n",
      " [3.04445294e+02 1.33037485e+01]\n",
      " [1.98457112e+02 9.38581533e+00]\n",
      " [3.01675273e+02 1.44465706e+01]\n",
      " [1.05358945e+02 9.60916779e+00]\n",
      " [1.15239025e+02 3.30060220e+00]\n",
      " [1.68153447e+02 3.37068951e+00]\n",
      " [1.35960931e+02 2.59272728e+00]\n",
      " [3.48348493e+02 1.09486257e+01]\n",
      " [1.27026195e+01 2.57897002e+00]\n",
      " [1.90147542e+02 1.08218791e+00]\n",
      " [6.87084630e+01 1.09173057e+01]\n",
      " [1.41318493e+02 4.27312889e+00]\n",
      " [9.74820537e+01 4.78208679e+00]\n",
      " [2.92574840e+02 1.42636417e+01]\n",
      " [3.92262780e+02 2.44442348e+00]\n",
      " [6.11737017e+01 1.19715885e+01]\n",
      " [1.41860473e+02 1.73687927e+00]\n",
      " [6.86423188e+01 5.43330938e+00]\n",
      " [7.68601249e+01 1.31854853e+01]\n",
      " [3.91162240e+02 8.95316029e+00]\n",
      " [9.34853613e+01 1.15138902e+00]\n",
      " [3.80668101e+01 3.63677631e+00]\n",
      " [8.11020152e+01 7.70844951e+00]\n",
      " [1.97473976e+02 1.20343908e+01]\n",
      " [3.62951087e+02 5.58386650e+00]\n",
      " [1.50237093e+02 3.56934359e-01]\n",
      " [7.33235119e+01 3.53645437e+00]\n",
      " [7.96863422e+01 1.21727240e+01]\n",
      " [1.34999317e+02 1.45217276e+01]\n",
      " [7.74413126e+01 7.48647100e+00]\n",
      " [8.17692650e+01 1.45199881e+01]\n",
      " [1.96038084e+02 6.66427962e+00]\n",
      " [3.27458781e+01 1.13795745e+01]\n",
      " [2.97121438e+02 3.47953203e-02]\n",
      " [3.87147562e+02 7.05359502e+00]\n",
      " [1.51181639e+02 1.54013902e+00]\n",
      " [2.03578265e+02 1.21182695e+01]\n",
      " [3.59744253e+01 9.30021527e-01]\n",
      " [3.60370403e+02 1.33627177e+01]\n",
      " [1.31155375e+02 9.90580652e+00]\n",
      " [1.01288213e+02 5.72111300e+00]\n",
      " [3.95123726e+02 1.22014927e+01]\n",
      " [4.54365509e+01 7.56668791e-01]\n",
      " [3.76801625e+02 1.48149723e+01]\n",
      " [1.67556176e+02 2.73477489e+00]\n",
      " [1.01670674e+02 1.24614686e+00]\n",
      " [5.46801829e+01 1.20074127e+01]\n",
      " [2.02147975e+02 1.93697494e+00]\n",
      " [1.53153178e+02 1.89975024e+00]\n",
      " [3.56412056e+02 1.16353976e+01]\n",
      " [3.79082085e+02 8.73060827e+00]\n",
      " [2.23890849e+02 2.56846177e+00]\n",
      " [2.87280019e+02 9.38251122e+00]\n",
      " [1.00011041e+02 1.28655163e+01]\n",
      " [9.68376118e+01 1.04602912e+01]\n",
      " [3.88521601e+02 2.51239002e+00]\n",
      " [2.14507461e+02 7.93322560e+00]\n",
      " [3.67043747e+02 3.03592543e+00]\n",
      " [3.92423264e+01 1.01931483e+01]\n",
      " [9.79096925e+01 4.72645960e+00]\n",
      " [9.95340001e+01 1.22104529e+00]\n",
      " [9.05296926e+01 1.90009245e+00]\n",
      " [1.60205364e+02 1.88555855e+00]\n",
      " [3.44176897e+02 9.40242189e+00]\n",
      " [3.07058894e+02 1.46419948e+01]\n",
      " [1.82384375e+02 8.52628890e+00]\n",
      " [2.51117870e+02 6.16918940e+00]\n",
      " [1.31732726e+02 8.98338955e+00]\n",
      " [2.05245778e+02 1.21855425e+01]\n",
      " [1.74787607e+02 1.37238537e+01]\n",
      " [1.96829885e+02 1.13384844e+01]\n",
      " [9.68451220e+00 1.25769995e+01]\n",
      " [3.24696629e+02 8.56967849e+00]\n",
      " [7.91569189e+01 5.82658284e+00]]\n",
      "100000\n"
     ]
    }
   ],
   "source": [
    "Agent_number_n = agent_number_n = 2\n",
    "seed = 7\n",
    "np.random.seed(seed)\n",
    "exec(open('distribution1item_uniform.py').read())\n",
    "\n",
    "X_train,  X_test = train_test_split(value_list, test_size=0.5, random_state=seed)\n",
    "\n",
    "X_train=np.array(X_train)\n",
    "X_test=np.array(X_test)\n",
    "dataset_size = len(X_train)\n",
    "print(dataset_size)\n",
    "print(X_train[:100])\n",
    "print(len(X_test))\n",
    "\n"
   ]
  },
  {
   "cell_type": "code",
   "execution_count": 5,
   "metadata": {
    "ExecuteTime": {
     "end_time": "2021-04-25T14:30:02.094461Z",
     "start_time": "2021-04-25T14:30:02.080499Z"
    }
   },
   "outputs": [
    {
     "name": "stdout",
     "output_type": "stream",
     "text": [
      "[0.         0.03333333 0.06666667 0.1        0.13333333 0.16666667\n",
      " 0.2        0.23333333 0.26666667 0.3        0.33333333 0.36666667\n",
      " 0.4        0.43333333 0.46666667 0.5        0.53333333 0.56666667\n",
      " 0.6        0.63333333 0.66666667 0.7        0.73333333 0.76666667\n",
      " 0.8        0.83333333 0.86666667 0.9        0.93333333 0.96666667\n",
      " 1.        ]\n"
     ]
    }
   ],
   "source": [
    "x = np.linspace(0, 1, global_divide_number+1)\n",
    "print(x)"
   ]
  },
  {
   "cell_type": "code",
   "execution_count": 6,
   "metadata": {
    "ExecuteTime": {
     "end_time": "2021-04-25T14:30:02.110418Z",
     "start_time": "2021-04-25T14:30:02.095458Z"
    }
   },
   "outputs": [],
   "source": [
    "#S = [ 1, x, x^2, x^3,np.log(x), sinx, cosx, e^x ]\n",
    "import matplotlib.pyplot as plt\n",
    "from scipy.optimize import curve_fit\n",
    "import math\n"
   ]
  },
  {
   "cell_type": "code",
   "execution_count": 7,
   "metadata": {
    "ExecuteTime": {
     "end_time": "2021-04-25T14:30:02.126375Z",
     "start_time": "2021-04-25T14:30:02.112413Z"
    }
   },
   "outputs": [],
   "source": [
    "#popt, pcov = curve_fit(funcc, xdata, ydata)\n",
    "# print(popt)\n",
    "# plt.xlabel('x')\n",
    "# plt.ylabel('y')\n",
    "# plt.legend()\n",
    "# plt.show()"
   ]
  },
  {
   "cell_type": "code",
   "execution_count": 8,
   "metadata": {
    "ExecuteTime": {
     "end_time": "2021-04-25T14:30:02.142333Z",
     "start_time": "2021-04-25T14:30:02.129368Z"
    }
   },
   "outputs": [
    {
     "name": "stdout",
     "output_type": "stream",
     "text": [
      "[1.28301103 1.30854723 2.60807898 0.2065494  2.17272735 0.32950392\n",
      " 0.89437984 0.48454836]\n"
     ]
    }
   ],
   "source": [
    "print( np.random.rand(8)*np.random.randint(0,10))"
   ]
  },
  {
   "cell_type": "code",
   "execution_count": 9,
   "metadata": {
    "ExecuteTime": {
     "end_time": "2021-04-25T14:30:02.158291Z",
     "start_time": "2021-04-25T14:30:02.143330Z"
    }
   },
   "outputs": [
    {
     "name": "stdout",
     "output_type": "stream",
     "text": [
      "[0.         0.03448276 0.06896552 0.10344828 0.13793103 0.17241379\n",
      " 0.20689655 0.24137931 0.27586207 0.31034483 0.34482759 0.37931034\n",
      " 0.4137931  0.44827586 0.48275862 0.51724138 0.55172414 0.5862069\n",
      " 0.62068966 0.65517241 0.68965517 0.72413793 0.75862069 0.79310345\n",
      " 0.82758621 0.86206897 0.89655172 0.93103448 0.96551724 1.        ]\n",
      "[0. 0. 0. 0. 0. 0. 0. 0. 0. 0. 0. 0. 0. 0. 0. 0. 0. 0. 0. 0. 0. 0. 0. 0.\n",
      " 0. 0. 0. 0. 0. 0. 0.]\n",
      "31\n"
     ]
    }
   ],
   "source": [
    "x = np.linspace(0.0, 1, global_divide_number)\n",
    "ao = np.random.rand(global_divide_number+1)*np.random.randint(0,10)\n",
    "print(x)\n",
    "print(ao)\n",
    "print(len(ao))"
   ]
  },
  {
   "cell_type": "code",
   "execution_count": 10,
   "metadata": {
    "ExecuteTime": {
     "end_time": "2021-04-25T14:30:02.188211Z",
     "start_time": "2021-04-25T14:30:02.160285Z"
    }
   },
   "outputs": [],
   "source": [
    "def valuation(type_offender, type_defender, t):\n",
    "    v_1 = type_offender * (t - t ** 2 / 2)\n",
    "    v_2 = type_defender * (1 - t)\n",
    "    \n",
    "    return v_1, v_2\n",
    "\n",
    "\n",
    "\n",
    "class individual:\n",
    "    def __init__(self, curve_list,u_offender,u_defender):\n",
    "        self.curve_list = curve_list\n",
    "        self.u_offender = u_offender\n",
    "        self.u_defender = u_defender\n",
    "        self.fitness = -1\n",
    "        self.average_revenue = 0.0\n",
    "        self.Z_payment_list = []\n",
    "        self.Z_o_star_list = []\n",
    "    def Fitness(self):\n",
    "        if(self.fitness!=-1 and random.random()>NeighborhoodRate):\n",
    "            return self\n",
    "        x = np.linspace(0, 1, global_divide_number+1)\n",
    "        #print(x)\n",
    "        test_number = 0\n",
    "        ao = self.curve_list\n",
    "        total_payment = 0\n",
    "        #print(ao)\n",
    "#         for index in range(len(X_train)):\n",
    "#             test_number+=1\n",
    "#             type_offender = X_train[index][0]\n",
    "#             type_defender = X_train[index][1]\n",
    "        for ran in range(test_fitness_number):\n",
    "            test_number+=1\n",
    "            index = random.randint(0,len(X_train)-1)\n",
    "            type_offender = X_train[index][0]\n",
    "            type_defender = X_train[index][1]\n",
    "            \n",
    "      \n",
    "            \n",
    "            value_offender, value_defender = valuation(\n",
    "                type_offender, type_defender, x)\n",
    "            temp_val_offender = (value_offender * (self.u_offender))\n",
    "            temp_val_defender = (value_defender * (self.u_defender))\n",
    "\n",
    "            val_offender = temp_val_offender + ao\n",
    "            val_defender = temp_val_defender + ao\n",
    "            # print(o.grad_fn,temp_val_defender.grad_fn)\n",
    "            \n",
    "            #print(val_offender)\n",
    "\n",
    "            max_offender = max(val_offender)\n",
    "            max_defender = max(val_defender)\n",
    "\n",
    "            #print(\"max_offender: \" ,max_offender,max_offender.grad)\n",
    "\n",
    "            val_sum = val_offender + val_defender - ao\n",
    "            t_end = val_sum.tolist().index(max(val_sum))\n",
    "\n",
    "            end_val_offender = val_offender[int(t_end)]\n",
    "            end_val_defender = val_defender[int(t_end)]\n",
    "            pay_offender = (max_defender - end_val_defender) / \\\n",
    "                (self.u_offender)\n",
    "            pay_defender = (max_offender - end_val_offender) / \\\n",
    "                (self.u_defender)\n",
    "\n",
    "    #         if((max_defender - end_val_defender) / self.u_offender > value_offender[int(t_end)]):\n",
    "    #             print(\"error: payment offender\",(max_defender - end_val_defender) / self.u_offender,value_offender[int(t_end)]);\n",
    "    #         if((max_offender - end_val_offender) / self.u_defender > value_defender[int(t_end)]):\n",
    "    #             print(\"error: payment defender\",(max_offender - end_val_offender) / self.u_defender,value_defender[int(t_end)]);\n",
    "\n",
    "            payment = pay_offender + pay_defender\n",
    "            total_payment = total_payment + payment\n",
    "        self.fitness = total_payment/test_number\n",
    "        #self.average_revenue = total_payment/test_number\n",
    "        #return payment, ao, x[int(t_end)], self.u_offender, self.u_defender   \n",
    "        return self\n",
    "    \n",
    "    def Train_Fitness(self):\n",
    "        x = np.linspace(0, 1, global_divide_number+1)\n",
    "        #print(x)\n",
    "        test_number = 0\n",
    "        ao = self.curve_list\n",
    "        total_payment = 0\n",
    "        #print(ao)\n",
    "        for index in range(len(X_train)):\n",
    "            test_number+=1\n",
    "            type_offender = X_train[index][0]\n",
    "            type_defender = X_train[index][1]\n",
    "#         for ran in range(test_fitness_number):\n",
    "#             test_number+=1\n",
    "#             index = random.randint(0,len(X_train)-1)\n",
    "#             type_offender = X_train[index][0]\n",
    "#             type_defender = X_train[index][1]\n",
    "            \n",
    "      \n",
    "            \n",
    "            value_offender, value_defender = valuation(\n",
    "                type_offender, type_defender, x)\n",
    "            temp_val_offender = (value_offender * (self.u_offender))\n",
    "            temp_val_defender = (value_defender * (self.u_defender))\n",
    "\n",
    "            val_offender = temp_val_offender + ao\n",
    "            val_defender = temp_val_defender + ao\n",
    "            # print(o.grad_fn,temp_val_defender.grad_fn)\n",
    "            \n",
    "            #print(val_offender)\n",
    "\n",
    "            max_offender = max(val_offender)\n",
    "            max_defender = max(val_defender)\n",
    "\n",
    "            #print(\"max_offender: \" ,max_offender,max_offender.grad)\n",
    "\n",
    "            val_sum = val_offender + val_defender - ao\n",
    "            t_end = val_sum.tolist().index(max(val_sum))\n",
    "\n",
    "            end_val_offender = val_offender[int(t_end)]\n",
    "            end_val_defender = val_defender[int(t_end)]\n",
    "            pay_offender = (max_defender - end_val_defender) / \\\n",
    "                (self.u_offender)\n",
    "            pay_defender = (max_offender - end_val_offender) / \\\n",
    "                (self.u_defender)\n",
    "\n",
    "    #         if((max_defender - end_val_defender) / self.u_offender > value_offender[int(t_end)]):\n",
    "    #             print(\"error: payment offender\",(max_defender - end_val_defender) / self.u_offender,value_offender[int(t_end)]);\n",
    "    #         if((max_offender - end_val_offender) / self.u_defender > value_defender[int(t_end)]):\n",
    "    #             print(\"error: payment defender\",(max_offender - end_val_offender) / self.u_defender,value_defender[int(t_end)]);\n",
    "\n",
    "            payment = pay_offender + pay_defender\n",
    "            total_payment = total_payment + payment\n",
    "        self.fitness = total_payment/test_number\n",
    "        #self.average_revenue = total_payment/test_number\n",
    "        #return payment, ao, x[int(t_end)], self.u_offender, self.u_defender   \n",
    "        return self\n",
    "\n",
    "    def Test_Fitness(self):\n",
    "        x = np.linspace(0, 1, global_divide_number+1)\n",
    "        #print(x)\n",
    "        test_number = 0\n",
    "        ao = self.curve_list\n",
    "        #print(ao)\n",
    "        total_payment = 0\n",
    "        self.Z_payment_list = []\n",
    "        self.Z_o_star_list = []\n",
    "        for index in range(len(X_test)):\n",
    "            test_number+=1\n",
    "            type_offender = X_test[index][0]\n",
    "            type_defender = X_test[index][1]\n",
    "                 \n",
    "            value_offender, value_defender = valuation(\n",
    "                type_offender, type_defender, x)\n",
    "            temp_val_offender = (value_offender * (self.u_offender))\n",
    "            temp_val_defender = (value_defender * (self.u_defender))\n",
    "\n",
    "            val_offender = temp_val_offender + ao\n",
    "            val_defender = temp_val_defender + ao\n",
    "            # print(o.grad_fn,temp_val_defender.grad_fn)\n",
    "            \n",
    "            #print(val_offender)\n",
    "\n",
    "            max_offender = max(val_offender)\n",
    "            max_defender = max(val_defender)\n",
    "\n",
    "            #print(\"max_offender: \" ,max_offender,max_offender.grad)\n",
    "\n",
    "            val_sum = val_offender + val_defender - ao\n",
    "            t_end = val_sum.tolist().index(max(val_sum))\n",
    "\n",
    "            end_val_offender = val_offender[int(t_end)]\n",
    "            end_val_defender = val_defender[int(t_end)]\n",
    "            pay_offender = (max_defender - end_val_defender) / \\\n",
    "                (self.u_offender)\n",
    "            pay_defender = (max_offender - end_val_offender) / \\\n",
    "                (self.u_defender)\n",
    "\n",
    "    #         if((max_defender - end_val_defender) / self.u_offender > value_offender[int(t_end)]):\n",
    "    #             print(\"error: payment offender\",(max_defender - end_val_defender) / self.u_offender,value_offender[int(t_end)]);\n",
    "    #         if((max_offender - end_val_offender) / self.u_defender > value_defender[int(t_end)]):\n",
    "    #             print(\"error: payment defender\",(max_offender - end_val_offender) / self.u_defender,value_defender[int(t_end)]);\n",
    "\n",
    "            payment = pay_offender + pay_defender\n",
    "            total_payment = total_payment + payment\n",
    "            self.Z_payment_list.append(payment)\n",
    "            self.Z_o_star_list.append(x[int(t_end)])\n",
    "        #return payment, ao, x[int(t_end)], self.u_offender, self.u_defender   \n",
    "        \n",
    "        self.average_revenue = total_payment/test_number\n",
    "        return self\n",
    "    \n",
    "    def debug(self):\n",
    "        \n",
    "        print(\"curve_list: \",self.curve_list)\n",
    "        print(\"Batch_fitness\",self.fitness)\n",
    "        self.Train_Fitness()\n",
    "        print(\"Train_fitness\",self.fitness)\n",
    "        self.Test_Fitness()\n",
    "        print(\"Test_average_revenue\",self.average_revenue)\n",
    "        print(\"u_offender\",self.u_offender)\n",
    "        print(\"u_defender\",self.u_defender)\n",
    "        print()\n",
    "\n"
   ]
  },
  {
   "cell_type": "code",
   "execution_count": 11,
   "metadata": {
    "ExecuteTime": {
     "end_time": "2021-04-25T14:30:21.300592Z",
     "start_time": "2021-04-25T14:30:02.189208Z"
    },
    "run_control": {
     "marked": true
    }
   },
   "outputs": [
    {
     "name": "stdout",
     "output_type": "stream",
     "text": [
      "curve_list:  [  8.77704745   7.42959273   6.08213801   4.73468329   3.38722857\n",
      "   2.03977385   0.69231913  -0.65513559  -2.00259031  -3.35004503\n",
      "  -4.69749975  -6.04495447  -7.39240919  -8.73986391 -10.08731863\n",
      " -11.43477335 -12.78222807 -14.12968279 -15.47713751 -16.82459223\n",
      " -18.17204695 -19.51950167 -20.86695639 -22.21441111 -23.56186583\n",
      " -24.90932055 -26.25677527 -27.60422999 -28.95168471 -30.29913943\n",
      " -31.64659415]\n",
      "Batch_fitness 33.92755481619035\n",
      "Train_fitness 35.70755683472362\n",
      "Test_average_revenue 35.91447522573044\n",
      "u_offender 1\n",
      "u_defender 3.7\n",
      "\n",
      "curve_list:  [ 19.20137861  16.9315745   14.6617704   12.39196629  10.12216219\n",
      "   7.85235809   5.58255398   3.31274988   1.04294577  -1.22685833\n",
      "  -3.49666244  -5.76646654  -8.03627064 -10.30607475 -12.57587885\n",
      " -14.84568296 -17.11548706 -19.38529116 -21.65509527 -23.92489937\n",
      " -26.19470348 -28.46450758 -30.73431169 -33.00411579 -35.27391989\n",
      " -37.543724   -39.8135281  -42.08333221 -44.35313631 -46.62294041\n",
      " -48.89274452]\n",
      "Batch_fitness 37.68907120752715\n",
      "Train_fitness 39.83608221188563\n",
      "Test_average_revenue 40.17558102765995\n",
      "u_offender 1\n",
      "u_defender 3.7\n",
      "\n",
      "curve_list:  [ 20.98401807  18.39375818  15.80349828  13.21323839  10.62297849\n",
      "   8.0327186    5.44245871   2.85219881   0.26193892  -2.32832098\n",
      "  -4.91858087  -7.50884076 -10.09910066 -12.68936055 -15.27962045\n",
      " -17.86988034 -20.46014023 -23.05040013 -25.64066002 -28.23091992\n",
      " -30.82117981 -33.4114397  -36.0016996  -38.59195949 -41.18221939\n",
      " -43.77247928 -46.36273917 -48.95299907 -51.54325896 -54.13351886\n",
      " -56.72377875]\n",
      "Batch_fitness 47.87024173391065\n",
      "Train_fitness 40.37767392325426\n",
      "Test_average_revenue 40.74062398672629\n",
      "u_offender 1\n",
      "u_defender 3.7\n",
      "\n",
      "curve_list:  [23.06939021 23.0515517  23.0337132  23.01587469 22.99803618 22.98019768\n",
      " 22.96235917 22.94452066 22.92668216 22.90884365 22.89100514 22.87316663\n",
      " 22.85532813 22.83748962 22.81965111 22.80181261 22.7839741  22.76613559\n",
      " 22.74829709 22.73045858 22.71262007 22.69478156 22.67694306 22.65910455\n",
      " 22.64126604 22.62342754 22.60558903 22.58775052 22.56991202 22.55207351\n",
      " 22.534235  ]\n",
      "Batch_fitness 19.607180551664797\n",
      "Train_fitness 20.520834284753978\n",
      "Test_average_revenue 20.54073523982427\n",
      "u_offender 1\n",
      "u_defender 3.7\n",
      "\n"
     ]
    }
   ],
   "source": [
    "global population \n",
    "\n",
    "\n",
    "\n",
    "def rank_heads(population):\n",
    "    fitnessResults = []\n",
    "    for i in range(0,len(population)):\n",
    "        temp = population[i].Fitness()\n",
    "        fitnessResults.append([i,  temp.fitness, temp])\n",
    "    fitnessResults = np.array(fitnessResults)\n",
    "    \n",
    "    return sorted(fitnessResults, key = operator.itemgetter(1), reverse=True)\n",
    "\n",
    "def rank_heads_all(population):\n",
    "    fitnessResults = []\n",
    "    for i in range(0,len(population)):\n",
    "        temp = population[i].Test_Fitness()\n",
    "        fitnessResults.append([i, temp.fitness, temp])\n",
    "    fitnessResults = np.array(fitnessResults)\n",
    "    \n",
    "    return sorted(fitnessResults, key = operator.itemgetter(1), reverse=True)\n",
    "\n",
    "def initialPopulation():\n",
    "    population = []\n",
    "    for i in range(popSize):\n",
    "        temp_xdata = np.linspace(0, 1, global_divide_number+1)\n",
    "        temp_a = random.random()*np.random.randint(-100,10)*temp_xdata+random.random()*np.random.randint(0,100)\n",
    "        #temp_a = np.random.rand(global_divide_number+1)*np.random.randint(-10,10)\n",
    "        temp_b = 1\n",
    "        temp_c = 3.7#random.random()*np.random.randint(1,10)\n",
    "        \n",
    "        temp = individual(temp_a,temp_b,temp_c)\n",
    "        temp.Fitness()\n",
    "        population.append(temp)\n",
    "    return population\n",
    "\n",
    "pop = np.array(initialPopulation())\n",
    "pop[0].debug()\n",
    "pop[90].debug()\n",
    "\n",
    "pop_ranked = rank_heads(pop)\n",
    "\n",
    "pop_ranked[0][2].debug()\n",
    "pop_ranked[90][2].debug()\n"
   ]
  },
  {
   "cell_type": "code",
   "execution_count": 12,
   "metadata": {
    "ExecuteTime": {
     "end_time": "2021-04-25T14:30:21.441658Z",
     "start_time": "2021-04-25T14:30:21.301599Z"
    }
   },
   "outputs": [
    {
     "data": {
      "image/png": "[encoded data removed]",
      "text/plain": [
       "<Figure size 432x288 with 1 Axes>"
      ]
     },
     "metadata": {
      "needs_background": "light"
     },
     "output_type": "display_data"
    }
   ],
   "source": [
    "\n",
    "xdata = np.linspace(0, 1, global_divide_number+1)\n",
    "ydata = pop_ranked[0][2].curve_list\n",
    "plt.plot(xdata,ydata,label='a(t)')\n",
    "\n",
    "plt.xlabel('t')\n",
    "plt.ylabel('a(t)') \n",
    "plt.title('a(t)')\n",
    "\n",
    "plt.legend() \n",
    "plt.show()\n"
   ]
  },
  {
   "cell_type": "code",
   "execution_count": 13,
   "metadata": {
    "ExecuteTime": {
     "end_time": "2021-04-25T14:30:21.457406Z",
     "start_time": "2021-04-25T14:30:21.442443Z"
    }
   },
   "outputs": [],
   "source": [
    "def selection(popRanked, eliteSize):\n",
    "    selectionResults = []\n",
    "    df = pd.DataFrame(np.array(popRanked), columns=[\"Index\",\"Fitness\",\"list\"])\n",
    "    df['cum_sum'] = df.Fitness.cumsum()\n",
    "    df['cum_perc'] = 100*df.cum_sum/df.Fitness.sum()\n",
    "    \n",
    "    for i in range(int(len(popRanked))):\n",
    "        selectionResults.append(popRanked[i][0])\n",
    "    return selectionResults\n",
    "\n",
    "def matingPool(population, selectionResults):\n",
    "    matingpool = []\n",
    "    for i in range(0, len(selectionResults)):\n",
    "        index = selectionResults[i]\n",
    "        matingpool.append(population[index])\n",
    "    return matingpool\n",
    "\n",
    "def breed(parent1, parent2):\n",
    "    child = copy.deepcopy(parent1)\n",
    "    \n",
    "    geneA_1 = int(random.random() * len(parent1.curve_list))\n",
    "    geneB_1 = int(random.random() * len(parent1.curve_list))\n",
    "    startGene_1 = min(geneA_1, geneB_1)\n",
    "    endGene_1 = max(geneA_1, geneB_1)\n",
    "    \n",
    "#     geneA_2 = int(random.random() * len(parent2.curve_list))\n",
    "#     geneB_2 = int(random.random() * len(parent2.curve_list))\n",
    "#     startGene_2 = min(geneA_2, geneB_2)\n",
    "#     endGene_2 = max(geneA_2, geneB_2)\n",
    "    \n",
    "    child.curve_list = []\n",
    "\n",
    "    for i in range(startGene_1):\n",
    "        child.curve_list.append(parent1.curve_list[i])\n",
    "\n",
    "        \n",
    "    for i in range(startGene_1,endGene_1):\n",
    "        child.curve_list.append(parent2.curve_list[i])\n",
    "        \n",
    "    for i in range(endGene_1, len(parent1.curve_list)):\n",
    "        child.curve_list.append(parent1.curve_list[i])\n",
    "        \n",
    "    #print(len(child.curve_list))\n",
    "    child.fitness = -1;\n",
    "    return child\n",
    "#     if   non_dominant(child):\n",
    "#         child.fitness = 0;\n",
    "#         return child\n",
    "#     else:\n",
    "#         return False \n",
    "\n",
    "def breedPopulation(matingpool, eliteSize):\n",
    "    children = []\n",
    "    length = len(matingpool) - eliteSize\n",
    "    pool = random.sample(matingpool, len(matingpool))\n",
    "\n",
    "    for i in range(eliteSize):\n",
    "        children.append(matingpool[i])\n",
    "\n",
    "    for i in range(popSize):\n",
    "        if (random.random() < mutationRate):\n",
    "            swapped = copy.deepcopy(pool[random.randint(0,len(matingpool)-1)])\n",
    "            swapWith = copy.deepcopy(pool[random.randint(0,len(matingpool)-1)])\n",
    "            \n",
    "            for j in range(len(swapWith.curve_list)):\n",
    "                swapped.curve_list[j]=swapWith.curve_list[j]\n",
    "            \n",
    "#             if (non_dominant(swapped)):\n",
    "            if(random.random()>0.5):\n",
    "                swapped.u_offender = swapWith.u_offender\n",
    "            if(random.random()>0.5):\n",
    "                swapped.u_defender = swapWith.u_defender\n",
    "            swapped.fitness = -1\n",
    "            children.append(swapped)\n",
    "\n",
    "    for i in range(popSize):\n",
    "        if (random.random() < mutationRate):\n",
    "            child = breed(pool[random.randint(0,len(matingpool)-1)], pool[random.randint(0,len(matingpool)-1)])\n",
    "            if (child != False):\n",
    "                child.fitness = -1\n",
    "                children.append(child)\n",
    "    \n",
    "    return children"
   ]
  },
  {
   "cell_type": "code",
   "execution_count": 14,
   "metadata": {
    "ExecuteTime": {
     "end_time": "2021-04-25T14:30:21.472743Z",
     "start_time": "2021-04-25T14:30:21.458403Z"
    }
   },
   "outputs": [],
   "source": [
    "def mutate(individual, mutationRate):\n",
    "    global NeighborhoodRate \n",
    "    \n",
    "    temp_individual = copy.deepcopy(individual)\n",
    "\n",
    "    for nerboorhood in range(len(temp_individual.curve_list)):\n",
    "        if(random.random() < NeighborhoodRate):\n",
    "            if(random.random()>=0.5):\n",
    "                temp_individual.curve_list[nerboorhood]+= 0.5\n",
    "            else:\n",
    "                temp_individual.curve_list[nerboorhood]-= 0.5\n",
    "            temp_individual.fitness= -1          \n",
    "#         if(random.random() < NeighborhoodRate):\n",
    "#             if(random.random()>=0.5):\n",
    "#                 temp_individual.u_offender += 0.1\n",
    "#             else:\n",
    "#                 temp_individual.u_offender -= 0.1\n",
    "#             temp_individual.fitness= -1   \n",
    "#         if(random.random() < NeighborhoodRate):  \n",
    "#             if(random.random()>=0.5):\n",
    "#                 temp_individual.u_defender += 0.1\n",
    "#             else:\n",
    "#                 temp_individual.u_defender -= 0.1\n",
    "#             temp_individual.fitness= -1    \n",
    "        if(random.random() < NeighborhoodRate):\n",
    "            if(nerboorhood-1>=0 and nerboorhood+1<len(temp_individual.curve_list)):\n",
    "                temp_individual.curve_list[nerboorhood] = (temp_individual.curve_list[nerboorhood-1]+temp_individual.curve_list[nerboorhood+1])/2\n",
    "            elif(nerboorhood==0):\n",
    "                temp_individual.curve_list[nerboorhood] = temp_individual.curve_list[nerboorhood+1]\n",
    "            else:\n",
    "                temp_individual.curve_list[nerboorhood] = temp_individual.curve_list[nerboorhood-1]\n",
    "            temp_individual.fitness= -1   \n",
    "            \n",
    "    if(temp_individual.Fitness().fitness<individual.Fitness().fitness):\n",
    "        individual = temp_individual\n",
    "        \n",
    "    return individual"
   ]
  },
  {
   "cell_type": "code",
   "execution_count": 15,
   "metadata": {
    "ExecuteTime": {
     "end_time": "2021-04-25T14:30:21.488037Z",
     "start_time": "2021-04-25T14:30:21.473741Z"
    }
   },
   "outputs": [],
   "source": [
    "\n",
    "\n",
    "def mutatePopulation(population, mutationRate):\n",
    "    mutatedPop = []\n",
    "\n",
    "    for ind in range(0, len(population)):\n",
    "        mutatedInd = mutate(copy.deepcopy(population[ind]), mutationRate)\n",
    "        mutatedPop.append(mutatedInd)\n",
    "    return mutatedPop"
   ]
  },
  {
   "cell_type": "code",
   "execution_count": 16,
   "metadata": {
    "ExecuteTime": {
     "end_time": "2021-04-25T14:30:21.518891Z",
     "start_time": "2021-04-25T14:30:21.488826Z"
    }
   },
   "outputs": [],
   "source": [
    "def nextGeneration(currentGen, eliteSize, mutationRate):\n",
    "    print(len(currentGen))\n",
    "    popRanked = rank_heads(currentGen)\n",
    "\n",
    "    selectionResults = selection(popRanked, eliteSize)\n",
    "    \n",
    "    matingpool = matingPool(currentGen, selectionResults)\n",
    "\n",
    "    children = breedPopulation(matingpool, eliteSize)\n",
    "\n",
    "    nextGeneration = mutatePopulation(children, mutationRate)\n",
    "\n",
    "#     for i in range(len(nextGeneration), popSize):\n",
    "#         nextGeneration.append( produce_initial_head_list())\n",
    "\n",
    "    return nextGeneration\n",
    "temp_a = np.array(rank_heads(pop))\n",
    "#print(temp_a )"
   ]
  },
  {
   "cell_type": "code",
   "execution_count": 17,
   "metadata": {
    "ExecuteTime": {
     "end_time": "2021-04-25T14:30:21.534173Z",
     "start_time": "2021-04-25T14:30:21.519890Z"
    }
   },
   "outputs": [],
   "source": [
    "final_pop =[]\n",
    "batch_err_list = []\n",
    "train_err_list = []  \n",
    "test_err_list = [] \n",
    "best_list = []\n",
    "def geneticAlgorithm(pop, popSize, eliteSize, mutationRate, generations):\n",
    "\n",
    "    print(\"Initial Delay: \" + str(rank_heads(pop)[0][1]))\n",
    "    best_Index = rank_heads(pop)[0][0]\n",
    "    best_one = pop[best_Index]\n",
    "    best_one.debug()\n",
    "    progress = []\n",
    "    progress.append(rank_heads(pop)[0][1])\n",
    "    \n",
    "    for i in range(0, generations):\n",
    "        pop = nextGeneration(pop, eliteSize, mutationRate)\n",
    "        print(\"Generation \" , i , \" : \" + str(rank_heads(pop)[0][1]))\n",
    "        progress.append(rank_heads(pop)[0][1])\n",
    "        best_Index = rank_heads(pop)[0][0]\n",
    "        best_one = pop[best_Index]\n",
    "        batch_err_list.append(best_one.fitness)\n",
    "        best_one.debug()\n",
    "        best_list.append(best_one)\n",
    "        train_err_list.append(best_one.fitness)\n",
    "        test_err_list.append(best_one.average_revenue)\n",
    "        final_pop.append(pop[best_Index])\n",
    "        print()\n",
    "        \n",
    "    for i in range (len(pop)):\n",
    "        final_pop.append(pop[i])\n",
    "    \n",
    "    #res_rank = rank_heads_all(final_pop)\n",
    "    \n",
    "    \n",
    "    #bestdeadlineIndex = res_rank[0][0]\n",
    "    bestdeadline = pop[best_Index]\n",
    "    print(\"Final: \" + str())\n",
    "    pop[best_Index].debug()\n",
    "    #print(progress)\n",
    "    plt.plot(progress)\n",
    "    plt.ylabel('Fitness')\n",
    "    plt.xlabel('Generation')\n",
    "    plt.show()\n",
    "    return bestdeadline"
   ]
  },
  {
   "cell_type": "code",
   "execution_count": 18,
   "metadata": {
    "ExecuteTime": {
     "end_time": "2021-04-25T15:10:16.162557Z",
     "start_time": "2021-04-25T14:30:21.535173Z"
    }
   },
   "outputs": [
    {
     "name": "stdout",
     "output_type": "stream",
     "text": [
      "Initial Delay: 45.886726930388924\n",
      "curve_list:  [ 55.008682    52.25419216  49.49970231  46.74521246  43.99072261\n",
      "  41.23623276  38.48174291  35.72725306  32.97276321  30.21827336\n",
      "  27.46378351  24.70929366  21.95480381  19.20031396  16.44582411\n",
      "  13.69133426  10.93684441   8.18235456   5.42786471   2.67337486\n",
      "  -0.08111499  -2.83560484  -5.59009469  -8.34458454 -11.09907439\n",
      " -13.85356424 -16.60805408 -19.36254393 -22.11703378 -24.87152363\n",
      " -27.62601348]\n",
      "Batch_fitness 45.886726930388924\n",
      "Train_fitness 40.497722313724964\n",
      "Test_average_revenue 40.88501709586666\n",
      "u_offender 1\n",
      "u_defender 3.7\n",
      "\n",
      "100\n",
      "Generation  0  : 43.50907913803656\n",
      "curve_list:  [ 19.20137861  16.9315745   14.6617704   12.39196629  10.12216219\n",
      "   7.85235809   5.58255398   3.31274988   1.04294577  -1.22685833\n",
      "  -3.49666244  -5.76646654  -8.03627064 -10.30607475 -12.57587885\n",
      " -14.84568296 -17.11548706 -19.38529116 -21.65509527 -23.92489937\n",
      " -26.19470348 -28.46450758 -30.73431169 -33.00411579 -35.27391989\n",
      " -37.543724   -39.8135281  -42.08333221 -44.35313631 -46.62294041\n",
      " -48.89274452]\n",
      "Batch_fitness 44.26939143250359\n",
      "Train_fitness 39.83608221188563\n",
      "Test_average_revenue 40.17558102765995\n",
      "u_offender 1\n",
      "u_defender 3.7\n",
      "\n",
      "\n",
      "52\n",
      "Generation  1  : 42.0343973247702\n",
      "curve_list:  [ 4.57806748e+01  4.32368203e+01  4.06929658e+01  3.81491113e+01\n",
      "  3.56052568e+01  3.30614022e+01  3.05175477e+01  2.79736932e+01\n",
      "  2.54298387e+01  2.28859842e+01  2.03421296e+01  1.77982751e+01\n",
      "  1.52544206e+01  1.27105661e+01  1.01667116e+01  7.62285705e+00\n",
      "  5.07900253e+00  2.53514801e+00 -8.70650531e-03 -2.55256102e+00\n",
      " -5.09641554e+00 -7.64027006e+00 -1.01841246e+01 -1.27279791e+01\n",
      " -1.52718336e+01 -1.78156881e+01 -2.03595427e+01 -2.29033972e+01\n",
      " -2.54472517e+01 -2.79911062e+01 -3.05349607e+01]\n",
      "Batch_fitness 42.0343973247702\n",
      "Train_fitness 40.32198364257173\n",
      "Test_average_revenue 40.68126005907637\n",
      "u_offender 1\n",
      "u_defender 3.7\n",
      "\n",
      "\n",
      "42\n",
      "Generation  2  : 40.96672101583508\n",
      "curve_list:  [4.410151392358981, 2.2030588642209508, -0.0040336639170792665, -2.2111261920551106, -4.418218720193139, -6.62531124833117, -8.832403776469203, -11.03949630460723, -12.74658883274526, -15.45368136088329, -17.66077388902132, -19.86786641715935, -22.074958945297386, -24.282051473435416, -26.489144001573443, -28.696236529711474, -30.9033290578495, -33.11042158598753, -35.31751411412556, -37.52460664226359, -39.73169917040162, -42.438791698539646, -44.14588422667768, -46.35297675481571, -48.56006928295374, -50.767161811091775, -53.4742543392298, -55.181346867367836, -57.38843939550586, -59.59553192364389, -61.802624451781924]\n",
      "Batch_fitness 42.60338810793301\n",
      "Train_fitness 39.627676872270335\n",
      "Test_average_revenue 39.94270998304415\n",
      "u_offender 1\n",
      "u_defender 3.7\n",
      "\n",
      "\n",
      "56\n",
      "Generation  3  : 47.48197416450893\n",
      "curve_list:  [58.4227595241508, 58.14066916580742, 57.85857880746404, 11.891966293796916, 10.122162189640731, 7.852358085484546, 5.58255398132836, 3.312749877172175, 1.0429457730159903, -1.2268583311401926, -3.496662435296379, -5.766466539452562, -8.036270643608752, -10.306074747764937, -13.075878851921122, -14.845682956077304, -17.11548706023349, -19.38529116438967, -21.655095268545857, -23.924899372702043, -26.19470347685823, -28.46450758101441, -30.734311685170596, -33.00411578932678, -35.273919893482976, -37.543723997639155, -0.4086957964671498, -2.3019692006810644, -3.945242604894979, -20.218437894564268, -22.238378041219086]\n",
      "Batch_fitness 47.48197416450893\n",
      "Train_fitness 44.16153739629826\n",
      "Test_average_revenue 44.49231559725484\n",
      "u_offender 1\n",
      "u_defender 3.7\n",
      "\n",
      "\n",
      "53\n",
      "Generation  4  : 47.74328190648379\n",
      "curve_list:  [58.4227595241508, 58.14066916580742, 57.85857880746404, 11.891966293796916, 10.122162189640731, 7.852358085484546, 5.58255398132836, 3.312749877172175, 1.0429457730159903, -1.2268583311401926, -3.496662435296379, -5.766466539452562, -8.036270643608752, -10.306074747764937, -13.075878851921122, -14.845682956077304, -17.11548706023349, -19.38529116438967, -21.655095268545857, -23.924899372702043, -26.19470347685823, -28.46450758101441, -30.734311685170596, -33.00411578932678, -35.273919893482976, -37.543723997639155, -0.4086957964671498, -2.3019692006810644, -3.945242604894979, -20.218437894564268, -22.238378041219086]\n",
      "Batch_fitness 45.90603154515046\n",
      "Train_fitness 44.16153739629826\n",
      "Test_average_revenue 44.49231559725484\n",
      "u_offender 1\n",
      "u_defender 3.7\n",
      "\n",
      "\n",
      "52\n",
      "Generation  5  : 46.30419847628803\n",
      "curve_list:  [58.4227595241508, 58.14066916580742, 57.85857880746404, 11.891966293796916, 10.122162189640731, 7.852358085484546, 5.58255398132836, 3.312749877172175, 1.0429457730159903, -1.2268583311401926, -3.496662435296379, -5.766466539452562, -8.036270643608752, -10.306074747764937, -13.075878851921122, -14.845682956077304, -17.11548706023349, -19.38529116438967, -21.655095268545857, -23.924899372702043, -26.19470347685823, -28.46450758101441, -30.734311685170596, -33.00411578932678, -35.273919893482976, -37.543723997639155, -0.4086957964671498, -2.3019692006810644, -3.945242604894979, -20.218437894564268, -22.238378041219086]\n",
      "Batch_fitness 46.30419847628803\n",
      "Train_fitness 44.16153739629826\n",
      "Test_average_revenue 44.49231559725484\n",
      "u_offender 1\n",
      "u_defender 3.7\n",
      "\n",
      "\n",
      "55\n",
      "Generation  6  : 45.41031593263946\n",
      "curve_list:  [61.168514732903006, 59.13238478840653, 57.09625484391006, 13.213238387048143, 10.622978493065395, 8.032718599082644, 5.442458705099893, 2.852198811117143, -0.238061082865606, -2.8283209768483566, -4.918580870831107, -7.508840764813858, -10.099100658796608, -12.68936055277936, -14.779620446762113, -17.86988034074486, -20.71014023472761, -23.55040012871036, -26.015660022693112, -28.66841991667586, -31.32117981065861, -33.41143970464135, -36.001699598624114, -38.59195949260686, -41.18221938658962, 10.265266120491162, 8.22913617599469, 6.193006231498217, 4.156876287001744, 2.120746342505271, 0.08461639800879794]\n",
      "Batch_fitness 49.79342102213831\n",
      "Train_fitness 44.603445822710654\n",
      "Test_average_revenue 44.945943408205636\n",
      "u_offender 1\n",
      "u_defender 3.7\n",
      "\n",
      "\n",
      "61\n",
      "Generation  7  : 47.12397212566482\n",
      "curve_list:  [75.24995019226529, 73.28909439793956, 71.32823860361384, 69.1173828092881, 66.90652701496238, 8.032718599082644, 5.442458705099892, 2.852198811117143, -0.238061082865606, -2.5783209768483566, -4.918580870831107, -7.508840764813858, -9.599100658796612, -12.689360552779359, -15.27962044676211, -17.86988034074486, -20.460140234727607, -23.55040012871036, -25.64066002269311, -27.730919916675862, -31.32117981065861, -33.41143970464135, -36.001699598624114, -38.59195949260686, -40.68221938658962, -43.77247928057237, -46.36273917455512, -48.95299906853786, 20.345987951144917, 18.38513215681919, 18.38513215681919]\n",
      "Batch_fitness 46.509269220166864\n",
      "Train_fitness 45.54600866942881\n",
      "Test_average_revenue 45.90897679597481\n",
      "u_offender 1\n",
      "u_defender 3.7\n",
      "\n",
      "\n",
      "56\n",
      "Generation  8  : 53.0995174689954\n",
      "curve_list:  [75.24995019226529, 73.28909439793956, 71.32823860361384, 32.30000591846102, 30.2800657718062, -12.932051961619766, -15.648629292192162, -18.86520662276455, -20.08178395333694, -24.29836128390933, -26.51493861448172, -29.231515945054113, -31.94809327562651, -34.66467060619889, 9.580664305258011, 8.560724158603193, 6.040784011948375, 3.520843865293557, 2.000903718638739, 0.4809635719839207, -2.0389765746708974, -4.058916721325716, -5.578856867980534, 10.440513158937096, 9.154521948327258, 7.868530737717421, 6.582539527107585, 5.2965483164977485, 20.84598795114492, 18.385132156819193, 18.385132156819193]\n",
      "Batch_fitness 53.0995174689954\n",
      "Train_fitness 46.341555734952955\n",
      "Test_average_revenue 46.694913439444235\n",
      "u_offender 1\n",
      "u_defender 3.7\n",
      "\n",
      "\n",
      "66\n",
      "Generation  9  : 47.74706443400093\n",
      "curve_list:  [61.168514732903006, 59.13238478840653, 57.09625484391006, 33.859616668487725, 10.622978493065395, 8.032718599082644, 5.442458705099893, 2.6021988111171437, -0.238061082865606, -2.8283209768483566, -4.918580870831107, -7.508840764813858, -10.099100658796608, -13.18936055277936, -14.779620446762113, -17.36988034074486, -20.71014023472761, -23.55040012871036, -25.515660022693112, -28.66841991667586, -31.039929810658606, -33.41143970464135, -36.001699598624114, -38.59195949260686, -14.16334668605785, 10.265266120491162, 8.22913617599469, 6.193006231498217, 4.156876287001744, 2.120746342505271, 0.08461639800879794]\n",
      "Batch_fitness 49.240513235105034\n"
     ]
    },
    {
     "name": "stdout",
     "output_type": "stream",
     "text": [
      "Train_fitness 44.603445822710654\n",
      "Test_average_revenue 44.945943408205636\n",
      "u_offender 1\n",
      "u_defender 3.7\n",
      "\n",
      "\n",
      "49\n",
      "Generation  10  : 52.34658735031407\n",
      "curve_list:  [75.24995019226529, 73.28909439793956, 71.32823860361384, 69.1173828092881, 66.90652701496238, 8.032718599082644, 5.442458705099892, 2.852198811117143, -0.238061082865606, -2.5783209768483566, -4.918580870831107, -7.508840764813858, -9.599100658796612, 12.10060445191283, 10.080664305258011, -39.59782526734367, -42.564402597916065, -45.530979928488456, -48.12255725906084, -50.65163458963323, -53.180711920205624, -56.397289250778016, -59.1138665813504, -61.33044391192279, -64.5470212424952, -67.26359857306758, -69.98017590363997, -72.69675323421237, 20.345987951144917, 18.38513215681919, 18.38513215681919]\n",
      "Batch_fitness 52.34658735031407\n",
      "Train_fitness 45.54600866942881\n",
      "Test_average_revenue 45.90897679597481\n",
      "u_offender 1\n",
      "u_defender 3.7\n",
      "\n",
      "\n",
      "54\n",
      "Generation  11  : 53.95461540314766\n",
      "curve_list:  [37.85982635842547, 36.089886211770654, 24.9015622994094, 13.713238387048143, 10.872978493065393, 8.407718599082642, 5.8799587050998925, 3.352198811117143, 0.5119389171343931, -2.3283209768483566, -4.918580870831107, -7.508840764813858, -31.94809327562651, -10.306074747764935, -12.575878851921122, -14.845682956077306, -17.11548706023349, -19.135291164389674, -21.655095268545857, -23.924899372702043, -26.19470347685823, -28.46450758101441, -30.734311685170596, -33.00411578932678, -35.273919893482976, -37.543723997639155, -46.86273917455512, -48.45299906853786, -51.54325896252062, -54.13351885650337, -22.238378041219086]\n",
      "Batch_fitness 53.95461540314766\n",
      "Train_fitness 47.759790316307715\n",
      "Test_average_revenue 48.15853893492057\n",
      "u_offender 1\n",
      "u_defender 3.7\n",
      "\n",
      "\n",
      "48\n",
      "Generation  12  : 50.03357799659495\n",
      "curve_list:  [37.85982635842547, 36.089886211770654, 33.819946065115836, 31.800005918461018, 9.433976978420626, -12.932051961619766, -15.148629292192162, -17.615206622764553, -20.95678395333694, -24.29836128390933, -26.01493861448172, -29.231515945054113, -31.94809327562651, -10.306074747764935, -13.075878851921122, -14.845682956077306, -16.61548706023349, -19.135291164389674, -21.655095268545857, -23.924899372702043, -26.194703476858226, -28.46450758101441, -30.734311685170596, -33.00411578932678, -35.273919893482976, -37.543723997639155, -43.24836153308851, -48.95299906853786, -51.54325896252062, -53.63351885650337, -22.238378041219086]\n",
      "Batch_fitness 46.79675157102247\n",
      "Train_fitness 46.4569968358503\n",
      "Test_average_revenue 46.8529566477963\n",
      "u_offender 1\n",
      "u_defender 3.7\n",
      "\n",
      "\n",
      "57\n",
      "Generation  13  : 50.68796923459702\n",
      "curve_list:  [75.24995019226529, 73.28909439793956, 71.32823860361384, 69.1173828092881, 66.90652701496238, 8.032718599082644, 5.442458705099892, 2.852198811117143, 0.3869389171343931, -2.0783209768483566, -4.918580870831107, -7.508840764813858, 2.045881843549486, 12.10060445191283, 10.580664305258011, -9.747927710894455, -11.964096025101174, -14.180264339307895, -15.646432653514616, -16.612600967721335, -26.19470347685823, -28.46450758101441, -30.734311685170596, -33.00411578932678, -35.273919893482976, -37.543723997639155, -31.87577916716839, -33.34194748137511, -35.308115795581834, 18.38513215681919, 18.38513215681919]\n",
      "Batch_fitness 51.39546105831301\n",
      "Train_fitness 45.80964974197352\n",
      "Test_average_revenue 46.210597854154855\n",
      "u_offender 1\n",
      "u_defender 3.7\n",
      "\n",
      "\n",
      "50\n",
      "Generation  14  : 50.717097127346115\n",
      "curve_list:  [75.24995019226529, 73.28909439793956, 45.029865904666806, 14.346092059586198, 11.879923745379479, 9.913755431172756, 7.947587116966035, 5.981418802759313, 4.015250488552594, 2.049082174345873, 0.08291386013915059, -1.8832544540675684, -4.099422768274291, -6.3155910824810135, -7.281759396687736, -9.747927710894455, -11.714096025101174, -23.55040012871036, -25.64066002269311, -27.730919916675862, -30.696179810658613, -33.66143970464136, -36.126699598624114, -38.40445949260687, -40.68221938658962, -43.52247928057237, -46.36273917455512, -48.95299906853786, -15.283933455859337, 18.38513215681919, 18.38513215681919]\n",
      "Batch_fitness 50.68796923459702\n",
      "Train_fitness 47.45270191245569\n",
      "Test_average_revenue 47.82036826221699\n",
      "u_offender 1\n",
      "u_defender 3.7\n",
      "\n",
      "\n",
      "51\n",
      "Generation  15  : 49.910872718007575\n",
      "curve_list:  [58.14066916580742, 40.587191181800534, 23.033713197793652, 17.456818471586566, 11.879923745379479, 9.913755431172756, 7.947587116966035, 5.981418802759313, 3.515250488552594, 2.049082174345873, 0.08291386013915236, -1.8832544540675684, -4.099422768274291, -6.3155910824810135, -13.075878851921122, -14.845682956077304, -17.115487060233487, -19.38529116438967, -21.655095268545857, -23.924899372702043, -26.69470347685823, -28.46450758101441, -30.734311685170596, -33.00411578932679, -35.273919893482976, -37.543723997639155, -1.4086957964671498, -33.34194748137511, -35.308115795581834, -37.27428410978855, -37.27428410978855]\n",
      "Batch_fitness 50.63240038458571\n",
      "Train_fitness 47.4592737148549\n",
      "Test_average_revenue 47.8839021476581\n",
      "u_offender 1\n",
      "u_defender 3.7\n",
      "\n",
      "\n",
      "54\n",
      "Generation  16  : 52.04213163206632\n",
      "curve_list:  [75.24995019226529, 73.28909439793956, 71.32823860361384, 69.1173828092881, 38.57505070418537, 21.758754704642634, 12.305476757879887, 2.852198811117143, -0.238061082865606, -2.0783209768483566, -5.043580870831107, -8.008840764813858, -7.412215923647436, -6.8155910824810135, -7.781759396687736, -17.36988034074486, -20.71014023472761, -23.55040012871036, -26.015660022693112, -28.66841991667586, -31.539929810658606, -33.77081470464136, -36.001699598624114, -39.09195949260686, -14.16334668605785, -13.522391858744143, 8.22913617599469, 14.287562063569803, 20.345987951144917, 19.11556005398205, 17.38513215681919]\n",
      "Batch_fitness 49.93875825789392\n",
      "Train_fitness 45.973030297641465\n",
      "Test_average_revenue 46.3423856513734\n",
      "u_offender 1\n",
      "u_defender 3.7\n",
      "\n",
      "\n",
      "49\n",
      "Generation  17  : 50.96752570756648\n",
      "curve_list:  [73.28909439793956, 73.28909439793956, 45.029865904666806, 32.98801676922599, 20.946167633785183, 8.532718599082644, 7.947587116966035, 5.981418802759313, 4.015250488552594, 2.049082174345873, 0.08291386013915059, -1.8832544540675684, -4.599422768274291, -6.8155910824810135, -8.281759396687734, -9.997927710894455, -11.714096025101174, -18.67737802389714, -25.64066002269311, -27.730919916675862, -31.196179810658613, -33.66143970464136, -36.626699598624114, -38.15445949260687, -40.18221938658962, -43.52247928057237, -46.36273917455512, -48.95299906853786, -15.283933455859337, 1.550599350479926, 1.550599350479926]\n",
      "Batch_fitness 50.96752570756648\n",
      "Train_fitness 46.66318374121163\n",
      "Test_average_revenue 47.17282639065989\n",
      "u_offender 1\n",
      "u_defender 3.7\n",
      "\n",
      "\n",
      "53\n",
      "Generation  18  : 54.32822895822684\n",
      "curve_list:  [61.668514732903006, 59.38238478840653, 57.59625484391006, 33.859616668487725, 21.196167633785183, 8.532718599082644, 12.305476757879887, 2.852198811117143, -0.238061082865606, -2.0783209768483566, -5.043580870831107, -8.008840764813858, -7.412215923647436, -6.8155910824810135, -7.781759396687736, -17.36988034074486, -20.71014023472761, -23.55040012871036, -26.015660022693112, -28.66841991667586, -31.539929810658606, -34.16143970464136, -35.501699598624114, -38.59195949260686, -40.68221938658962, -2.96710525503158, 8.22913617599469, 6.193006231498217, 4.156876287001744, 2.120746342505271, 0.08461639800879794]\n",
      "Batch_fitness 49.159760628430966\n",
      "Train_fitness 45.55254284585936\n",
      "Test_average_revenue 45.92918934126202\n",
      "u_offender 1\n",
      "u_defender 3.7\n",
      "\n",
      "\n",
      "53\n",
      "Generation  19  : 50.50842271804227\n",
      "curve_list:  [61.668514732903006, 59.63238478840653, 46.74600072844713, 34.359616668487725, 20.696167633785183, 8.532718599082644, 5.692458705099893, 2.852198811117143, 4.015250488552594, 2.049082174345873, -2.9798792952339923, -8.008840764813858, -9.099100658796612, -12.68936055277936, -15.77962044676211, -18.49488034074486, -21.21014023472761, -23.61290012871036, -26.015660022693112, -28.16841991667586, -29.539929810658606, -33.41143970464135, -36.00169959862411, -25.33252314234098, -14.66334668605785, -2.96710525503158, 1.3629504882333183, 5.693006231498217, 4.156876287001744, 2.120746342505271, 0.5846163980087979]\n",
      "Batch_fitness 54.84213763495285\n",
      "Train_fitness 46.79141648293118\n",
      "Test_average_revenue 47.18494249827322\n",
      "u_offender 1\n",
      "u_defender 3.7\n",
      "\n",
      "\n",
      "49\n",
      "Generation  20  : 52.146249876239665\n",
      "curve_list:  [75.24995019226529, 73.28909439793956, 43.81759322876288, 14.346092059586198, 11.879923745379479, 10.413755431172756, 7.947587116966035, 6.231418802759315, 3.890250488552594, 1.5490821743458731, -0.16708613986084764, -1.8832544540675684, -4.099422768274291, -6.8155910824810135, -7.281759396687736, -8.997927710894455, -16.524163919802408, -23.55040012871036, -25.64066002269311, -28.16841991667586, -31.696179810658613, -33.16143970464136, -36.626699598624114, -38.40445949260687, -40.68221938658962, -44.02247928057237, -46.36273917455512, -30.82333631520723, -15.283933455859337, 18.38513215681919, 18.38513215681919]\n",
      "Batch_fitness 52.17859869352173\n"
     ]
    },
    {
     "name": "stdout",
     "output_type": "stream",
     "text": [
      "Train_fitness 47.45270191245569\n",
      "Test_average_revenue 47.82036826221699\n",
      "u_offender 1\n",
      "u_defender 3.7\n",
      "\n",
      "\n",
      "55\n",
      "Generation  21  : 52.09090952504857\n",
      "curve_list:  [75.24995019226529, 73.28909439793956, 23.033713197793652, 17.706818471586566, 12.379923745379477, 10.413755431172756, 8.447587116966034, 5.981418802759315, 4.265250488552594, 2.549082174345873, 0.08291386013915059, -1.3832544540675684, -3.849422768274291, -6.3155910824810135, -8.031759396687734, -9.747927710894455, -11.964096025101174, -17.087965242687886, -21.155095268545857, -26.238137539602235, -31.32117981065861, -33.66143970464136, -36.126699598624114, -38.40445949260687, -40.68221938658962, -43.52247928057237, -46.36273917455512, -48.95299906853786, -15.783933455859337, 18.38513215681919, 18.38513215681919]\n",
      "Batch_fitness 52.09090952504857\n",
      "Train_fitness 47.45270191245569\n",
      "Test_average_revenue 47.82036826221699\n",
      "u_offender 1\n",
      "u_defender 3.7\n",
      "\n",
      "\n",
      "43\n",
      "Generation  22  : 54.09708580703568\n",
      "curve_list:  [75.24995019226529, 73.28909439793956, 23.033713197793652, 17.706818471586566, 12.379923745379477, 10.413755431172756, 8.447587116966034, 5.981418802759315, 4.265250488552594, 2.1740821743458723, 0.08291386013915059, -0.8832544540675684, -3.849422768274291, -5.940591082481013, -8.031759396687734, -9.747927710894455, -11.964096025101174, -17.587965242687886, -21.155095268545857, -26.238137539602235, -31.32117981065861, -33.66143970464136, -36.626699598624114, -38.65445949260687, -40.68221938658962, -44.02247928057237, -46.36273917455512, -48.45299906853786, -15.783933455859337, 18.38513215681919, 18.38513215681919]\n",
      "Batch_fitness 56.86665992706139\n",
      "Train_fitness 47.45270191245569\n",
      "Test_average_revenue 47.82036826221699\n",
      "u_offender 1\n",
      "u_defender 3.7\n",
      "\n",
      "\n",
      "48\n",
      "Generation  23  : 52.39808164309725\n",
      "curve_list:  [75.24995019226529, 73.28909439793956, 43.81759322876288, 14.346092059586198, 11.879923745379479, 9.913755431172756, 7.947587116966035, 5.981418802759313, 4.015250488552593, 2.049082174345873, -15.403601024361594, -11.969935833985172, -8.536270643608752, -9.806074747764937, -13.28704214554465, -16.768009543324364, -11.714096025101174, -18.67737802389714, -23.204148970286504, -27.230919916675862, -30.696179810658613, -33.66143970464136, -36.126699598624114, -38.40445949260687, -40.68221938658962, -43.52247928057237, -46.36273917455512, -48.95299906853786, -15.283933455859337, 18.38513215681919, 18.38513215681919]\n",
      "Batch_fitness 52.39808164309725\n",
      "Train_fitness 47.45270191245569\n",
      "Test_average_revenue 47.82036826221699\n",
      "u_offender 1\n",
      "u_defender 3.7\n",
      "\n",
      "\n",
      "49\n",
      "Generation  24  : 51.33412959045801\n",
      "curve_list:  [75.24995019226529, 59.53377171051409, 36.93993188505014, 14.346092059586198, 11.879923745379479, 9.913755431172756, 7.947587116966035, 6.231418802759315, 4.515250488552594, 1.5490821743458731, -0.6670861398608476, -1.8832544540675684, -4.099422768274291, -6.3155910824810135, -7.281759396687736, -9.497927710894455, -16.524163919802408, -21.08241197124776, -25.64066002269311, -28.66841991667586, -31.289929810658613, -33.91143970464137, -36.126699598624114, -38.15445949260687, -40.18221938658962, -43.02247928057237, -46.36273917455512, -48.95299906853786, -15.283933455859337, 18.38513215681919, 17.88513215681919]\n",
      "Batch_fitness 51.33412959045801\n",
      "Train_fitness 47.977711555306044\n",
      "Test_average_revenue 48.37202980257349\n",
      "u_offender 1\n",
      "u_defender 3.7\n",
      "\n",
      "\n",
      "49\n",
      "Generation  25  : 52.3590701398014\n",
      "curve_list:  [75.24995019226529, 73.28909439793956, 43.81759322876288, 14.346092059586198, 12.379923745379479, 9.913755431172756, 8.072587116966035, 6.231418802759315, 4.015250488552594, 1.5490821743458731, -0.41708613986084764, -2.3832544540675684, -4.599422768274291, -6.253091082481013, -7.906759396687734, -9.497927710894455, -16.524163919802408, -23.05040012871036, -25.609410022693112, -28.652794916675862, -31.696179810658613, -34.41143970464137, -36.126699598624114, -38.15445949260687, -40.18221938658962, -19.795457591528386, -0.4086957964671498, -1.8019692006810644, -10.260203547622666, -24.50032798580897, 18.38513215681919]\n",
      "Batch_fitness 55.73360836565099\n",
      "Train_fitness 47.547884224786266\n",
      "Test_average_revenue 47.94329213677102\n",
      "u_offender 1\n",
      "u_defender 3.7\n",
      "\n",
      "\n",
      "53\n",
      "Generation  26  : 55.73338677069453\n",
      "curve_list:  [74.74995019226529, 73.28909439793956, 22.533713197793652, 17.706818471586566, 12.379923745379477, 10.413755431172756, 7.947587116966034, 5.981418802759315, 4.265250488552594, 2.1740821743458723, 0.08291386013915059, -1.8832544540675702, -3.849422768274291, -5.940591082481013, -8.031759396687734, -9.247927710894455, -11.964096025101174, -17.587965242687886, -21.155095268545857, -26.238137539602235, -31.32117981065861, -33.66143970464136, -36.157949598624114, -38.65445949260687, -40.68221938658962, -44.02247928057237, -46.36273917455512, -48.45299906853786, -15.783933455859337, 17.88513215681919, 18.38513215681919]\n",
      "Batch_fitness 55.302820908818106\n",
      "Train_fitness 47.27724025418059\n",
      "Test_average_revenue 47.63369459355488\n",
      "u_offender 1\n",
      "u_defender 3.7\n",
      "\n",
      "\n",
      "45\n",
      "Generation  27  : 50.49124504397235\n",
      "curve_list:  [75.24995019226529, 72.78909439793956, 53.32435553321365, 33.859616668487725, 20.946167633785183, 13.694313169442538, 5.942458705099892, 2.852198811117143, 0.1369389171343931, -2.5783209768483566, -5.293580870831107, -8.008840764813858, -8.099100658796612, -13.18936055277936, -14.728685048051862, -16.768009543324364, -11.714096025101174, -17.20912249769384, -22.704148970286504, -26.730919916675862, -25.19470347685823, -33.66143970464136, -36.126699598624114, -38.40445949260687, -40.68221938658962, -43.52247928057237, -46.36273917455512, -48.45299906853786, -15.283933455859337, 18.38513215681919, 18.38513215681919]\n",
      "Batch_fitness 55.89009527950439\n",
      "Train_fitness 47.64762377547191\n",
      "Test_average_revenue 48.02169552868557\n",
      "u_offender 1\n",
      "u_defender 3.7\n",
      "\n",
      "\n",
      "47\n",
      "Generation  28  : 53.10438225286559\n",
      "curve_list:  [73.28909439793956, 59.659480151303185, 43.807187488163166, 28.454894825023143, 11.879923745379479, 9.913755431172756, 5.442458705099893, 3.1021988111171437, 0.761938917134394, -2.3283209768483566, -0.4170861398608494, -0.8832544540675684, -2.849422768274291, -7.8155910824810135, -8.719259396687734, -10.841677710894455, -12.964096025101174, -17.309595646823517, -21.655095268545857, -24.424899372702043, -30.196179810658613, -33.41143970464135, -36.00169959862411, -25.33252314234098, -40.18221938658962, -43.45997928057237, -18.633486524537076, 6.193006231498217, 4.156876287001744, 2.120746342505271, 2.120746342505271]\n",
      "Batch_fitness 57.009813498903675\n",
      "Train_fitness 48.68933221491248\n",
      "Test_average_revenue 49.04460191101449\n",
      "u_offender 1\n",
      "u_defender 3.7\n",
      "\n",
      "\n",
      "61\n",
      "Generation  29  : 57.532276526539306\n",
      "curve_list:  [73.28909439793956, 73.28909439793956, 50.06892644250537, 30.474425093942425, 19.503571846512536, 8.532718599082644, 4.692458705099893, 2.8521988111171437, 0.261938917134394, -1.8283209768483566, -0.4170861398608494, -1.3832544540675684, -2.349422768274291, -7.3155910824810135, -8.719259396687734, -14.845682956077306, -11.714096025101174, -18.67737802389714, -25.64066002269311, -28.16841991667586, -30.696179810658613, -33.41143970464137, -36.126699598624114, -37.90445949260687, -40.71346938658962, -43.52247928057237, -46.23773917455512, -48.95299906853786, -15.283933455859337, 18.38513215681919, 17.88513215681919]\n",
      "Batch_fitness 57.532276526539306\n",
      "Train_fitness 46.03697054042165\n",
      "Test_average_revenue 46.39628877331684\n",
      "u_offender 1\n",
      "u_defender 3.7\n",
      "\n",
      "\n",
      "62\n",
      "Generation  30  : 54.626147196971445\n",
      "curve_list:  [75.24995019226529, 73.78909439793956, 23.033713197793652, 14.846092059586198, 12.379923745379477, 9.913755431172756, 8.447587116966034, -18.36520662276455, -18.05394955580691, 2.049082174345873, -0.4170861398608494, -1.8832544540675702, -3.849422768274291, -5.940591082481013, -8.031759396687734, -9.747927710894455, -13.153761678858986, -16.559595646823517, -20.655095268545857, -23.924899372702043, -31.32117981065861, -34.66143970464136, -36.126699598624114, -38.40445949260687, -37.97409174512301, -38.043723997639155, -31.87577916716839, -33.34194748137511, -35.30811579558183, -8.461491819381319, 18.38513215681919]\n",
      "Batch_fitness 55.77500670202363\n",
      "Train_fitness 47.302986785768255\n",
      "Test_average_revenue 47.69375853895665\n",
      "u_offender 1\n",
      "u_defender 3.7\n",
      "\n",
      "\n",
      "54\n",
      "Generation  31  : 58.41707579209384\n",
      "curve_list:  [75.24995019226529, 72.78909439793956, 53.32435553321365, 33.859616668487725, 20.946167633785183, 13.694313169442538, 6.442458705099892, 2.852198811117143, 0.1369389171343931, -2.5783209768483566, -5.293580870831107, -8.008840764813858, -8.599100658796612, -13.18936055277936, -14.728685048051862, -16.768009543324364, -11.714096025101174, -17.20912249769384, -22.704148970286504, -26.730919916675862, -25.69470347685823, -33.66143970464136, -36.126699598624114, -38.40445949260687, -40.68221938658962, -43.52247928057237, -46.36273917455512, -48.45299906853786, -15.283933455859337, 18.38513215681919, 18.38513215681919]\n",
      "Batch_fitness 58.41707579209384\n"
     ]
    },
    {
     "name": "stdout",
     "output_type": "stream",
     "text": [
      "Train_fitness 47.64762377547191\n",
      "Test_average_revenue 48.02169552868557\n",
      "u_offender 1\n",
      "u_defender 3.7\n",
      "\n",
      "\n",
      "44\n",
      "Generation  32  : 51.680706027306414\n",
      "curve_list:  [73.28909439793956, 73.78909439793956, 43.81759322876288, 27.84875848707118, 18.19073854307691, 11.941598624088403, 7.396898717602773, 3.352198811117143, 0.3869389171343931, -1.5783209768483566, -3.5591624352963778, -7.508840764813858, -6.662215923647436, -7.346987660167585, -8.031759396687734, -9.747927710894455, -13.153761678858986, -16.559595646823517, -20.655095268545857, -23.924899372702043, -31.32117981065861, -34.66143970464136, -37.032949598624114, -38.59195949260686, -41.18221938658962, -43.20997928057237, -36.8604077978898, -29.51083631520723, -14.783933455859337, 18.88513215681919, 18.88513215681919]\n",
      "Batch_fitness 52.532098105793466\n",
      "Train_fitness 45.6840490119896\n",
      "Test_average_revenue 46.044703053698775\n",
      "u_offender 1\n",
      "u_defender 3.7\n",
      "\n",
      "\n",
      "59\n",
      "Generation  33  : 52.152551091232944\n",
      "curve_list:  [75.24995019226529, 73.28909439793956, 43.81759322876288, 28.34875848707118, 18.19073854307691, 8.532718599082644, 7.947587116966035, 6.481418802759313, 4.515250488552594, 2.049082174345873, -0.16708613986084764, -2.1332544540675693, -4.099422768274291, -6.3155910824810135, -7.906759396687734, -9.497927710894455, -17.024163919802408, -23.55040012871036, -25.859410022693112, -28.16841991667586, -31.196179810658613, -33.66143970464137, -36.126699598624114, -38.40445949260687, -40.68221938658962, -43.52247928057237, -37.1416577978898, -30.76083631520723, -15.283933455859337, 18.38513215681919, 18.38513215681919]\n",
      "Batch_fitness 53.08894891971214\n",
      "Train_fitness 47.45270191245569\n",
      "Test_average_revenue 47.82036826221699\n",
      "u_offender 1\n",
      "u_defender 3.7\n",
      "\n",
      "\n",
      "60\n",
      "Generation  34  : 52.71455717456534\n",
      "curve_list:  [74.28909439793956, 59.659480151303185, 44.1584371995814, 32.80230241668329, 20.946167633785183, 9.913755431172756, 8.447587116966034, -1.0120883414202098, -10.471763799806453, -2.5783209768483566, -2.2307877154579634, -1.8832544540675702, -3.849422768274291, -6.190591082481013, -8.219259396687734, -10.247927710894455, -11.964096025101174, -16.559595646823517, -21.155095268545857, -23.924899372702043, -31.32117981065861, -33.72393970464136, -36.126699598624114, -38.35758449260687, -40.58846938658962, -43.53810428057237, -36.8369702978898, -26.060451876874566, -15.283933455859337, 1.550599350479926, 1.550599350479926]\n",
      "Batch_fitness 54.48705904813959\n",
      "Train_fitness 49.23357275908276\n",
      "Test_average_revenue 49.67200059613392\n",
      "u_offender 1\n",
      "u_defender 3.7\n",
      "\n",
      "\n",
      "48\n",
      "Generation  35  : 52.240904686611614\n",
      "curve_list:  [75.24995019226529, 73.28909439793956, 36.93993188505014, 14.346092059586198, 11.879923745379477, 9.413755431172756, 7.947587116966035, 6.981418802759313, 4.515250488552593, 2.049082174345873, -15.403601024361594, -7.508840764813858, -6.662215923647436, -7.3155910824810135, -8.719259396687734, -10.622927710894455, -15.004109437642063, -19.390482489087415, -23.776855540532765, -27.34589267559569, -30.914929810658613, -33.66143970464137, -36.032949598624114, -38.40445949260687, -40.96346938658962, -43.52247928057237, -45.73773917455512, -47.95299906853786, -14.783933455859337, 18.38513215681919, 18.88513215681919]\n",
      "Batch_fitness 60.21244834391854\n",
      "Train_fitness 47.491413264782054\n",
      "Test_average_revenue 47.85730261165336\n",
      "u_offender 1\n",
      "u_defender 3.7\n",
      "\n",
      "\n",
      "67\n",
      "Generation  36  : 52.68393028411495\n",
      "curve_list:  [58.548140943051365, 51.177664215607265, 43.807187488163166, 27.954894825023143, 12.379923745379479, 9.413755431172756, -3.475725595795897, 3.1021988111171437, 0.761938917134394, 0.1724263886367723, 0.08291386013915059, -0.8832544540675684, -4.099422768274291, -7.8155910824810135, -9.328634396687734, -10.841677710894455, -12.964096025101174, -17.309595646823517, -20.86724750976278, -24.424899372702043, -28.504916970674973, -32.5849345686479, -35.75169959862411, -38.46695949260686, -40.68221938658962, -43.52247928057237, -45.23773917455512, -30.51083631520723, 4.156876287001744, 2.120746342505271, 2.120746342505271]\n",
      "Batch_fitness 54.807121954327776\n",
      "Train_fitness 47.25018991672835\n",
      "Test_average_revenue 47.63109562369525\n",
      "u_offender 1\n",
      "u_defender 3.7\n",
      "\n",
      "\n",
      "51\n",
      "Generation  37  : 53.560380243724836\n",
      "curve_list:  [74.74995019226529, 72.78909439793956, 43.31759322876288, 28.34875848707118, 18.19073854307691, 8.532718599082644, 7.447587116966035, 6.481418802759313, 4.515250488552594, 2.049082174345873, -0.04208613986084808, -2.1332544540675693, -4.599422768274291, -6.3155910824810135, -7.906759396687734, -17.86988034074486, -15.004109437642063, -19.390482489087415, -23.776855540532765, -28.16841991667586, -30.664929810658613, -33.16143970464137, -35.626699598624114, -38.35758449260687, -41.08846938658962, -43.53810428057237, -37.1494702978898, -30.76083631520723, -15.283933455859337, 18.38513215681919, 18.38513215681919]\n",
      "Batch_fitness 54.23186736214379\n",
      "Train_fitness 47.3863795947658\n",
      "Test_average_revenue 47.755848377370484\n",
      "u_offender 1\n",
      "u_defender 3.7\n",
      "\n",
      "\n",
      "57\n",
      "Generation  38  : 55.4476636445042\n",
      "curve_list:  [73.28909439793956, 59.659480151303185, 44.1584371995814, 33.30230241668329, 20.946167633785183, 9.413755431172756, 8.447587116966034, -1.0120883414202098, -10.471763799806453, -2.5783209768483566, -2.2307877154579634, -1.3832544540675702, -3.849422768274291, -6.034341082481013, -8.219259396687734, -10.247927710894455, -12.464096025101174, -17.059595646823517, -21.155095268545857, -23.924899372702043, -31.32117981065861, -33.22393970464136, -36.126699598624114, -38.35758449260687, -41.08846938658962, -43.53810428057237, -36.8369702978898, -26.060451876874566, -15.283933455859337, 1.550599350479926, 1.050599350479926]\n",
      "Batch_fitness 55.4476636445042\n",
      "Train_fitness 49.18004174290823\n",
      "Test_average_revenue 49.6519029753319\n",
      "u_offender 1\n",
      "u_defender 3.7\n",
      "\n",
      "\n",
      "48\n",
      "Generation  39  : 52.45663789144801\n",
      "curve_list:  [73.78909439793956, 72.78909439793956, 43.31759322876288, 28.34875848707118, 18.19073854307691, 8.532718599082644, 7.447587116966035, 6.481418802759313, 4.515250488552594, 2.049082174345873, -0.04208613986084808, -2.1332544540675693, -4.599422768274291, -6.3155910824810135, -7.906759396687734, -17.86988034074486, -15.004109437642063, -19.390482489087415, -23.776855540532765, -28.16841991667586, -29.62667724266188, -32.0849345686479, -35.27594703062738, -37.7290832086085, -40.18221938658962, -42.95997928057237, -25.09914219967002, -7.738305118767666, -2.5587793881311978, 1.6207463425052708, 2.120746342505271]\n",
      "Batch_fitness 53.92770373400529\n",
      "Train_fitness 47.52234895371302\n",
      "Test_average_revenue 48.00566308766823\n",
      "u_offender 1\n",
      "u_defender 3.7\n",
      "\n",
      "\n",
      "49\n",
      "Generation  40  : 54.00864266354986\n",
      "curve_list:  [73.28909439793956, 72.78909439793956, 43.31759322876288, 28.34875848707118, 18.44073854307691, 12.944162830021472, 7.447587116966035, 6.481418802759313, 5.015250488552594, 2.049082174345873, -0.04208613986084808, -1.6332544540675693, -4.599422768274291, -6.3155910824810135, -7.906759396687734, -18.36988034074486, -15.004109437642063, -19.390482489087415, -23.776855540532765, -28.16841991667586, -29.62667724266188, -32.0849345686479, -35.27594703062738, -38.2290832086085, -40.18221938658962, -42.95997928057237, -25.09914219967002, -7.738305118767666, -2.5587793881311978, 1.6207463425052708, 1.6207463425052708]\n",
      "Batch_fitness 56.8125691431842\n",
      "Train_fitness 47.10143046990675\n",
      "Test_average_revenue 47.59058001046207\n",
      "u_offender 1\n",
      "u_defender 3.7\n",
      "\n",
      "\n",
      "49\n",
      "Generation  41  : 52.77835415795337\n",
      "curve_list:  [72.78909439793956, 58.548140943051365, 43.501517884037256, 27.940720814708367, 18.425956019974027, 8.911191225239687, 5.442458705099893, 2.1021988111171437, -0.11306108286560645, -2.3283209768483566, -0.9170861398608494, -3.040105241866127, -4.53722316217357, -6.034341082481013, -8.219259396687734, -10.247927710894455, -12.464096025101174, -16.809595646823517, -21.155095268545857, -23.924899372702043, -30.82117981065861, -33.22393970464136, -36.626699598624114, -38.85758449260687, -41.08846938658962, -43.53810428057237, -32.572132734557144, -21.60616118854191, -5.87535207919402, 18.88513215681919, 17.88513215681919]\n",
      "Batch_fitness 54.85368855709197\n",
      "Train_fitness 47.404373624708086\n",
      "Test_average_revenue 47.80791393748069\n",
      "u_offender 1\n",
      "u_defender 3.7\n",
      "\n",
      "\n",
      "55\n",
      "Generation  42  : 53.51124869228819\n",
      "curve_list:  [73.28909439793956, 58.97376579876048, 22.533713197793652, 17.706818471586566, 13.810286951379661, 9.913755431172756, 5.692458705099893, 3.5396988111171432, 0.7306889171343933, -1.5783209768483566, -2.480787715457963, -2.3832544540675693, -4.927621057117577, -7.471987660167585, -8.781759396687734, -14.845682956077306, -12.714096025101174, -19.17737802389714, -22.516279886836408, -25.85518174977567, -25.19470347685823, -30.410701537741172, -35.77594703062738, -38.1353332086085, -40.994719386589615, -43.52247928057237, -45.73773917455512, -30.51083631520723, -14.35511848236365, 1.7650068372277694, 17.88513215681919]\n",
      "Batch_fitness 53.51124869228819\n"
     ]
    },
    {
     "name": "stdout",
     "output_type": "stream",
     "text": [
      "Train_fitness 47.870206518628784\n",
      "Test_average_revenue 48.251902735430306\n",
      "u_offender 1\n",
      "u_defender 3.7\n",
      "\n",
      "\n",
      "61\n",
      "Generation  43  : 57.57976683042976\n",
      "curve_list:  [76.24995019226529, 59.53377171051409, 36.93993188505014, 28.84875848707118, 19.38125695912197, 9.913755431172756, 6.029149680608594, 2.1445439300444304, 1.261938917134394, -2.3283209768483566, -2.480787715457963, -2.3832544540675693, -4.927621057117577, -7.471987660167585, -8.781759396687734, -14.845682956077306, -12.714096025101174, -19.17737802389714, -22.516279886836408, -25.85518174977567, -25.19470347685823, -30.410701537741172, -35.77594703062738, -38.1353332086085, -40.68221938658962, -43.53810428057237, -37.3369702978898, -30.63583631520723, -6.12535207919402, 6.129890038812585, 17.88513215681919]\n",
      "Batch_fitness 57.57976683042976\n",
      "Train_fitness 48.35846779704186\n",
      "Test_average_revenue 48.74994018230788\n",
      "u_offender 1\n",
      "u_defender 3.7\n",
      "\n",
      "\n",
      "52\n",
      "Generation  44  : 55.15077933439697\n",
      "curve_list:  [73.78909439793956, 72.78909439793956, 44.31759322876288, 28.09875848707118, 11.879923745379479, 8.203536344166974, 5.049040137105702, 1.8945439300444304, 0.033111476598036926, -2.3283209768483566, -0.9170861398608494, -0.8832544540675684, -9.72410065879661, -12.751860552779359, -14.77962044676211, -14.802628562810547, -13.825636678858986, -16.809595646823517, -20.565878229459777, -24.322160812096037, -28.44952383431137, -32.576886856526706, -36.626699598624114, -38.35758449260687, -39.18221938658962, -44.02247928057237, -45.23773917455512, -29.796428828459383, -14.35511848236365, 1.800599350479926, 1.800599350479926]\n",
      "Batch_fitness 55.15077933439697\n",
      "Train_fitness 47.47555842029135\n",
      "Test_average_revenue 47.96011842943024\n",
      "u_offender 1\n",
      "u_defender 3.7\n",
      "\n",
      "\n",
      "59\n",
      "Generation  45  : 51.78377741404451\n",
      "curve_list:  [58.548140943051365, 48.21801193363933, 40.38515717516131, 30.665662404473245, 20.946167633785183, 9.913755431172756, 9.447587116966034, 4.104763017050214, -0.738061082865606, -0.3275736113632277, -0.6054140327153981, -1.3832544540675684, -4.099422768274291, -7.3155910824810135, -9.328634396687734, -10.841677710894455, -13.825636678858986, -16.809595646823517, -20.11724750976278, -24.796476171944537, -28.686681514235623, -32.406690556429865, -36.126699598624114, -38.35758449260687, -40.65878188658962, -42.95997928057237, -36.7979077978898, -23.777102170960394, -12.75492626319732, 1.550599350479926, 2.120746342505271]\n",
      "Batch_fitness 56.149468001833746\n",
      "Train_fitness 48.06598115432385\n",
      "Test_average_revenue 48.45644704314\n",
      "u_offender 1\n",
      "u_defender 3.7\n",
      "\n",
      "\n",
      "49\n",
      "Generation  46  : 58.11722465087084\n",
      "curve_list:  [73.78909439793956, 58.97376579876048, 44.001517884037256, 27.940720814708367, 18.425956019974027, 8.411191225239687, 5.692458705099893, 3.5396988111171432, 0.7306889171343933, -1.5783209768483566, -2.480787715457963, -3.7042043862877696, -4.927621057117577, -6.6046902269026555, -8.281759396687734, -11.341677710894455, -14.075636678858986, -17.346442094310884, -20.635670733506466, -23.924899372702043, -27.918169538671698, -31.834934568647903, -35.75169959862411, -37.71695949260686, -39.68221938658962, -42.95997928057237, -25.09914219967002, -7.738305118767666, 3.6568762870017437, 2.8888113147535073, 2.120746342505271]\n",
      "Batch_fitness 58.11722465087084\n",
      "Train_fitness 49.00778877070036\n",
      "Test_average_revenue 49.462635354380325\n",
      "u_offender 1\n",
      "u_defender 3.7\n",
      "\n",
      "\n",
      "54\n",
      "Generation  47  : 52.14661456531067\n",
      "curve_list:  [76.24995019226529, 56.594941038657716, 37.43993188505014, 24.40992781521481, 11.379923745379477, 10.163755431172756, 6.38297712114495, 2.6021988111171437, 2.7318904927315084, -0.8642681685440705, -4.460426829819649, -1.3832544540675702, -4.599422768274292, -7.3155910824810135, -9.609276370363043, -11.902961658245072, -14.790169841071107, -19.17737802389714, -23.204148970286504, -27.20016439047256, -30.305802047556963, -33.21625082309054, -36.435355157848704, -37.85758449260687, -39.18221938658962, -37.99006359223971, -37.2979077978898, -30.63583631520723, -6.37535207919402, 17.88513215681919, 17.38513215681919]\n",
      "Batch_fitness 52.14661456531067\n",
      "Train_fitness 48.18241035146708\n",
      "Test_average_revenue 48.62806637825399\n",
      "u_offender 1\n",
      "u_defender 3.7\n",
      "\n",
      "\n",
      "53\n",
      "Generation  48  : 54.68842059250498\n",
      "curve_list:  [74.78909439793956, 60.659480151303185, 44.1584371995814, 32.55230241668329, 21.233028923928025, 9.413755431172756, 8.447587116966034, 2.1021988111171437, -0.238061082865606, -0.3275736113632277, -0.6054140327153981, -2.6024184004948445, -4.099422768274291, -6.8155910824810135, -9.328634396687734, -10.341677710894455, -13.575636678858986, -16.809595646823517, -20.565878229459777, -24.6262798718477, -28.186681514235623, -32.076886856526706, -36.126699598624114, -38.46695949260686, -40.463469386589615, -43.53810428057237, -34.79927807872347, -26.060451876874566, -12.25492626319732, -5.352163456358697, 1.550599350479926]\n",
      "Batch_fitness 56.60149361031498\n",
      "Train_fitness 49.20003693576715\n",
      "Test_average_revenue 49.68155825474623\n",
      "u_offender 1\n",
      "u_defender 3.7\n",
      "\n",
      "\n",
      "56\n",
      "Generation  49  : 56.83153014891292\n",
      "curve_list:  [73.78909439793956, 58.72376579876048, 43.6584371995814, 32.55230241668329, 20.946167633785183, 7.411191225239687, 5.692458705099893, -1.1068933393307514, 0.7210944175075609, 0.2145041388233564, -0.2920861398608481, -1.9457544540675695, -3.599422768274291, -6.464028582481013, -9.328634396687734, -10.841677710894455, -14.110649810886782, -24.05040012871036, -25.359410022693112, -28.277794916675862, -29.927340886601286, -32.076886856526706, -35.46723567456679, -38.85758449260687, -33.43740622408511, -29.40785295556335, -16.87906324653938, -4.350273537515411, 3.6568762870017437, 2.353737818740835, 2.050599350479926]\n",
      "Batch_fitness 61.58221065186671\n",
      "Train_fitness 49.00778877070036\n",
      "Test_average_revenue 49.462635354380325\n",
      "u_offender 1\n",
      "u_defender 3.7\n",
      "\n",
      "\n",
      "51\n",
      "Generation  50  : 54.99679626066356\n",
      "curve_list:  [74.28909439793956, 58.14530614098841, 43.04301347784839, 27.940720814708367, 18.425956019974027, 8.911191225239687, 6.692458705099893, 4.039698811117143, 0.7306889171343933, -1.0783209768483566, -2.9313814230955884, -3.9295012401065827, -4.427621057117577, -7.3546902269026555, -11.100186591489981, -15.845682956077306, -13.214096025101174, -16.684595646823517, -20.655095268545857, -23.161447861883733, -28.53644378326255, -33.91143970464137, -36.126699598624114, -35.03205291135461, -33.93740622408511, -28.90785295556335, -18.323079037165506, -7.738305118767666, -2.4247469020070795, 0.09799972024909565, 2.620746342505271]\n",
      "Batch_fitness 54.99679626066356\n",
      "Train_fitness 49.19826933277179\n",
      "Test_average_revenue 49.659647068838055\n",
      "u_offender 1\n",
      "u_defender 3.7\n",
      "\n",
      "\n",
      "52\n",
      "Generation  51  : 59.70674633924728\n",
      "curve_list:  [72.78909439793956, 58.14530614098841, 43.54301347784839, 30.984484748911207, 18.425956019974027, 8.411191225239687, 5.692458705099893, 3.5396988111171432, 0.7306889171343933, -1.5783209768483566, -1.980787715457963, -3.7042043862877696, -4.927621057117577, -7.3546902269026555, -9.328634396687734, -11.719642103787258, -14.110649810886782, -18.88529116438967, -21.155095268545857, -23.911447861883733, -26.66780045522161, -31.160701537741172, -34.85289301517402, -38.54508449260687, -38.62890216742329, -39.21271984223971, -36.8369702978898, -31.13583631520723, -13.68601250022686, -6.032633078860795, 1.6207463425052708]\n",
      "Batch_fitness 59.70674633924728\n",
      "Train_fitness 49.20347475842287\n",
      "Test_average_revenue 49.679049304324565\n",
      "u_offender 1\n",
      "u_defender 3.7\n",
      "\n",
      "\n",
      "42\n",
      "Generation  52  : 55.835534034441004\n",
      "curve_list:  [72.28909439793956, 58.14530614098841, 45.34880427883585, 23.90992781521481, 11.379923745379477, 10.163755431172756, 8.947587116966034, 2.1021988111171437, 2.7318904927315084, 2.049082174345873, -4.460426829819649, -4.52992479904697, -4.599422768274292, -7.104349569318668, -9.609276370363043, -11.902961658245072, -15.290169841071107, -19.247159405678804, -23.204148970286504, -27.20016439047256, -30.789929810658613, -33.5035827426127, -36.126699598624114, -37.96695949260686, -40.463469386589615, -43.53810428057237, -35.29927807872347, -26.060451876874566, -12.25492626319732, -5.852163456358697, 1.550599350479926]\n",
      "Batch_fitness 55.835534034441004\n",
      "Train_fitness 49.20396234828738\n",
      "Test_average_revenue 49.66244151225885\n",
      "u_offender 1\n",
      "u_defender 3.7\n",
      "\n",
      "\n",
      "57\n",
      "Generation  53  : 52.17860831112642\n",
      "curve_list:  [73.28909439793956, 60.159480151303185, 43.6584371995814, 32.55230241668329, 21.446167633785183, 7.411191225239687, 5.692458705099893, 1.9874257735051697, -1.717607158089554, -2.3283209768483566, -0.4170861398608494, -0.8832544540675684, -3.743972340485112, -6.6046902269026555, -9.753825942573863, -11.70213553777336, -17.37626783324186, -21.617838927967487, -25.859410022693112, -27.777794916675862, -30.196179810658613, -32.98956470464137, -35.782949598624114, -37.71695949260686, -41.08846938658962, -37.94387373265654, -34.79927807872347, -23.277102170960394, -5.37535207919402, 2.853737818740835, 2.853737818740835]\n",
      "Batch_fitness 52.45836131990654\n"
     ]
    },
    {
     "name": "stdout",
     "output_type": "stream",
     "text": [
      "Train_fitness 49.19585997152925\n",
      "Test_average_revenue 49.627195302555215\n",
      "u_offender 1\n",
      "u_defender 3.7\n",
      "\n",
      "\n",
      "52\n",
      "Generation  54  : 57.33614181005907\n",
      "curve_list:  [73.28909439793956, 60.159480151303185, 43.6584371995814, 32.55230241668329, 21.446167633785183, 7.411191225239687, 5.692458705099893, 1.9874257735051697, -1.717607158089554, -2.3283209768483566, -0.4170861398608494, -0.8832544540675684, -3.743972340485112, -6.6046902269026555, -11.600186591489981, -15.845682956077306, -16.01513930145041, -16.184595646823517, -19.923021754353627, -23.661447861883733, -26.911074699812453, -31.160701537741172, -34.43883051517402, -37.71695949260686, -34.92882014286834, -28.94006640742626, -22.951312671984184, -13.76194455083855, -6.831972415294727, 0.09799972024909565, 2.853737818740835]\n",
      "Batch_fitness 57.33614181005907\n",
      "Train_fitness 49.19567589227664\n",
      "Test_average_revenue 49.64918096187087\n",
      "u_offender 1\n",
      "u_defender 3.7\n",
      "\n",
      "\n",
      "54\n",
      "Generation  55  : 53.70250132390623\n",
      "curve_list:  [58.548140943051365, 48.21801193363933, 36.31396987442707, 23.90992781521481, 18.925956019974027, 8.411191225239687, 5.936382518178415, 3.4615738111171432, 0.7306889171343933, -0.8503462529805975, -2.641262681568063, -3.7042043862877696, -4.927621057117577, -6.1671902269026555, -9.191325942573863, -12.215461658245072, -17.882930893477717, -20.54353993188211, -23.204148970286504, -27.20016439047256, -27.176880970519463, -30.928862568336886, -32.736519597846566, -34.544176627356244, -39.0411404539643, -43.03810428057237, -13.607423362032566, -12.931174812614943, -12.75492626319732, -6.102163456358697, 0.550599350479926]\n",
      "Batch_fitness 55.72226262813131\n",
      "Train_fitness 48.288789147263806\n",
      "Test_average_revenue 48.685782145647366\n",
      "u_offender 1\n",
      "u_defender 3.7\n",
      "\n",
      "\n",
      "50\n",
      "Generation  56  : 56.79893445865355\n",
      "curve_list:  [74.28909439793956, 59.159480151303185, 43.55010048300578, 27.940720814708367, 21.44379909504199, 14.946877375375609, 8.447587116966034, 4.104763017050214, -0.738061082865606, -0.671737557790502, -0.5274960059290352, -3.1735310270258865, -5.819566048122738, -7.339028582481013, -9.328634396687734, -11.719642103787258, -13.610649810886782, -23.05040012871036, -25.164097522693112, -27.277794916675862, -30.196179810658613, -32.076886856526706, -35.21723567456679, -37.85758449260687, -37.8304166126317, -37.94387373265654, -34.79927807872347, -23.277102170960394, -10.211682176109779, 2.853737818740835, 1.550599350479926]\n",
      "Batch_fitness 56.79893445865355\n",
      "Train_fitness 49.16715851074738\n",
      "Test_average_revenue 49.64633354610545\n",
      "u_offender 1\n",
      "u_defender 3.7\n",
      "\n",
      "\n",
      "56\n",
      "Generation  57  : 53.4630747441421\n",
      "curve_list:  [73.78909439793956, 59.659480151303185, 44.1584371995814, 32.55230241668329, 21.233028923928025, 12.30920736253696, 7.447587116966034, 2.1021988111171437, 1.2415947323379033, -0.8503462529805975, -2.641262681568063, -4.20420438628777, -4.927621057117577, -9.526367527742172, -9.328634396687734, -13.352451114964797, -17.37626783324186, -21.617838927967487, -25.859410022693112, -27.527794916675862, -30.196179810658613, -32.98956470464137, -35.282949598624114, -37.71695949260686, -41.08846938658962, -37.94387373265654, -34.79927807872347, -23.277102170960394, -5.37535207919402, -3.501327473769197, -1.6273028683443744]\n",
      "Batch_fitness 54.472877299637986\n",
      "Train_fitness 49.123489221738346\n",
      "Test_average_revenue 49.654338165450625\n",
      "u_offender 1\n",
      "u_defender 3.7\n",
      "\n",
      "\n",
      "59\n",
      "Generation  58  : 53.40016700225153\n",
      "curve_list:  [74.28909439793956, 57.52076441243791, 41.79347174929789, 29.954219503981605, 18.114967258665313, 9.663755431172756, 6.192458705099893, 2.9615738111171432, -0.2693110828656067, -1.0783209768483566, -2.6813814230955884, -4.28444186934282, -4.427621057117577, -6.1671902269026555, -11.006436591489981, -15.845682956077306, -16.612652433478207, -17.37962191087911, -21.155095268545857, -24.552309551428614, -27.94952383431137, -32.28811171646774, -35.0728481045373, -37.85758449260687, -38.12890216742329, -31.614022183546655, -22.5629833671926, -13.51194455083855, -7.337659070858771, -1.163373590878992, 0.5979997202490956]\n",
      "Batch_fitness 60.19549528945478\n",
      "Train_fitness 49.18414313833554\n",
      "Test_average_revenue 49.676591087874755\n",
      "u_offender 1\n",
      "u_defender 3.7\n",
      "\n",
      "\n",
      "55\n",
      "Generation  59  : 52.565633220039736\n",
      "curve_list:  [58.548140943051365, 48.21801193363933, 36.31396987442707, 23.90992781521481, 11.879923745379477, 10.163755431172756, 8.947587116966034, 2.1021988111171437, 2.3256404927315084, 2.049082174345873, -4.460426829819649, -4.52992479904697, -5.817137184182819, -7.604349569318668, -9.328634396687734, -11.719642103787258, -13.610649810886782, -23.05040012871036, -25.164097522693112, -26.777794916675862, -30.196179810658613, -32.076886856526706, -32.736519597846566, -34.544176627356244, -39.0411404539643, -43.03810428057237, -13.107423362032566, -12.931174812614943, -12.75492626319732, -5.602163456358697, 0.550599350479926]\n",
      "Batch_fitness 54.1998717895011\n",
      "Train_fitness 48.288789147263806\n",
      "Test_average_revenue 48.685782145647366\n",
      "u_offender 1\n",
      "u_defender 3.7\n",
      "\n",
      "\n",
      "Final: \n",
      "curve_list:  [58.548140943051365, 48.21801193363933, 36.31396987442707, 23.90992781521481, 11.879923745379477, 10.163755431172756, 8.947587116966034, 2.1021988111171437, 2.3256404927315084, 2.049082174345873, -4.460426829819649, -4.52992479904697, -5.817137184182819, -7.604349569318668, -9.328634396687734, -11.719642103787258, -13.610649810886782, -23.05040012871036, -25.164097522693112, -26.777794916675862, -30.196179810658613, -32.076886856526706, -32.736519597846566, -34.544176627356244, -39.0411404539643, -43.03810428057237, -13.107423362032566, -12.931174812614943, -12.75492626319732, -5.602163456358697, 0.550599350479926]\n",
      "Batch_fitness 48.288789147263806\n",
      "Train_fitness 48.288789147263806\n",
      "Test_average_revenue 48.685782145647366\n",
      "u_offender 1\n",
      "u_defender 3.7\n",
      "\n"
     ]
    },
    {
     "data": {
      "image/png": "[encoded data removed]",
      "text/plain": [
       "<Figure size 432x288 with 1 Axes>"
      ]
     },
     "metadata": {
      "needs_background": "light"
     },
     "output_type": "display_data"
    }
   ],
   "source": [
    "result = geneticAlgorithm(pop, popSize, eliteSize, mutationRate, generations)"
   ]
  },
  {
   "cell_type": "code",
   "execution_count": 19,
   "metadata": {
    "ExecuteTime": {
     "end_time": "2021-04-25T15:10:16.183600Z",
     "start_time": "2021-04-25T15:10:16.162557Z"
    }
   },
   "outputs": [],
   "source": [
    "# best_Index = rank_heads(pop)[0][0]\n",
    "# best_one = pop[best_Index]\n",
    "# result = best_one"
   ]
  },
  {
   "cell_type": "code",
   "execution_count": 20,
   "metadata": {
    "ExecuteTime": {
     "end_time": "2021-04-25T15:10:16.307269Z",
     "start_time": "2021-04-25T15:10:16.184597Z"
    }
   },
   "outputs": [
    {
     "data": {
      "image/png": "[encoded data removed]",
      "text/plain": [
       "<Figure size 432x288 with 1 Axes>"
      ]
     },
     "metadata": {
      "needs_background": "light"
     },
     "output_type": "display_data"
    }
   ],
   "source": [
    "import matplotlib.pyplot as plt\n",
    "\n",
    "plt.plot(batch_err_list,label='Batch Data Revenue')\n",
    "plt.plot(train_err_list,label='Train Data Revenue')\n",
    "\n",
    "\n",
    "plt.plot(test_err_list,label='Test Data Revenue')\n",
    "\n",
    "plt.xlabel('Generation')\n",
    "plt.ylabel('Revenue') \n",
    "plt.title('Training Revenue')\n",
    "\n",
    "plt.legend() \n",
    "plt.show()"
   ]
  },
  {
   "cell_type": "code",
   "execution_count": 21,
   "metadata": {
    "ExecuteTime": {
     "end_time": "2021-04-25T15:10:16.452563Z",
     "start_time": "2021-04-25T15:10:16.309263Z"
    },
    "scrolled": true
   },
   "outputs": [
    {
     "data": {
      "image/png": "[encoded data removed]",
      "text/plain": [
       "<Figure size 432x288 with 1 Axes>"
      ]
     },
     "metadata": {
      "needs_background": "light"
     },
     "output_type": "display_data"
    }
   ],
   "source": [
    "plt.plot(batch_err_list,label='Batch Data Revenue')\n",
    "plt.plot(test_err_list,label='Test Data Revenue')\n",
    "\n",
    "plt.xlabel('Generation')\n",
    "plt.ylabel('Revenue') \n",
    "plt.title('Training Revenue')\n",
    "\n",
    "plt.legend() \n",
    "plt.show()"
   ]
  },
  {
   "cell_type": "code",
   "execution_count": 29,
   "metadata": {
    "ExecuteTime": {
     "end_time": "2021-04-25T15:22:01.317794Z",
     "start_time": "2021-04-25T15:22:01.170310Z"
    }
   },
   "outputs": [
    {
     "data": {
      "image/png": "[encoded data removed]",
      "text/plain": [
       "<Figure size 432x288 with 1 Axes>"
      ]
     },
     "metadata": {
      "needs_background": "light"
     },
     "output_type": "display_data"
    }
   ],
   "source": [
    "#plt.plot(batch_err_list,label='Batch Data Revenue')\n",
    "plt.plot(test_err_list,label='Test Data Revenue')\n",
    "\n",
    "plt.xlabel('Generation')\n",
    "plt.ylabel('Revenue') \n",
    "plt.title('Training Revenue')\n",
    "\n",
    "plt.legend() \n",
    "plt.show()"
   ]
  },
  {
   "cell_type": "code",
   "execution_count": 22,
   "metadata": {
    "ExecuteTime": {
     "end_time": "2021-04-25T15:10:16.468220Z",
     "start_time": "2021-04-25T15:10:16.452563Z"
    }
   },
   "outputs": [],
   "source": [
    "#result = best_list[len(best_list)-1]"
   ]
  },
  {
   "cell_type": "code",
   "execution_count": 23,
   "metadata": {
    "ExecuteTime": {
     "end_time": "2021-04-25T15:10:23.581647Z",
     "start_time": "2021-04-25T15:10:16.468220Z"
    }
   },
   "outputs": [
    {
     "name": "stdout",
     "output_type": "stream",
     "text": [
      "curve_list:  [58.548140943051365, 48.21801193363933, 36.31396987442707, 23.90992781521481, 11.879923745379477, 10.163755431172756, 8.947587116966034, 2.1021988111171437, 2.3256404927315084, 2.049082174345873, -4.460426829819649, -4.52992479904697, -5.817137184182819, -7.604349569318668, -9.328634396687734, -11.719642103787258, -13.610649810886782, -23.05040012871036, -25.164097522693112, -26.777794916675862, -30.196179810658613, -32.076886856526706, -32.736519597846566, -34.544176627356244, -39.0411404539643, -43.03810428057237, -13.107423362032566, -12.931174812614943, -12.75492626319732, -5.602163456358697, 0.550599350479926]\n",
      "Batch_fitness 48.288789147263806\n",
      "Train_fitness 48.288789147263806\n",
      "Test_average_revenue 48.685782145647366\n",
      "u_offender 1\n",
      "u_defender 3.7\n",
      "\n"
     ]
    }
   ],
   "source": [
    "result.debug()"
   ]
  },
  {
   "cell_type": "code",
   "execution_count": 24,
   "metadata": {
    "ExecuteTime": {
     "end_time": "2021-04-25T15:10:23.696371Z",
     "start_time": "2021-04-25T15:10:23.581647Z"
    }
   },
   "outputs": [
    {
     "data": {
      "image/png": "[encoded data removed]",
      "text/plain": [
       "<Figure size 432x288 with 1 Axes>"
      ]
     },
     "metadata": {
      "needs_background": "light"
     },
     "output_type": "display_data"
    }
   ],
   "source": [
    "xdata = np.linspace(0, 1, global_divide_number+1)\n",
    "ydata = result.curve_list\n",
    "plt.plot(xdata,ydata,label='a(t)')\n",
    "\n",
    "plt.xlabel('t')\n",
    "plt.ylabel('a(t)') \n",
    "plt.title('a(t)')\n",
    "\n",
    "plt.legend() \n",
    "plt.show()\n"
   ]
  },
  {
   "cell_type": "code",
   "execution_count": 25,
   "metadata": {
    "ExecuteTime": {
     "end_time": "2021-04-25T15:10:25.087066Z",
     "start_time": "2021-04-25T15:10:23.700089Z"
    }
   },
   "outputs": [
    {
     "data": {
      "image/png": "[encoded data removed]",
      "text/plain": [
       "<Figure size 432x288 with 1 Axes>"
      ]
     },
     "metadata": {
      "needs_background": "light"
     },
     "output_type": "display_data"
    }
   ],
   "source": [
    "from mpl_toolkits import mplot3d\n",
    "\n",
    "ax = plt.axes(projection='3d')\n",
    "#print(result.Z_payment_list)\n",
    "\n",
    "ax.scatter3D(X_test[:,0], X_test[:,1], result.Z_payment_list,cmap='Greens');\n",
    "\n",
    "\n",
    "#ax.plot_surface(X_test[:,0], X_test[:,1], Z_payment)\n",
    "ax.set_title('surface');\n"
   ]
  },
  {
   "cell_type": "code",
   "execution_count": 26,
   "metadata": {
    "ExecuteTime": {
     "end_time": "2021-04-25T15:10:26.314113Z",
     "start_time": "2021-04-25T15:10:25.089060Z"
    }
   },
   "outputs": [
    {
     "data": {
      "image/png": "[encoded data removed]",
      "text/plain": [
       "<Figure size 432x288 with 2 Axes>"
      ]
     },
     "metadata": {
      "needs_background": "light"
     },
     "output_type": "display_data"
    }
   ],
   "source": [
    "fig = plt.figure()\n",
    "contour = plt.tricontourf(X_test[:,1],  X_test[:,0], result.Z_payment_list\n",
    "              \n",
    "               #cmap = cm.get_cmap(name='jet')\n",
    "                         )\n",
    "fig.colorbar(contour)\n",
    "plt.title('payment')\n",
    "plt.xlabel(r\"Defender type $\\dot{\\Theta}$d\")\n",
    "plt.ylabel(r\"offender type $\\dot{\\Theta}$o\")\n",
    "\n",
    "fig.savefig('3D.png')\n",
    "plt.show()"
   ]
  },
  {
   "cell_type": "code",
   "execution_count": 27,
   "metadata": {
    "ExecuteTime": {
     "end_time": "2021-04-25T15:10:27.246727Z",
     "start_time": "2021-04-25T15:10:26.314113Z"
    },
    "run_control": {
     "marked": true
    }
   },
   "outputs": [
    {
     "data": {
      "image/png": "[encoded data removed]",
      "text/plain": [
       "<Figure size 432x288 with 2 Axes>"
      ]
     },
     "metadata": {
      "needs_background": "light"
     },
     "output_type": "display_data"
    }
   ],
   "source": [
    "from scipy.interpolate import griddata\n",
    "grid_x, grid_y = np.mgrid[0:15:400j, 400:0:400j]\n",
    "points =np.reshape([X_test[:,1],X_test[:,0]],(2,-1))\n",
    "points = np.transpose(points)\n",
    "grid_z0 = griddata(points, result.Z_payment_list, (grid_x, grid_y), method='nearest')\n",
    "im =plt.imshow(grid_z0.T, extent=(0,15,0,400) , aspect='auto',interpolation='bilinear')\n",
    "plt.colorbar(im)\n",
    "plt.title('payment')\n",
    "plt.xlabel(r\"Defender type $\\dot{\\Theta}$d\")\n",
    "plt.ylabel(r\"offender type $\\dot{\\Theta}$o\")\n",
    "plt.show()"
   ]
  },
  {
   "cell_type": "code",
   "execution_count": 28,
   "metadata": {
    "ExecuteTime": {
     "end_time": "2021-04-25T15:10:27.678770Z",
     "start_time": "2021-04-25T15:10:27.246727Z"
    }
   },
   "outputs": [
    {
     "data": {
      "image/png": "[encoded data removed]",
      "text/plain": [
       "<Figure size 432x288 with 2 Axes>"
      ]
     },
     "metadata": {
      "needs_background": "light"
     },
     "output_type": "display_data"
    }
   ],
   "source": [
    "grid_x, grid_y = np.mgrid[0:15:400j, 400:0:400j]\n",
    "\n",
    "points =np.reshape([X_test[:,1],X_test[:,0]],(2,-1))\n",
    "\n",
    "points = np.transpose(points)\n",
    "\n",
    "grid_z1 = griddata(points, result.Z_o_star_list, (grid_x, grid_y), method='nearest')\n",
    "\n",
    "\n",
    "im =plt.imshow(grid_z1.T, extent=(0,15,0,400) , aspect='auto',interpolation='bilinear')\n",
    "plt.colorbar(im)\n",
    "plt.title('t*')\n",
    "plt.xlabel(r\"Defender type $\\dot{\\Theta}$d\")\n",
    "plt.ylabel(r\"offender type $\\dot{\\Theta}$o\")\n",
    "plt.show()"
   ]
  },
  {
   "cell_type": "code",
   "execution_count": null,
   "metadata": {},
   "outputs": [],
   "source": []
  }
 ],
 "metadata": {
  "hide_input": false,
  "kernelspec": {
   "display_name": "Python 3",
   "language": "python",
   "name": "python3"
  },
  "language_info": {
   "codemirror_mode": {
    "name": "ipython",
    "version": 3
   },
   "file_extension": ".py",
   "mimetype": "text/x-python",
   "name": "python",
   "nbconvert_exporter": "python",
   "pygments_lexer": "ipython3",
   "version": "3.8.3"
  },
  "varInspector": {
   "cols": {
    "lenName": 16,
    "lenType": 16,
    "lenVar": 40
   },
   "kernels_config": {
    "python": {
     "delete_cmd_postfix": "",
     "delete_cmd_prefix": "del ",
     "library": "var_list.py",
     "varRefreshCmd": "print(var_dic_list())"
    },
    "r": {
     "delete_cmd_postfix": ") ",
     "delete_cmd_prefix": "rm(",
     "library": "var_list.r",
     "varRefreshCmd": "cat(var_dic_list()) "
    }
   },
   "types_to_exclude": [
    "module",
    "function",
    "builtin_function_or_method",
    "instance",
    "_Feature"
   ],
   "window_display": false
  }
 },
 "nbformat": 4,
 "nbformat_minor": 4
}
