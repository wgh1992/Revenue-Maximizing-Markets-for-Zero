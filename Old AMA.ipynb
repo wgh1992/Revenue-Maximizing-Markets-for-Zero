{
 "cells": [
  {
   "cell_type": "code",
   "execution_count": 1,
   "metadata": {
    "ExecuteTime": {
     "end_time": "2020-10-29T04:29:51.992485Z",
     "start_time": "2020-10-29T04:29:51.176188Z"
    }
   },
   "outputs": [],
   "source": [
    "import math\n",
    "import random\n",
    "import torch as t\n",
    "import numpy as np\n",
    "import torch.nn.functional as f\n",
    "import matplotlib.pyplot as plt\n",
    "import torch.optim as opt\n",
    "from torch.autograd import Variable as Var\n",
    "\n",
    "\n",
    "def valuation(vv_1, vv_2, x):\n",
    "    v_1 = vv_1 * (x - x ** 2 / 2)\n",
    "    v_2 = vv_2 * (1 - x)\n",
    "    return v_1, v_2\n",
    "\n",
    "\n",
    "def loss_function(value):\n",
    "    return -value\n",
    "\n",
    "\n"
   ]
  },
  {
   "cell_type": "code",
   "execution_count": 2,
   "metadata": {
    "ExecuteTime": {
     "end_time": "2020-10-29T04:29:52.008441Z",
     "start_time": "2020-10-29T04:29:51.993482Z"
    }
   },
   "outputs": [
    {
     "ename": "SyntaxError",
     "evalue": "invalid syntax (<ipython-input-2-16cdf69726e9>, line 5)",
     "output_type": "error",
     "traceback": [
      "\u001b[1;36m  File \u001b[1;32m\"<ipython-input-2-16cdf69726e9>\"\u001b[1;36m, line \u001b[1;32m5\u001b[0m\n\u001b[1;33m    self.u_off = Variable((t.Tensor([1.0]), requires_grad=True)\u001b[0m\n\u001b[1;37m                                                         ^\u001b[0m\n\u001b[1;31mSyntaxError\u001b[0m\u001b[1;31m:\u001b[0m invalid syntax\n"
     ]
    }
   ],
   "source": [
    "class Lambda(t.nn.Module):\n",
    "    def __init__(self, num_input, num_hidden, num_output):\n",
    "\n",
    "        super(Lambda, self).__init__()\n",
    "        self.u_off = Var(t.Tensor([1.0]), requires_grad=True)\n",
    "        self.u_off = t.nn.Parameter(self.u_off).cuda()\n",
    "        self.u_def = Var(t.Tensor([3.0]), requires_grad=True)\n",
    "        self.u_def = t.nn.Parameter(self.u_def).cuda()\n",
    "\n",
    "        self.hidden = t.nn.Linear(num_input, num_hidden)\n",
    "        self.hidden_plus = t.nn.Linear(num_hidden, num_hidden)\n",
    "        self.hidden_deep = t.nn.Linear(num_hidden, num_hidden)\n",
    "        self.output = t.nn.Linear(num_hidden, num_output)\n",
    "\n",
    "        self.hidden = self.hidden.cuda()\n",
    "        self.hidden_plus = self.hidden_plus.cuda()\n",
    "        self.hidden_deep = self.hidden_deep.cuda()\n",
    "        self.output = self.output.cuda()\n",
    "\n",
    "    def forward(self, x, type_off, type_def):\n",
    "\n",
    "        h = t.sigmoid(self.hidden(x))\n",
    "        h = t.relu_(self.hidden_plus(h))\n",
    "        h = t.sigmoid(self.hidden_deep(h))\n",
    "        o = self.output(h)\n",
    "\n",
    "        val_off, val_def = valuation(type_off, type_def, x)\n",
    "        val_off *= self.u_off\n",
    "        val_def *= self.u_def\n",
    "\n",
    "        val_off += o\n",
    "        val_def += o\n",
    "\n",
    "        max_off, max_t_off = val_off.max(0)\n",
    "        max_def, max_t_def = val_def.max(0)\n",
    "\n",
    "        val_sum = val_off + val_def\n",
    "        max_val, t_end = val_sum.max(0)\n",
    "        end_val_off = val_off[int(t_end)]\n",
    "        end_val_def = val_def[int(t_end)]\n",
    "\n",
    "        pay_off = min((max_def - end_val_def) / self.u_off, type_off)\n",
    "        pay_def = min((max_off - end_val_off) / self.u_def, type_def)\n",
    "        payment = pay_off + pay_def\n",
    "\n",
    "        return payment, o, x[int(t_end)]\n",
    "\n",
    "\n"
   ]
  },
  {
   "cell_type": "code",
   "execution_count": null,
   "metadata": {
    "ExecuteTime": {
     "end_time": "2020-10-29T04:29:52.011433Z",
     "start_time": "2020-10-29T04:29:51.181Z"
    }
   },
   "outputs": [],
   "source": [
    "random.seed(2000)\n",
    "t.manual_seed(256)\n",
    "time_frame = t.linspace(0, 1, 1000)\n",
    "time_frame = t.unsqueeze(time_frame, dim=1)\n",
    "time_frame = Var(time_frame)\n",
    "time_frame = time_frame.cuda()\n",
    "lamb = Lambda(1, 100, 1)\n",
    "\n",
    "print(time_frame)"
   ]
  },
  {
   "cell_type": "code",
   "execution_count": null,
   "metadata": {
    "ExecuteTime": {
     "end_time": "2020-10-29T04:29:52.013429Z",
     "start_time": "2020-10-29T04:29:51.183Z"
    }
   },
   "outputs": [],
   "source": [
    "optimizer = opt.RMSprop(lamb.parameters(), lr=0.0001, alpha=0.9)\n",
    "optimizer = opt.SGD(lamb.parameters(), lr=0.01)\n",
    "# optimizer = opt.Adam(lamb.parameters(), lr=0.0001, betas=(0.9, 0.99))\n",
    "\n",
    "\n",
    "batch_size = 64\n",
    "batch_length = int(math.sqrt(batch_size))\n",
    "t_off = np.linspace(0, 400, batch_length)\n",
    "t_def = np.linspace(0, 15, batch_length)\n",
    "index_train = []\n",
    "for i in range(batch_length):\n",
    "    for j in range(batch_length):\n",
    "        index_train.append([t_off[i], t_def[j]])\n",
    "        \n",
    "        \n",
    "\n",
    "echo = 10000"
   ]
  },
  {
   "cell_type": "code",
   "execution_count": null,
   "metadata": {
    "ExecuteTime": {
     "end_time": "2020-10-29T04:29:52.014426Z",
     "start_time": "2020-10-29T04:29:51.185Z"
    }
   },
   "outputs": [],
   "source": [
    "print(index_train)"
   ]
  },
  {
   "cell_type": "code",
   "execution_count": null,
   "metadata": {
    "ExecuteTime": {
     "end_time": "2020-10-29T04:29:52.015428Z",
     "start_time": "2020-10-29T04:29:51.187Z"
    }
   },
   "outputs": [],
   "source": [
    "\n",
    "\n",
    "\n",
    "for i in range(echo):\n",
    "\n",
    "    # offender_types = []\n",
    "    # defender_types = []\n",
    "    loss_sum = 0\n",
    "    \"\"\"\n",
    "    for j in range(batch_size):\n",
    "        offender_types.append(random.randint(0, 400))\n",
    "        defender_types.append(random.randint(0, 15))\n",
    "    \"\"\"\n",
    "    for j in range(batch_size):\n",
    "        p, curve, te = lamb(time_frame, index_train[j][0], index_train[j][1])\n",
    "        loss_sum += p\n",
    "\n",
    "    loss = loss_function(loss_sum / batch_size)\n",
    "    optimizer.zero_grad()\n",
    "    loss.backward()\n",
    "    optimizer.step()\n",
    "\n",
    "    if i % 500 == 0:\n",
    "        # offender_types = sum(offender_types) / batch_size\n",
    "        # defender_types = sum(defender_types) / batch_size\n",
    "        loss_sum = loss_sum[0].data / batch_size\n",
    "        # print(offender_types, defender_types, loss_sum)\n",
    "        print(\"%.5f\" % loss_sum.item())\n",
    "\n",
    "        plt.cla()\n",
    "        plt.axvline(te.cpu().data)\n",
    "        plt.plot(time_frame.cpu().data.numpy(), curve.cpu().data.numpy())\n",
    "        plt.text(\n",
    "            0.5,\n",
    "            0,\n",
    "            \"Loss=%.4f\" % (loss.cpu().data.numpy()),\n",
    "            fontdict={\"size\": 20, \"color\": \"red\"},\n",
    "        )\n",
    "        plt.pause(0.03)"
   ]
  },
  {
   "cell_type": "code",
   "execution_count": null,
   "metadata": {},
   "outputs": [],
   "source": []
  }
 ],
 "metadata": {
  "kernelspec": {
   "display_name": "Python 3",
   "language": "python",
   "name": "python3"
  },
  "language_info": {
   "codemirror_mode": {
    "name": "ipython",
    "version": 3
   },
   "file_extension": ".py",
   "mimetype": "text/x-python",
   "name": "python",
   "nbconvert_exporter": "python",
   "pygments_lexer": "ipython3",
   "version": "3.8.3"
  },
  "toc": {
   "base_numbering": 1,
   "nav_menu": {},
   "number_sections": true,
   "sideBar": true,
   "skip_h1_title": false,
   "title_cell": "Table of Contents",
   "title_sidebar": "Contents",
   "toc_cell": false,
   "toc_position": {},
   "toc_section_display": true,
   "toc_window_display": false
  }
 },
 "nbformat": 4,
 "nbformat_minor": 4
}
