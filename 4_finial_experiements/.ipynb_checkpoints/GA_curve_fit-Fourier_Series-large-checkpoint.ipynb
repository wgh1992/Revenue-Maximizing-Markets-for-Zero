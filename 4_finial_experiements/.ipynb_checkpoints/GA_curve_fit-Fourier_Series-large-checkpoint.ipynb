{
 "cells": [
  {
   "cell_type": "code",
   "execution_count": 1,
   "metadata": {
    "ExecuteTime": {
     "end_time": "2021-04-27T13:32:15.336701Z",
     "start_time": "2021-04-27T13:32:13.693568Z"
    }
   },
   "outputs": [
    {
     "name": "stderr",
     "output_type": "stream",
     "text": [
      "D:\\ComputerSoftwares\\Anaconda\\lib\\site-packages\\sklearn\\utils\\deprecation.py:143: FutureWarning: The sklearn.datasets.samples_generator module is  deprecated in version 0.22 and will be removed in version 0.24. The corresponding classes / functions should instead be imported from sklearn.datasets. Anything that cannot be imported from sklearn.datasets is now part of the private API.\n",
      "  warnings.warn(message, FutureWarning)\n"
     ]
    }
   ],
   "source": [
    "import math\n",
    "import random\n",
    "import torch\n",
    "import numpy as np\n",
    "import torch.nn.functional\n",
    "import matplotlib.pyplot as plt\n",
    "import torch.optim as opt\n",
    "from torch.autograd import Variable\n",
    "from sklearn.model_selection import train_test_split\n",
    "import copy\n",
    "import scipy.stats as st\n",
    "from sklearn.datasets.samples_generator import make_blobs\n",
    "from matplotlib.colors import LogNorm \n",
    "import matplotlib.cm as cm\n",
    "import numpy as np, random, operator, pandas as pd, matplotlib.pyplot as plt\n",
    "from collections import deque\n",
    "import scipy\n",
    "import time"
   ]
  },
  {
   "cell_type": "code",
   "execution_count": 2,
   "metadata": {
    "ExecuteTime": {
     "end_time": "2021-04-27T13:32:15.352509Z",
     "start_time": "2021-04-27T13:32:15.337698Z"
    }
   },
   "outputs": [],
   "source": [
    "#print(np.sin(math.pi*1.5))"
   ]
  },
  {
   "cell_type": "code",
   "execution_count": 3,
   "metadata": {
    "ExecuteTime": {
     "end_time": "2021-04-27T13:32:15.368467Z",
     "start_time": "2021-04-27T13:32:15.354503Z"
    }
   },
   "outputs": [],
   "source": [
    "#global veriable \n",
    "Uniform_low_bound=0\n",
    "Uniform_up_bound=1\n",
    "\n",
    "number_of_groups=2\n",
    "number_of_fourier_series = 40\n",
    "total_varible = number_of_fourier_series*2 + 1\n",
    "line_space = 101\n",
    "\n",
    "Normal_loc=0.5\n",
    "Normal_scale=0.2\n",
    "Normal_loc1=0.3\n",
    "Normal_loc2=0.7\n",
    "Normal_scale1=0.1\n",
    "Normal_scale2=0.1\n",
    "Distribution_number=20000"
   ]
  },
  {
   "cell_type": "code",
   "execution_count": 4,
   "metadata": {
    "ExecuteTime": {
     "end_time": "2021-04-27T13:32:15.384423Z",
     "start_time": "2021-04-27T13:32:15.369464Z"
    }
   },
   "outputs": [],
   "source": [
    "popSize = 11\n",
    "eliteSize = 20\n",
    "mutationRate = 0.2\n",
    "generations = 70\n",
    "test_fitness_number = 100\n",
    "\n",
    "\n",
    "global NeighborhoodRate\n",
    "NeighborhoodRate = 0.1"
   ]
  },
  {
   "cell_type": "code",
   "execution_count": 5,
   "metadata": {
    "ExecuteTime": {
     "end_time": "2021-04-27T13:32:19.220316Z",
     "start_time": "2021-04-27T13:32:15.386418Z"
    }
   },
   "outputs": [
    {
     "name": "stdout",
     "output_type": "stream",
     "text": [
      "[391.1958048    8.07743806]\n",
      "[[271.69199845  12.05608554]\n",
      " [ 85.35414143   6.78185943]\n",
      " [ 92.12115161   8.22734879]\n",
      " ...\n",
      " [303.15368136   3.59778968]\n",
      " [191.24357187   7.38312562]\n",
      " [163.77016144   3.63757603]]\n",
      "[271.69199845  85.35414143  92.12115161 ... 303.15368136 191.24357187\n",
      " 163.77016144]\n"
     ]
    },
    {
     "data": {
      "image/png": "[encoded data removed]",
      "text/plain": [
       "<Figure size 432x288 with 1 Axes>"
      ]
     },
     "metadata": {
      "needs_background": "light"
     },
     "output_type": "display_data"
    },
    {
     "data": {
      "image/png": "[encoded data removed]",
      "text/plain": [
       "<Figure size 432x288 with 1 Axes>"
      ]
     },
     "metadata": {
      "needs_background": "light"
     },
     "output_type": "display_data"
    },
    {
     "name": "stdout",
     "output_type": "stream",
     "text": [
      "100000\n",
      "[[3.10811920e+02 5.21631097e+00]\n",
      " [8.61226170e-01 6.63691438e+00]\n",
      " [2.95603823e+00 1.44399471e+01]\n",
      " [4.93728627e+01 4.86427577e+00]\n",
      " [2.62173548e+02 1.00846450e+00]\n",
      " [1.40108567e+02 9.98630337e+00]\n",
      " [4.59771295e+01 4.14795056e+00]\n",
      " [2.78786783e+02 4.43510427e+00]\n",
      " [1.09260416e+02 2.12982929e+00]\n",
      " [3.74892787e+02 1.24830897e+00]\n",
      " [4.35363480e+01 2.82198280e+00]\n",
      " [3.51880012e+02 2.35325222e+00]\n",
      " [1.29745097e+02 1.22779831e+01]\n",
      " [3.20378740e+02 1.04930405e+00]\n",
      " [2.00691820e+02 1.18857497e+01]\n",
      " [1.78737319e+02 6.40578459e+00]\n",
      " [2.83516693e+02 4.75052720e+00]\n",
      " [1.50997313e+02 7.96806650e+00]\n",
      " [1.40213013e+02 1.44715237e+00]\n",
      " [3.51742787e+02 9.27805788e+00]\n",
      " [2.78329570e+02 7.03372574e+00]\n",
      " [1.51062135e+02 1.02240879e+00]\n",
      " [2.86662452e+02 3.01750725e+00]\n",
      " [5.87618795e+01 1.27603248e+00]\n",
      " [9.61851227e+01 4.38462447e+00]\n",
      " [3.28389184e+02 4.44544857e+00]\n",
      " [3.04445294e+02 1.33037485e+01]\n",
      " [1.98457112e+02 9.38581533e+00]\n",
      " [3.01675273e+02 1.44465706e+01]\n",
      " [1.05358945e+02 9.60916779e+00]\n",
      " [1.15239025e+02 3.30060220e+00]\n",
      " [1.68153447e+02 3.37068951e+00]\n",
      " [1.35960931e+02 2.59272728e+00]\n",
      " [3.48348493e+02 1.09486257e+01]\n",
      " [1.27026195e+01 2.57897002e+00]\n",
      " [1.90147542e+02 1.08218791e+00]\n",
      " [6.87084630e+01 1.09173057e+01]\n",
      " [1.41318493e+02 4.27312889e+00]\n",
      " [9.74820537e+01 4.78208679e+00]\n",
      " [2.92574840e+02 1.42636417e+01]\n",
      " [3.92262780e+02 2.44442348e+00]\n",
      " [6.11737017e+01 1.19715885e+01]\n",
      " [1.41860473e+02 1.73687927e+00]\n",
      " [6.86423188e+01 5.43330938e+00]\n",
      " [7.68601249e+01 1.31854853e+01]\n",
      " [3.91162240e+02 8.95316029e+00]\n",
      " [9.34853613e+01 1.15138902e+00]\n",
      " [3.80668101e+01 3.63677631e+00]\n",
      " [8.11020152e+01 7.70844951e+00]\n",
      " [1.97473976e+02 1.20343908e+01]\n",
      " [3.62951087e+02 5.58386650e+00]\n",
      " [1.50237093e+02 3.56934359e-01]\n",
      " [7.33235119e+01 3.53645437e+00]\n",
      " [7.96863422e+01 1.21727240e+01]\n",
      " [1.34999317e+02 1.45217276e+01]\n",
      " [7.74413126e+01 7.48647100e+00]\n",
      " [8.17692650e+01 1.45199881e+01]\n",
      " [1.96038084e+02 6.66427962e+00]\n",
      " [3.27458781e+01 1.13795745e+01]\n",
      " [2.97121438e+02 3.47953203e-02]\n",
      " [3.87147562e+02 7.05359502e+00]\n",
      " [1.51181639e+02 1.54013902e+00]\n",
      " [2.03578265e+02 1.21182695e+01]\n",
      " [3.59744253e+01 9.30021527e-01]\n",
      " [3.60370403e+02 1.33627177e+01]\n",
      " [1.31155375e+02 9.90580652e+00]\n",
      " [1.01288213e+02 5.72111300e+00]\n",
      " [3.95123726e+02 1.22014927e+01]\n",
      " [4.54365509e+01 7.56668791e-01]\n",
      " [3.76801625e+02 1.48149723e+01]\n",
      " [1.67556176e+02 2.73477489e+00]\n",
      " [1.01670674e+02 1.24614686e+00]\n",
      " [5.46801829e+01 1.20074127e+01]\n",
      " [2.02147975e+02 1.93697494e+00]\n",
      " [1.53153178e+02 1.89975024e+00]\n",
      " [3.56412056e+02 1.16353976e+01]\n",
      " [3.79082085e+02 8.73060827e+00]\n",
      " [2.23890849e+02 2.56846177e+00]\n",
      " [2.87280019e+02 9.38251122e+00]\n",
      " [1.00011041e+02 1.28655163e+01]\n",
      " [9.68376118e+01 1.04602912e+01]\n",
      " [3.88521601e+02 2.51239002e+00]\n",
      " [2.14507461e+02 7.93322560e+00]\n",
      " [3.67043747e+02 3.03592543e+00]\n",
      " [3.92423264e+01 1.01931483e+01]\n",
      " [9.79096925e+01 4.72645960e+00]\n",
      " [9.95340001e+01 1.22104529e+00]\n",
      " [9.05296926e+01 1.90009245e+00]\n",
      " [1.60205364e+02 1.88555855e+00]\n",
      " [3.44176897e+02 9.40242189e+00]\n",
      " [3.07058894e+02 1.46419948e+01]\n",
      " [1.82384375e+02 8.52628890e+00]\n",
      " [2.51117870e+02 6.16918940e+00]\n",
      " [1.31732726e+02 8.98338955e+00]\n",
      " [2.05245778e+02 1.21855425e+01]\n",
      " [1.74787607e+02 1.37238537e+01]\n",
      " [1.96829885e+02 1.13384844e+01]\n",
      " [9.68451220e+00 1.25769995e+01]\n",
      " [3.24696629e+02 8.56967849e+00]\n",
      " [7.91569189e+01 5.82658284e+00]]\n",
      "100000\n"
     ]
    }
   ],
   "source": [
    "Agent_number_n = agent_number_n = 2\n",
    "seed = 7\n",
    "np.random.seed(seed)\n",
    "exec(open('../distribution1item_uniform.py').read())\n",
    "\n",
    "X_train,  X_test = train_test_split(value_list, test_size=0.5, random_state=seed)\n",
    "\n",
    "X_train=np.array(X_train)\n",
    "X_test=np.array(X_test)\n",
    "dataset_size = len(X_train)\n",
    "print(dataset_size)\n",
    "print(X_train[:100])\n",
    "print(len(X_test))\n",
    "\n"
   ]
  },
  {
   "cell_type": "code",
   "execution_count": null,
   "metadata": {},
   "outputs": [],
   "source": []
  },
  {
   "cell_type": "code",
   "execution_count": 6,
   "metadata": {
    "ExecuteTime": {
     "end_time": "2021-04-27T13:32:19.235867Z",
     "start_time": "2021-04-27T13:32:19.221289Z"
    }
   },
   "outputs": [],
   "source": [
    "#S = [ 1, x, x^2, x^3,np.log(x), sinx, cosx, e^x ]\n",
    "import matplotlib.pyplot as plt\n",
    "from scipy.optimize import curve_fit\n",
    "import math\n",
    "def func(x,a):\n",
    "    res = a[0]/2\n",
    "    for i in range(number_of_fourier_series):\n",
    "        res += a[i*2+1]*np.sin(math.pi*i*x) +a[i*2+2]*np.cos(math.pi*i*x) \n",
    "    return res\n",
    "# def func(x,a):\n",
    "#     return a[0] + a[1]*x + a[2]*(x** 2) +a[3]*(x** 3)+a[4]*(x** 4) +a[5]*np.sin(x) +a[6]*np.cos(x) +a[7]* (np.exp(x))\n",
    "\n",
    "# def funcc(x,a1,a2,a3,a4,a5,a6,a7,a8):\n",
    "#     return a1 + a2*x + a3*(x** 2) +a4*(x** 3)++a[4]*(x** 4) +a5*np.sin(x) +a6*np.cos(x)  +a8* (np.exp(x))\n"
   ]
  },
  {
   "cell_type": "code",
   "execution_count": 7,
   "metadata": {
    "ExecuteTime": {
     "end_time": "2021-04-27T13:32:19.251811Z",
     "start_time": "2021-04-27T13:32:19.238819Z"
    }
   },
   "outputs": [],
   "source": [
    "#popt, pcov = curve_fit(funcc, xdata, ydata)\n",
    "# print(popt)\n",
    "# plt.xlabel('x')\n",
    "# plt.ylabel('y')\n",
    "# plt.legend()\n",
    "# plt.show()"
   ]
  },
  {
   "cell_type": "code",
   "execution_count": 8,
   "metadata": {
    "ExecuteTime": {
     "end_time": "2021-04-27T13:32:19.267743Z",
     "start_time": "2021-04-27T13:32:19.253806Z"
    }
   },
   "outputs": [
    {
     "name": "stdout",
     "output_type": "stream",
     "text": [
      "[0.42767034 0.43618241 0.86935966 0.0688498  0.72424245 0.10983464\n",
      " 0.29812661 0.16151612 0.21832495 0.6894254  0.17225697 0.22536612\n",
      " 0.79171421 0.51136414 0.3072357  0.67235486 0.94766423 0.67420977\n",
      " 0.36495743 0.23269398 0.56953642 0.22883222 0.01991189 0.92644165\n",
      " 0.87146131 0.72270291 0.36649416 0.06542573 0.01858132 0.43140951\n",
      " 0.57410755 0.11397199 0.37179231 0.08140751 0.27488913 0.99385461\n",
      " 0.88469684 0.93924465 0.03277706 0.91708363 0.59894528 0.36750115\n",
      " 0.77343461 0.75411476 0.92712298 0.73178458 0.02706428 0.60423164\n",
      " 0.38491907 0.00631991 0.54890756 0.26916653 0.0083504  0.30425072\n",
      " 0.21504069 0.313549   0.41849699 0.34426938 0.5107639  0.17532985\n",
      " 0.64071966 0.2796715  0.84964209 0.81356347 0.97348457 0.95319953\n",
      " 0.65390423 0.06489421 0.49659262 0.7092235  0.31418211 0.89138555\n",
      " 0.95719484 0.37594156 0.37147836 0.7507083  0.83197458 0.97072331\n",
      " 0.2936397  0.95521917 0.0052348 ]\n"
     ]
    }
   ],
   "source": [
    "print( np.random.rand(total_varible)*np.random.randint(0,10))"
   ]
  },
  {
   "cell_type": "code",
   "execution_count": 9,
   "metadata": {
    "ExecuteTime": {
     "end_time": "2021-04-27T13:32:19.283700Z",
     "start_time": "2021-04-27T13:32:19.268740Z"
    }
   },
   "outputs": [
    {
     "name": "stdout",
     "output_type": "stream",
     "text": [
      "[0.   0.01 0.02 0.03 0.04 0.05 0.06 0.07 0.08 0.09 0.1  0.11 0.12 0.13\n",
      " 0.14 0.15 0.16 0.17 0.18 0.19 0.2  0.21 0.22 0.23 0.24 0.25 0.26 0.27\n",
      " 0.28 0.29 0.3  0.31 0.32 0.33 0.34 0.35 0.36 0.37 0.38 0.39 0.4  0.41\n",
      " 0.42 0.43 0.44 0.45 0.46 0.47 0.48 0.49 0.5  0.51 0.52 0.53 0.54 0.55\n",
      " 0.56 0.57 0.58 0.59 0.6  0.61 0.62 0.63 0.64 0.65 0.66 0.67 0.68 0.69\n",
      " 0.7  0.71 0.72 0.73 0.74 0.75 0.76 0.77 0.78 0.79 0.8  0.81 0.82 0.83\n",
      " 0.84 0.85 0.86 0.87 0.88 0.89 0.9  0.91 0.92 0.93 0.94 0.95 0.96 0.97\n",
      " 0.98 0.99 1.  ]\n",
      "[ 1.66138176e+02  2.03412917e+02  1.44695486e+02  5.31639689e+01\n",
      "  5.22030763e+00  1.86655761e+01  4.96946782e+01  5.12889951e+01\n",
      "  2.18707771e+01 -4.95361274e+00 -6.12378144e+00  7.78225024e+00\n",
      "  1.31861400e+01  4.35750711e+00 -4.23050286e+00 -5.33565271e-01\n",
      "  1.10207193e+01  1.98748660e+01  2.45426808e+01  2.98047239e+01\n",
      "  3.28233255e+01  2.29127694e+01 -8.72997137e-01 -1.96807805e+01\n",
      " -1.20137287e+01  1.90877566e+01  4.45122649e+01  4.01132987e+01\n",
      "  1.50320071e+01  1.65485174e+00  1.71543859e+01  4.24500066e+01\n",
      "  4.45805696e+01  1.60304851e+01 -1.59585649e+01 -2.04705190e+01\n",
      "  3.34537265e+00  2.86152381e+01  3.29044574e+01  2.01007942e+01\n",
      "  9.07387119e+00  8.69324437e+00  1.18726335e+01  1.18366735e+01\n",
      "  1.39438736e+01  2.54959758e+01  3.92455658e+01  3.69020882e+01\n",
      "  1.17252670e+01 -1.88665345e+01 -2.96990160e+01 -1.54583729e+01\n",
      "  4.04699356e+00  7.73425761e+00 -2.93302495e+00 -8.68898795e+00\n",
      "  1.72705929e+00  1.77237755e+01  2.13735038e+01  1.04028135e+01\n",
      "  2.35058666e-01  3.59915074e+00  1.45501866e+01  1.67388990e+01\n",
      "  4.24610490e+00 -1.15523917e+01 -1.62681799e+01 -8.46530978e+00\n",
      "  1.93953654e+00  7.79425417e+00  1.13437597e+01  1.62322252e+01\n",
      "  1.87936959e+01  1.26011924e+01  1.92940759e-01 -5.67641116e+00\n",
      "  4.47563037e+00  2.46941857e+01  3.83840792e+01  3.47525217e+01\n",
      "  1.76600712e+01 -1.59509213e+00 -1.59633969e+01 -2.44297516e+01\n",
      " -2.57703520e+01 -1.72019728e+01 -1.22536677e+00  1.12811390e+01\n",
      "  1.06482691e+01  6.81885718e-01 -4.06523109e+00  3.97690340e+00\n",
      "  1.41805118e+01  9.45044673e+00 -1.14218497e+01 -2.91580575e+01\n",
      " -2.55056674e+01 -5.93527623e+00  5.28996187e+00 -6.53306785e+00\n",
      " -2.88059249e+01]\n"
     ]
    }
   ],
   "source": [
    "x = np.linspace(0.0, 1,line_space)\n",
    "ao = func(x,np.random.rand(total_varible)*np.random.randint(0,10))\n",
    "print(x)\n",
    "print(ao)"
   ]
  },
  {
   "cell_type": "code",
   "execution_count": 10,
   "metadata": {
    "ExecuteTime": {
     "end_time": "2021-04-27T13:32:19.315641Z",
     "start_time": "2021-04-27T13:32:19.284697Z"
    }
   },
   "outputs": [],
   "source": [
    "def valuation(type_offender, type_defender, t):\n",
    "    v_1 = type_offender * (t - t ** 2 / 2)\n",
    "    v_2 = type_defender * (1 - t)\n",
    "    \n",
    "    return v_1, v_2\n",
    "\n",
    "\n",
    "\n",
    "class individual:\n",
    "    def __init__(self, function_list,u_offender,u_defender):\n",
    "        self.function_list = function_list\n",
    "        self.u_offender = u_offender\n",
    "        self.u_defender = u_defender\n",
    "        self.fitness = -1\n",
    "        self.average_revenue = 0.0\n",
    "        self.Z_payment_list = []\n",
    "        self.Z_o_star_list = []\n",
    "    def Fitness(self):\n",
    "        if(self.fitness!=-1 and random.random()>NeighborhoodRate):\n",
    "            return self\n",
    "        x = np.linspace(0, 1, line_space)\n",
    "        #print(x)\n",
    "        test_number = 0\n",
    "        ao = func(x,self.function_list)\n",
    "        total_payment = 0\n",
    "        #print(ao)\n",
    "#         for index in range(len(X_train)):\n",
    "#             test_number+=1\n",
    "#             type_offender = X_train[index][0]\n",
    "#             type_defender = X_train[index][1]\n",
    "        for ran in range(test_fitness_number):\n",
    "            test_number+=1\n",
    "            index = random.randint(0,len(X_train)-1)\n",
    "            type_offender = X_train[index][0]\n",
    "            type_defender = X_train[index][1]\n",
    "            \n",
    "      \n",
    "            \n",
    "            value_offender, value_defender = valuation(\n",
    "                type_offender, type_defender, x)\n",
    "            temp_val_offender = (value_offender * (self.u_offender))\n",
    "            temp_val_defender = (value_defender * (self.u_defender))\n",
    "\n",
    "            val_offender = temp_val_offender + ao\n",
    "            val_defender = temp_val_defender + ao\n",
    "            # print(o.grad_fn,temp_val_defender.grad_fn)\n",
    "            \n",
    "            #print(val_offender)\n",
    "\n",
    "            max_offender = max(val_offender)\n",
    "            max_defender = max(val_defender)\n",
    "\n",
    "            #print(\"max_offender: \" ,max_offender,max_offender.grad)\n",
    "\n",
    "            val_sum = val_offender + val_defender - ao\n",
    "            t_end = val_sum.tolist().index(max(val_sum))\n",
    "\n",
    "            end_val_offender = val_offender[int(t_end)]\n",
    "            end_val_defender = val_defender[int(t_end)]\n",
    "            pay_offender = (max_defender - end_val_defender) / \\\n",
    "                (self.u_offender)\n",
    "            pay_defender = (max_offender - end_val_offender) / \\\n",
    "                (self.u_defender)\n",
    "\n",
    "    #         if((max_defender - end_val_defender) / self.u_offender > value_offender[int(t_end)]):\n",
    "    #             print(\"error: payment offender\",(max_defender - end_val_defender) / self.u_offender,value_offender[int(t_end)]);\n",
    "    #         if((max_offender - end_val_offender) / self.u_defender > value_defender[int(t_end)]):\n",
    "    #             print(\"error: payment defender\",(max_offender - end_val_offender) / self.u_defender,value_defender[int(t_end)]);\n",
    "\n",
    "            payment = pay_offender + pay_defender\n",
    "            total_payment = total_payment + payment\n",
    "        self.fitness = total_payment/test_number\n",
    "    #    self.average_revenue = total_payment/test_number\n",
    "        #return payment, ao, x[int(t_end)], self.u_offender, self.u_defender   \n",
    "        return self\n",
    "\n",
    "    def Train_Fitness(self):\n",
    "        x = np.linspace(0, 1, line_space)\n",
    "        #print(x)\n",
    "        test_number = 0\n",
    "        ao = func(x,self.function_list)\n",
    "        total_payment = 0\n",
    "        #print(ao)\n",
    "        for index in range(len(X_train)):\n",
    "            test_number+=1\n",
    "            type_offender = X_train[index][0]\n",
    "            type_defender = X_train[index][1]\n",
    "#         for ran in range(test_fitness_number):\n",
    "#             test_number+=1\n",
    "#             index = random.randint(0,len(X_train)-1)\n",
    "#             type_offender = X_train[index][0]\n",
    "#             type_defender = X_train[index][1]\n",
    "            \n",
    "      \n",
    "            \n",
    "            value_offender, value_defender = valuation(\n",
    "                type_offender, type_defender, x)\n",
    "            temp_val_offender = (value_offender * (self.u_offender))\n",
    "            temp_val_defender = (value_defender * (self.u_defender))\n",
    "\n",
    "            val_offender = temp_val_offender + ao\n",
    "            val_defender = temp_val_defender + ao\n",
    "            # print(o.grad_fn,temp_val_defender.grad_fn)\n",
    "            \n",
    "            #print(val_offender)\n",
    "\n",
    "            max_offender = max(val_offender)\n",
    "            max_defender = max(val_defender)\n",
    "\n",
    "            #print(\"max_offender: \" ,max_offender,max_offender.grad)\n",
    "\n",
    "            val_sum = val_offender + val_defender - ao\n",
    "            t_end = val_sum.tolist().index(max(val_sum))\n",
    "\n",
    "            end_val_offender = val_offender[int(t_end)]\n",
    "            end_val_defender = val_defender[int(t_end)]\n",
    "            pay_offender = (max_defender - end_val_defender) / \\\n",
    "                (self.u_offender)\n",
    "            pay_defender = (max_offender - end_val_offender) / \\\n",
    "                (self.u_defender)\n",
    "\n",
    "    #         if((max_defender - end_val_defender) / self.u_offender > value_offender[int(t_end)]):\n",
    "    #             print(\"error: payment offender\",(max_defender - end_val_defender) / self.u_offender,value_offender[int(t_end)]);\n",
    "    #         if((max_offender - end_val_offender) / self.u_defender > value_defender[int(t_end)]):\n",
    "    #             print(\"error: payment defender\",(max_offender - end_val_offender) / self.u_defender,value_defender[int(t_end)]);\n",
    "\n",
    "            payment = pay_offender + pay_defender\n",
    "            total_payment = total_payment + payment\n",
    "        self.fitness = total_payment/test_number\n",
    "    #    self.average_revenue = total_payment/test_number\n",
    "        #return payment, ao, x[int(t_end)], self.u_offender, self.u_defender   \n",
    "        return self\n",
    "    \n",
    "    def Test_Fitness(self):\n",
    "        x = np.linspace(0, 1, line_space)\n",
    "        #print(x)\n",
    "        test_number = 0\n",
    "        ao = func(x,self.function_list)\n",
    "        #print(ao)\n",
    "        total_payment = 0\n",
    "        self.Z_payment_list = []\n",
    "        self.Z_o_star_list = []\n",
    "        for index in range(len(X_test)):\n",
    "            test_number+=1\n",
    "            type_offender = X_test[index][0]\n",
    "            type_defender = X_test[index][1]\n",
    "#         for ran in range(test_fitness_number):\n",
    "#             test_number+=1\n",
    "#             index = random.randint(0,len(X_train)-1)\n",
    "#             type_offender = X_train[index][0]\n",
    "#             type_defender = X_train[index][1]\n",
    "            \n",
    "      \n",
    "            \n",
    "            value_offender, value_defender = valuation(\n",
    "                type_offender, type_defender, x)\n",
    "            temp_val_offender = (value_offender * (self.u_offender))\n",
    "            temp_val_defender = (value_defender * (self.u_defender))\n",
    "\n",
    "            val_offender = temp_val_offender + ao\n",
    "            val_defender = temp_val_defender + ao\n",
    "            # print(o.grad_fn,temp_val_defender.grad_fn)\n",
    "            \n",
    "            #print(val_offender)\n",
    "\n",
    "            max_offender = max(val_offender)\n",
    "            max_defender = max(val_defender)\n",
    "\n",
    "            #print(\"max_offender: \" ,max_offender,max_offender.grad)\n",
    "\n",
    "            val_sum = val_offender + val_defender - ao\n",
    "            t_end = val_sum.tolist().index(max(val_sum))\n",
    "\n",
    "            end_val_offender = val_offender[int(t_end)]\n",
    "            end_val_defender = val_defender[int(t_end)]\n",
    "            pay_offender = (max_defender - end_val_defender) / \\\n",
    "                (self.u_offender)\n",
    "            pay_defender = (max_offender - end_val_offender) / \\\n",
    "                (self.u_defender)\n",
    "\n",
    "    #         if((max_defender - end_val_defender) / self.u_offender > value_offender[int(t_end)]):\n",
    "    #             print(\"error: payment offender\",(max_defender - end_val_defender) / self.u_offender,value_offender[int(t_end)]);\n",
    "    #         if((max_offender - end_val_offender) / self.u_defender > value_defender[int(t_end)]):\n",
    "    #             print(\"error: payment defender\",(max_offender - end_val_offender) / self.u_defender,value_defender[int(t_end)]);\n",
    "\n",
    "            payment = pay_offender + pay_defender\n",
    "            total_payment = total_payment + payment\n",
    "            \n",
    "            self.Z_payment_list.append(payment)\n",
    "            self.Z_o_star_list.append(x[int(t_end)])\n",
    "        #return payment, ao, x[int(t_end)], self.u_offender, self.u_defender \n",
    "        self.average_revenue = total_payment/test_number\n",
    "        return self\n",
    "    \n",
    "    def debug(self):\n",
    "        print(\"function_list: \",self.function_list)\n",
    "        print(\"Batch_fitness\",self.fitness)\n",
    "        self.Train_Fitness()\n",
    "        print(\"Train_fitness\",self.fitness)\n",
    "        self.Test_Fitness()\n",
    "        print(\"Test_average_revenue\",self.average_revenue)\n",
    "        print(\"u_offender\",self.u_offender)\n",
    "        print(\"u_defender\",self.u_defender)\n",
    "        print()\n"
   ]
  },
  {
   "cell_type": "code",
   "execution_count": 11,
   "metadata": {
    "ExecuteTime": {
     "end_time": "2021-04-27T13:32:31.958562Z",
     "start_time": "2021-04-27T13:32:19.316612Z"
    },
    "run_control": {
     "marked": true
    }
   },
   "outputs": [
    {
     "name": "stdout",
     "output_type": "stream",
     "text": [
      "function_list:  [9.12624373e+01 2.42138060e+01 1.76247863e+01 7.42430435e+00\n",
      " 6.68936934e+00 8.01667658e+00 4.91980947e+00 2.93708795e+00\n",
      " 5.00468796e+00 3.46519065e+00 1.36485034e+00 3.31248988e+00\n",
      " 1.83371727e+00 1.57852607e-03 1.61333075e+00 2.06070116e+00\n",
      " 1.31400968e-01 6.75870242e-01 4.23830065e-01 2.76860990e-01\n",
      " 1.69846817e+00 1.11165260e+00 9.57282333e-01 1.51942231e+00\n",
      " 1.73615025e+00 1.01510956e+00 1.64154637e+00 1.13902186e+00\n",
      " 5.68879557e-01 1.02679810e+00 5.08035460e-01 1.13119975e+00\n",
      " 1.27869737e+00 3.47487308e-01 6.20667177e-01 3.16462017e-01\n",
      " 6.05279850e-01 1.11040430e+00 8.27695794e-01 5.83909823e-01\n",
      " 7.28146770e-01 5.19713189e-01 1.06003107e+00 1.03118939e+00\n",
      " 1.07612270e-02 5.86252649e-01 6.91220425e-01 2.69502127e-01\n",
      " 6.12642293e-01 8.25131456e-01 9.24345707e-01 2.97583895e-01\n",
      " 7.83154360e-01 8.76810316e-01 6.05603535e-01 4.38746083e-01\n",
      " 1.93506291e-02 2.52385516e-01 7.88119922e-01 5.01475798e-01\n",
      " 4.59781906e-01 5.88453666e-01 2.42405048e-01 5.11561605e-01\n",
      " 1.12462706e-01 6.09559135e-02 4.40629285e-01 5.01643299e-01\n",
      " 4.65201359e-01 1.54683277e-01 2.24269235e-01 3.21407554e-01\n",
      " 5.72301037e-01 5.94959260e-01 4.78428647e-01 5.18157036e-01\n",
      " 5.68129828e-02 5.27687879e-01 1.73667842e-01 2.47957877e-01\n",
      " 4.17366829e-01]\n",
      "Batch_fitness 40.56104592203318\n",
      "Train_fitness 45.469462500257194\n",
      "Test_average_revenue 45.8664966767149\n",
      "u_offender 1\n",
      "u_defender 3.7\n",
      "\n"
     ]
    },
    {
     "ename": "IndexError",
     "evalue": "index 10 is out of bounds for axis 0 with size 10",
     "output_type": "error",
     "traceback": [
      "\u001b[1;31m---------------------------------------------------------------------------\u001b[0m",
      "\u001b[1;31mIndexError\u001b[0m                                Traceback (most recent call last)",
      "\u001b[1;32m<ipython-input-11-b5c3e451aa31>\u001b[0m in \u001b[0;36m<module>\u001b[1;34m\u001b[0m\n\u001b[0;32m     38\u001b[0m \u001b[0mpop\u001b[0m \u001b[1;33m=\u001b[0m \u001b[0mnp\u001b[0m\u001b[1;33m.\u001b[0m\u001b[0marray\u001b[0m\u001b[1;33m(\u001b[0m\u001b[0minitialPopulation\u001b[0m\u001b[1;33m(\u001b[0m\u001b[1;33m)\u001b[0m\u001b[1;33m)\u001b[0m\u001b[1;33m\u001b[0m\u001b[1;33m\u001b[0m\u001b[0m\n\u001b[0;32m     39\u001b[0m \u001b[0mpop\u001b[0m\u001b[1;33m[\u001b[0m\u001b[1;36m0\u001b[0m\u001b[1;33m]\u001b[0m\u001b[1;33m.\u001b[0m\u001b[0mdebug\u001b[0m\u001b[1;33m(\u001b[0m\u001b[1;33m)\u001b[0m\u001b[1;33m\u001b[0m\u001b[1;33m\u001b[0m\u001b[0m\n\u001b[1;32m---> 40\u001b[1;33m \u001b[0mpop\u001b[0m\u001b[1;33m[\u001b[0m\u001b[1;36m10\u001b[0m\u001b[1;33m]\u001b[0m\u001b[1;33m.\u001b[0m\u001b[0mdebug\u001b[0m\u001b[1;33m(\u001b[0m\u001b[1;33m)\u001b[0m\u001b[1;33m\u001b[0m\u001b[1;33m\u001b[0m\u001b[0m\n\u001b[0m\u001b[0;32m     41\u001b[0m \u001b[1;33m\u001b[0m\u001b[0m\n\u001b[0;32m     42\u001b[0m \u001b[0mpop_ranked\u001b[0m \u001b[1;33m=\u001b[0m \u001b[0mrank_heads\u001b[0m\u001b[1;33m(\u001b[0m\u001b[0mpop\u001b[0m\u001b[1;33m)\u001b[0m\u001b[1;33m\u001b[0m\u001b[1;33m\u001b[0m\u001b[0m\n",
      "\u001b[1;31mIndexError\u001b[0m: index 10 is out of bounds for axis 0 with size 10"
     ]
    }
   ],
   "source": [
    "global population \n",
    "\n",
    "\n",
    "\n",
    "def rank_heads(population):\n",
    "    fitnessResults = []\n",
    "    for i in range(0,len(population)):\n",
    "        temp = population[i].Fitness()\n",
    "        fitnessResults.append([i,  temp.fitness, temp])\n",
    "    fitnessResults = np.array(fitnessResults)\n",
    "    \n",
    "    return sorted(fitnessResults, key = operator.itemgetter(1), reverse=True)\n",
    "\n",
    "def rank_heads_all(population):\n",
    "    fitnessResults = []\n",
    "    for i in range(0,len(population)):\n",
    "        temp = population[i].Test_Fitness()\n",
    "        fitnessResults.append([i, temp.fitness, temp])\n",
    "    fitnessResults = np.array(fitnessResults)\n",
    "    \n",
    "    return sorted(fitnessResults, key = operator.itemgetter(1), reverse=True)\n",
    "\n",
    "\n",
    "def initialPopulation():\n",
    "    population = []\n",
    "    for i in range(popSize):\n",
    "        temp_a = np.random.rand(total_varible)*np.random.randint(-100,100)\n",
    "        for j in range(total_varible):\n",
    "            temp_a[j] /=(2*j+1)\n",
    "        temp_b = 1\n",
    "        temp_c = 3.7#random.random()*np.random.randint(1,10)\n",
    "        \n",
    "        temp = individual(temp_a,temp_b,temp_c)\n",
    "        temp.Fitness()\n",
    "        population.append(temp)\n",
    "    return population\n",
    "\n",
    "pop = np.array(initialPopulation())\n",
    "pop[0].debug()\n",
    "pop[10].debug()\n",
    "\n",
    "pop_ranked = rank_heads(pop)\n",
    "\n",
    "pop_ranked[0][2].debug()\n",
    "pop_ranked[10][2].debug()\n"
   ]
  },
  {
   "cell_type": "code",
   "execution_count": null,
   "metadata": {
    "ExecuteTime": {
     "end_time": "2021-04-27T13:32:31.994238Z",
     "start_time": "2021-04-27T13:32:13.676Z"
    }
   },
   "outputs": [],
   "source": [
    "\n",
    "xdata = np.linspace(0, 1, line_space)\n",
    "ydata = func(xdata,pop_ranked[0][2].function_list)\n",
    "plt.plot(xdata,ydata,label='a(t)')\n",
    "\n",
    "plt.xlabel('t')\n",
    "plt.ylabel('a(t)') \n",
    "plt.title('a(t)')\n",
    "\n",
    "plt.legend() \n",
    "plt.show()\n"
   ]
  },
  {
   "cell_type": "code",
   "execution_count": null,
   "metadata": {
    "ExecuteTime": {
     "end_time": "2021-04-27T13:32:31.995235Z",
     "start_time": "2021-04-27T13:32:13.677Z"
    }
   },
   "outputs": [],
   "source": [
    "def selection(popRanked, eliteSize):\n",
    "    selectionResults = []\n",
    "    df = pd.DataFrame(np.array(popRanked), columns=[\"Index\",\"Fitness\",\"list\"])\n",
    "    df['cum_sum'] = df.Fitness.cumsum()\n",
    "    df['cum_perc'] = 100*df.cum_sum/df.Fitness.sum()\n",
    "    \n",
    "    for i in range(int(len(popRanked))):\n",
    "        selectionResults.append(popRanked[i][0])\n",
    "    return selectionResults\n",
    "\n",
    "def matingPool(population, selectionResults):\n",
    "    matingpool = []\n",
    "    for i in range(0, len(selectionResults)):\n",
    "        index = selectionResults[i]\n",
    "        matingpool.append(population[index])\n",
    "    return matingpool\n",
    "\n",
    "def breed(parent1, parent2):\n",
    "    child = copy.deepcopy(parent1)\n",
    "    \n",
    "    geneA_1 = int(random.random() * len(parent1.function_list))\n",
    "    geneB_1 = int(random.random() * len(parent1.function_list))\n",
    "    startGene_1 = min(geneA_1, geneB_1)\n",
    "    endGene_1 = max(geneA_1, geneB_1)\n",
    "    \n",
    "#     geneA_2 = int(random.random() * len(parent2.function_list))\n",
    "#     geneB_2 = int(random.random() * len(parent2.function_list))\n",
    "#     startGene_2 = min(geneA_2, geneB_2)\n",
    "#     endGene_2 = max(geneA_2, geneB_2)\n",
    "    \n",
    "    child.function_list = []\n",
    "\n",
    "    for i in range(startGene_1):\n",
    "        child.function_list.append(parent1.function_list[i])\n",
    "\n",
    "        \n",
    "    for i in range(startGene_1,endGene_1):\n",
    "        child.function_list.append(parent2.function_list[i])\n",
    "        \n",
    "    for i in range(endGene_1, len(parent1.function_list)):\n",
    "        child.function_list.append(parent1.function_list[i])\n",
    "        \n",
    "    #print(len(child.function_list))\n",
    "    child.fitness = -1;\n",
    "    return child\n",
    "#     if   non_dominant(child):\n",
    "#         child.fitness = 0;\n",
    "#         return child\n",
    "#     else:\n",
    "#         return False \n",
    "\n",
    "def breedPopulation(matingpool, eliteSize):\n",
    "    children = []\n",
    "    length = len(matingpool) - eliteSize\n",
    "    pool = random.sample(matingpool, len(matingpool))\n",
    "\n",
    "    for i in range(eliteSize):\n",
    "        children.append(matingpool[i])\n",
    "\n",
    "    for i in range(popSize):\n",
    "        if (random.random() < mutationRate):\n",
    "            swapped = copy.deepcopy(pool[random.randint(0,len(matingpool)-1)])\n",
    "            swapWith = copy.deepcopy(pool[random.randint(0,len(matingpool)-1)])\n",
    "            \n",
    "            for j in range(len(swapWith.function_list)):\n",
    "                swapped.function_list[j]=swapWith.function_list[j]\n",
    "            \n",
    "#             if (non_dominant(swapped)):\n",
    "            if(random.random()>0.5):\n",
    "                swapped.u_offender = swapWith.u_offender\n",
    "            if(random.random()>0.5):\n",
    "                swapped.u_defender = swapWith.u_defender\n",
    "            swapped.fitness = -1\n",
    "            children.append(swapped)\n",
    "\n",
    "    for i in range(popSize):\n",
    "        if (random.random() < mutationRate):\n",
    "            child = breed(pool[random.randint(0,len(matingpool)-1)], pool[random.randint(0,len(matingpool)-1)])\n",
    "            if (child != False):\n",
    "                child.fitness = -1\n",
    "                children.append(child)\n",
    "    \n",
    "    return children"
   ]
  },
  {
   "cell_type": "code",
   "execution_count": null,
   "metadata": {
    "ExecuteTime": {
     "end_time": "2021-04-27T13:32:31.996232Z",
     "start_time": "2021-04-27T13:32:13.680Z"
    }
   },
   "outputs": [],
   "source": [
    "def mutate(individual, mutationRate):\n",
    "    global NeighborhoodRate \n",
    "    \n",
    "    temp_individual = copy.deepcopy(individual)\n",
    "\n",
    "    for nerboorhood in range(len(temp_individual.function_list)):\n",
    "        if(random.random() < NeighborhoodRate):\n",
    "            if(random.random()>=0.5):\n",
    "                temp_individual.function_list[nerboorhood]+= 0.5\n",
    "            else:\n",
    "                temp_individual.function_list[nerboorhood]-= 0.5\n",
    "            temp_individual.fitness= -1          \n",
    "            \n",
    "        if(random.random() < NeighborhoodRate):  \n",
    "            if(random.random()>=0.5):\n",
    "                temp_individual.u_defender += 0.01\n",
    "            else:\n",
    "                temp_individual.u_defender -= 0.01\n",
    "            temp_individual.fitness= -1   \n",
    "            \n",
    "    if(temp_individual.Fitness().fitness<individual.Fitness().fitness):\n",
    "        individual = temp_individual\n",
    "        \n",
    "    return individual"
   ]
  },
  {
   "cell_type": "code",
   "execution_count": null,
   "metadata": {
    "ExecuteTime": {
     "end_time": "2021-04-27T13:32:31.998225Z",
     "start_time": "2021-04-27T13:32:13.681Z"
    }
   },
   "outputs": [],
   "source": [
    "\n",
    "\n",
    "def mutatePopulation(population, mutationRate):\n",
    "    mutatedPop = []\n",
    "\n",
    "    for ind in range(0, len(population)):\n",
    "        mutatedInd = mutate(copy.deepcopy(population[ind]), mutationRate)\n",
    "        mutatedPop.append(mutatedInd)\n",
    "    return mutatedPop"
   ]
  },
  {
   "cell_type": "code",
   "execution_count": null,
   "metadata": {
    "ExecuteTime": {
     "end_time": "2021-04-27T13:32:31.999223Z",
     "start_time": "2021-04-27T13:32:13.682Z"
    }
   },
   "outputs": [],
   "source": [
    "def nextGeneration(currentGen, eliteSize, mutationRate):\n",
    "    print(len(currentGen))\n",
    "    popRanked = rank_heads(currentGen)\n",
    "\n",
    "    selectionResults = selection(popRanked, eliteSize)\n",
    "    \n",
    "    matingpool = matingPool(currentGen, selectionResults)\n",
    "\n",
    "    children = breedPopulation(matingpool, eliteSize)\n",
    "\n",
    "    nextGeneration = mutatePopulation(children, mutationRate)\n",
    "\n",
    "#     for i in range(len(nextGeneration), popSize):\n",
    "#         nextGeneration.append( produce_initial_head_list())\n",
    "\n",
    "    return nextGeneration\n",
    "temp_a = np.array(rank_heads(pop))\n",
    "#print(temp_a )"
   ]
  },
  {
   "cell_type": "code",
   "execution_count": null,
   "metadata": {
    "ExecuteTime": {
     "end_time": "2021-04-27T13:32:32.000221Z",
     "start_time": "2021-04-27T13:32:13.683Z"
    }
   },
   "outputs": [],
   "source": [
    "final_pop =[]\n",
    "batch_err_list = []\n",
    "train_err_list = []  \n",
    "test_err_list = [] \n",
    "best_list = []\n",
    "def geneticAlgorithm(pop, popSize, eliteSize, mutationRate, generations):\n",
    "\n",
    "    print(\"Initial Delay: \" + str(rank_heads(pop)[0][1]))\n",
    "    best_Index = rank_heads(pop)[0][0]\n",
    "    best_one = pop[best_Index]\n",
    "    best_one.debug()\n",
    "    progress = []\n",
    "    progress.append(rank_heads(pop)[0][1])\n",
    "    \n",
    "    for i in range(0, generations):\n",
    "        pop = nextGeneration(pop, eliteSize, mutationRate)\n",
    "        print(\"Generation \" , i , \" : \" + str(rank_heads(pop)[0][1]))\n",
    "        progress.append(rank_heads(pop)[0][1])\n",
    "        best_Index = rank_heads(pop)[0][0]\n",
    "        best_one = pop[best_Index]\n",
    "        batch_err_list.append(best_one.fitness)\n",
    "        best_one.debug()\n",
    "        best_list.append(best_one)\n",
    "        train_err_list.append(best_one.fitness)\n",
    "        test_err_list.append(best_one.average_revenue)\n",
    "        final_pop.append(pop[best_Index])\n",
    "        print()\n",
    "        \n",
    "#     for i in range (len(pop)):\n",
    "#         final_pop.append(pop[i])\n",
    "    \n",
    "    res_rank = rank_heads_all(final_pop)\n",
    "    \n",
    "    bestdeadlineIndex = res_rank[0][0]\n",
    "    bestdeadline = final_pop[bestdeadlineIndex]\n",
    "\n",
    "    print(\"Final Delay: \" + str(res_rank[0][1]))\n",
    "        \n",
    "    #print(progress)\n",
    "    plt.plot(progress)\n",
    "    plt.ylabel('Delay')\n",
    "    plt.xlabel('Generation')\n",
    "    plt.show()\n",
    "    return bestdeadline"
   ]
  },
  {
   "cell_type": "code",
   "execution_count": null,
   "metadata": {
    "ExecuteTime": {
     "end_time": "2021-04-27T13:32:32.001220Z",
     "start_time": "2021-04-27T13:32:13.685Z"
    }
   },
   "outputs": [],
   "source": [
    "result = geneticAlgorithm(pop, popSize, eliteSize, mutationRate, generations)"
   ]
  },
  {
   "cell_type": "code",
   "execution_count": null,
   "metadata": {
    "ExecuteTime": {
     "end_time": "2021-04-27T13:32:32.003215Z",
     "start_time": "2021-04-27T13:32:13.688Z"
    }
   },
   "outputs": [],
   "source": [
    "print(result.function_list)"
   ]
  },
  {
   "cell_type": "code",
   "execution_count": null,
   "metadata": {
    "ExecuteTime": {
     "end_time": "2021-04-27T13:32:32.004254Z",
     "start_time": "2021-04-27T13:32:13.689Z"
    }
   },
   "outputs": [],
   "source": [
    "xdata = np.linspace(0, 1,line_space)\n",
    "ydata = func(xdata,result.function_list)\n",
    "plt.plot(xdata,ydata,label='a(t)')\n",
    "\n",
    "plt.xlabel('t')\n",
    "plt.ylabel('a(t)') \n",
    "plt.title('a(t)')\n",
    "\n",
    "plt.legend() \n",
    "plt.show()\n"
   ]
  },
  {
   "cell_type": "code",
   "execution_count": null,
   "metadata": {
    "ExecuteTime": {
     "end_time": "2021-04-27T13:32:32.005208Z",
     "start_time": "2021-04-27T13:32:13.691Z"
    }
   },
   "outputs": [],
   "source": [
    "xdata = np.linspace(0, 1,line_space)\n",
    "ydata = func(xdata,result.function_list) - min(func(xdata,result.function_list))\n",
    "\n",
    "plt.plot(xdata,ydata,label='a(t)')\n",
    "\n",
    "plt.xlabel('t')\n",
    "plt.ylabel('a(t)') \n",
    "plt.title('a(t)')\n",
    "\n",
    "plt.legend() \n",
    "plt.show()\n"
   ]
  },
  {
   "cell_type": "code",
   "execution_count": null,
   "metadata": {
    "ExecuteTime": {
     "end_time": "2021-04-27T13:32:32.006204Z",
     "start_time": "2021-04-27T13:32:13.692Z"
    }
   },
   "outputs": [],
   "source": [
    "import matplotlib.pyplot as plt\n",
    "\n",
    "plt.plot(batch_err_list,label='Batch Data Revenue')\n",
    "plt.plot(train_err_list,label='Train Data Revenue')\n",
    "plt.plot(test_err_list,label='Test Data Revenue')\n",
    "\n",
    "plt.xlabel('Generation')\n",
    "plt.ylabel('Revenue') \n",
    "plt.title('Training')\n",
    "\n",
    "plt.legend() \n",
    "plt.show()"
   ]
  },
  {
   "cell_type": "code",
   "execution_count": null,
   "metadata": {
    "ExecuteTime": {
     "end_time": "2021-04-27T13:32:32.007206Z",
     "start_time": "2021-04-27T13:32:13.694Z"
    }
   },
   "outputs": [],
   "source": [
    "plt.plot(batch_err_list,label='Batch Data Revenue')\n",
    "plt.plot(test_err_list,label='Test Data Revenue')\n",
    "\n",
    "plt.xlabel('Generation')\n",
    "plt.ylabel('Revenue') \n",
    "plt.title('Training')\n",
    "\n",
    "plt.legend() \n",
    "plt.show()"
   ]
  },
  {
   "cell_type": "code",
   "execution_count": null,
   "metadata": {
    "ExecuteTime": {
     "end_time": "2021-04-27T13:32:32.008199Z",
     "start_time": "2021-04-27T13:32:13.696Z"
    }
   },
   "outputs": [],
   "source": [
    "#plt.plot(batch_err_list,label='Batch Data Revenue')\n",
    "plt.plot(test_err_list,label='Test Data Revenue')\n",
    "\n",
    "plt.xlabel('Generation')\n",
    "plt.ylabel('Revenue') \n",
    "plt.title('Training')\n",
    "\n",
    "plt.legend() \n",
    "plt.show()"
   ]
  },
  {
   "cell_type": "code",
   "execution_count": null,
   "metadata": {
    "ExecuteTime": {
     "end_time": "2021-04-27T13:32:32.010194Z",
     "start_time": "2021-04-27T13:32:13.698Z"
    }
   },
   "outputs": [],
   "source": [
    "#result = best_list[len(best_list)-1]"
   ]
  },
  {
   "cell_type": "code",
   "execution_count": null,
   "metadata": {
    "ExecuteTime": {
     "end_time": "2021-04-27T13:32:32.011191Z",
     "start_time": "2021-04-27T13:32:13.700Z"
    }
   },
   "outputs": [],
   "source": [
    "result.debug()"
   ]
  },
  {
   "cell_type": "code",
   "execution_count": null,
   "metadata": {
    "ExecuteTime": {
     "end_time": "2021-04-27T13:32:32.012189Z",
     "start_time": "2021-04-27T13:32:13.704Z"
    }
   },
   "outputs": [],
   "source": [
    "from mpl_toolkits import mplot3d\n",
    "\n",
    "ax = plt.axes(projection='3d')\n",
    "print(result.Z_payment_list)\n",
    "\n",
    "ax.scatter3D(X_test[:,0], X_test[:,1], result.Z_payment_list,cmap='Greens');\n",
    "\n",
    "\n",
    "#ax.plot_surface(X_test[:,0], X_test[:,1], Z_payment)\n",
    "ax.set_title('surface');\n"
   ]
  },
  {
   "cell_type": "code",
   "execution_count": null,
   "metadata": {
    "ExecuteTime": {
     "end_time": "2021-04-27T13:32:32.013186Z",
     "start_time": "2021-04-27T13:32:13.706Z"
    }
   },
   "outputs": [],
   "source": [
    "fig = plt.figure()\n",
    "contour = plt.tricontourf(X_test[:,1],  X_test[:,0], result.Z_payment_list\n",
    "              \n",
    "               #cmap = cm.get_cmap(name='jet')\n",
    "                         )\n",
    "fig.colorbar(contour)\n",
    "plt.title('payment')\n",
    "plt.xlabel(r\"Defender type $\\dot{\\Theta}$d\")\n",
    "plt.ylabel(r\"offender type $\\dot{\\Theta}$o\")\n",
    "\n",
    "fig.savefig('3D.png')\n",
    "plt.show()"
   ]
  },
  {
   "cell_type": "code",
   "execution_count": null,
   "metadata": {
    "ExecuteTime": {
     "end_time": "2021-04-27T13:32:32.014183Z",
     "start_time": "2021-04-27T13:32:13.707Z"
    }
   },
   "outputs": [],
   "source": [
    "from scipy.interpolate import griddata\n",
    "grid_x, grid_y = np.mgrid[0:15:400j, 400:0:400j]\n",
    "points =np.reshape([X_test[:,1],X_test[:,0]],(2,-1))\n",
    "points = np.transpose(points)\n",
    "grid_z0 = griddata(points, result.Z_payment_list, (grid_x, grid_y), method='nearest')\n",
    "im =plt.imshow(grid_z0.T, extent=(0,15,0,400) , aspect='auto',interpolation='bilinear')\n",
    "plt.colorbar(im)\n",
    "plt.title('payment')\n",
    "plt.xlabel(r\"Defender type $\\dot{\\Theta}$d\")\n",
    "plt.ylabel(r\"offender type $\\dot{\\Theta}$o\")\n",
    "plt.show()"
   ]
  },
  {
   "cell_type": "code",
   "execution_count": null,
   "metadata": {
    "ExecuteTime": {
     "end_time": "2021-04-27T13:32:32.015181Z",
     "start_time": "2021-04-27T13:32:13.709Z"
    }
   },
   "outputs": [],
   "source": [
    "grid_x, grid_y = np.mgrid[0:15:400j, 400:0:400j]\n",
    "\n",
    "points =np.reshape([X_test[:,1],X_test[:,0]],(2,-1))\n",
    "\n",
    "points = np.transpose(points)\n",
    "\n",
    "grid_z1 = griddata(points, result.Z_o_star_list, (grid_x, grid_y), method='nearest')\n",
    "\n",
    "\n",
    "im =plt.imshow(grid_z1.T, extent=(0,15,0,400) , aspect='auto',interpolation='bilinear')\n",
    "plt.colorbar(im)\n",
    "plt.title('t*')\n",
    "plt.xlabel(r\"Defender type $\\dot{\\Theta}$d\")\n",
    "plt.ylabel(r\"offender type $\\dot{\\Theta}$o\")\n",
    "plt.show()"
   ]
  },
  {
   "cell_type": "code",
   "execution_count": null,
   "metadata": {},
   "outputs": [],
   "source": []
  }
 ],
 "metadata": {
  "hide_input": false,
  "kernelspec": {
   "display_name": "Python 3",
   "language": "python",
   "name": "python3"
  },
  "language_info": {
   "codemirror_mode": {
    "name": "ipython",
    "version": 3
   },
   "file_extension": ".py",
   "mimetype": "text/x-python",
   "name": "python",
   "nbconvert_exporter": "python",
   "pygments_lexer": "ipython3",
   "version": "3.8.3"
  },
  "varInspector": {
   "cols": {
    "lenName": 16,
    "lenType": 16,
    "lenVar": 40
   },
   "kernels_config": {
    "python": {
     "delete_cmd_postfix": "",
     "delete_cmd_prefix": "del ",
     "library": "var_list.py",
     "varRefreshCmd": "print(var_dic_list())"
    },
    "r": {
     "delete_cmd_postfix": ") ",
     "delete_cmd_prefix": "rm(",
     "library": "var_list.r",
     "varRefreshCmd": "cat(var_dic_list()) "
    }
   },
   "types_to_exclude": [
    "module",
    "function",
    "builtin_function_or_method",
    "instance",
    "_Feature"
   ],
   "window_display": false
  }
 },
 "nbformat": 4,
 "nbformat_minor": 4
}
