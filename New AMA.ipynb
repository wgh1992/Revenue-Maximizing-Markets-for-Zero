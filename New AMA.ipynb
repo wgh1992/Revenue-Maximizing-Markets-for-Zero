{
 "cells": [
  {
   "cell_type": "code",
   "execution_count": 1,
   "metadata": {
    "ExecuteTime": {
     "end_time": "2020-10-28T11:59:44.346389Z",
     "start_time": "2020-10-28T11:59:40.438592Z"
    }
   },
   "outputs": [
    {
     "name": "stdout",
     "output_type": "stream",
     "text": [
      "WARNING:tensorflow:From D:\\ComputerSoftwares\\Anaconda\\lib\\site-packages\\tensorflow\\python\\compat\\v2_compat.py:96: disable_resource_variables (from tensorflow.python.ops.variable_scope) is deprecated and will be removed in a future version.\n",
      "Instructions for updating:\n",
      "non-resource variables are not supported in the long term\n"
     ]
    }
   ],
   "source": [
    "import numpy as np\n",
    "import random\n",
    "import math\n",
    "from matplotlib import pyplot as plt\n",
    "from mpl_toolkits.mplot3d import Axes3D\n",
    "from sklearn.decomposition import PCA\n",
    "import matplotlib.pyplot as plt\n",
    "import math\n",
    "import scipy.stats as st\n",
    "from mpl_toolkits.mplot3d import Axes3D \n",
    "import matplotlib.pyplot as plt \n",
    "import numpy as np \n",
    "import scipy.io\n",
    "from sklearn.model_selection import train_test_split\n",
    "#print(trainingdata)\n",
    "\n",
    "import tensorflow.compat.v1 as tf\n",
    "#导入TensorFlow工具包并简称为tf\n",
    " \n",
    "from numpy.random import RandomState\n",
    "#导入numpy工具包，生成模拟数据集\n",
    "\n",
    "import tensorflow_probability as tfp\n",
    "tf.disable_v2_behavior()\n",
    "tf.compat.v1.disable_eager_execution()\n",
    "seed = 7\n",
    "np.random.seed(seed)"
   ]
  },
  {
   "cell_type": "code",
   "execution_count": 2,
   "metadata": {
    "ExecuteTime": {
     "end_time": "2020-10-28T11:59:45.186147Z",
     "start_time": "2020-10-28T11:59:44.347358Z"
    }
   },
   "outputs": [],
   "source": [
    "i = tf.constant(0)\n",
    "c = lambda i: tf.less(i, 10)\n",
    "b = lambda i: (tf.add(i, 1), )\n",
    "r = tf.while_loop(c, b, [i])\n",
    "\n",
    "i0 = tf.constant(0)\n",
    "m0 = tf.ones([2, 2])\n",
    "c = lambda i, m: i < 10\n",
    "b = lambda i, m: [i+1, tf.concat([m, m], axis=0)]\n",
    "d=tf.while_loop(\n",
    "    c, b, loop_vars=[i0, m0],\n",
    "    shape_invariants=[i0.get_shape(), tf.TensorShape([None, 2])])\n",
    "#saver = tf.compat.v1.train.Saver()\n",
    "#创建会话来运行TensorFlow程序\n",
    "\n",
    "sess = tf.compat.v1.Session()\n",
    "init_op = tf.compat.v1.global_variables_initializer()\n",
    "sess.run(init_op)\n",
    "writer= tf.compat.v1.summary.FileWriter('logs/',sess.graph)"
   ]
  },
  {
   "cell_type": "code",
   "execution_count": 3,
   "metadata": {
    "ExecuteTime": {
     "end_time": "2020-10-28T11:59:45.201052Z",
     "start_time": "2020-10-28T11:59:45.187143Z"
    }
   },
   "outputs": [
    {
     "data": {
      "text/plain": [
       "[10,\n",
       " array([[1., 1.],\n",
       "        [1., 1.],\n",
       "        [1., 1.],\n",
       "        ...,\n",
       "        [1., 1.],\n",
       "        [1., 1.],\n",
       "        [1., 1.]], dtype=float32)]"
      ]
     },
     "execution_count": 3,
     "metadata": {},
     "output_type": "execute_result"
    }
   ],
   "source": [
    "sess.run(r)\n",
    "sess.run(d)"
   ]
  },
  {
   "cell_type": "code",
   "execution_count": 4,
   "metadata": {
    "ExecuteTime": {
     "end_time": "2020-10-28T11:59:46.391937Z",
     "start_time": "2020-10-28T11:59:45.203046Z"
    }
   },
   "outputs": [
    {
     "name": "stdout",
     "output_type": "stream",
     "text": [
      "WARNING:tensorflow:From <ipython-input-4-10bf358e1b94>:4: Print (from tensorflow.python.ops.logging_ops) is deprecated and will be removed after 2018-08-20.\n",
      "Instructions for updating:\n",
      "Use tf.print instead of tf.Print. Note that tf.print returns a no-output operator that directly prints the output. Outside of defuns or eager mode, this operator will not be executed unless it is directly specified in session.run or used as a control dependency for other operators. This is only a concern in graph mode. Below is an example of how to ensure tf.print executes in graph mode:\n",
      "\n",
      "10000\n",
      "[10000 10001 10002 ... 19997 19998 19999]\n"
     ]
    }
   ],
   "source": [
    "n = 10000\n",
    "x = tf.constant(list(range(n)))\n",
    "c = lambda i, x: i < n\n",
    "b = lambda i, x: (tf.compat.v1.Print(i + 1, [i]), tf.compat.v1.Print(x + 1,\n",
    "[i], \"x:\"))\n",
    "i, out = tf.while_loop(c, b, (0, x))\n",
    "with tf.compat.v1.Session() as sess:\n",
    "    print(sess.run(i))  # prints [0] ... [9999]\n",
    "\n",
    "    # The following line may increment the counter and x in parallel.\n",
    "    # The counter thread may get ahead of the other thread, but not the\n",
    "    # other way around. So you may see things like\n",
    "    # [9996] x:[9987]\n",
    "    # meaning that the counter thread is on iteration 9996,\n",
    "    # while the other thread is on iteration 9987\n",
    "    print(sess.run(out))"
   ]
  },
  {
   "cell_type": "code",
   "execution_count": 5,
   "metadata": {
    "ExecuteTime": {
     "end_time": "2020-10-28T11:59:48.955276Z",
     "start_time": "2020-10-28T11:59:46.392933Z"
    }
   },
   "outputs": [
    {
     "name": "stdout",
     "output_type": "stream",
     "text": [
      "[391.1958048    8.07743806]\n",
      "[[271.69199845  12.05608554]\n",
      " [ 85.35414143   6.78185943]\n",
      " [ 92.12115161   8.22734879]\n",
      " ...\n",
      " [303.15368136   3.59778968]\n",
      " [191.24357187   7.38312562]\n",
      " [163.77016144   3.63757603]]\n",
      "[271.69199845  85.35414143  92.12115161 ... 303.15368136 191.24357187\n",
      " 163.77016144]\n"
     ]
    },
    {
     "data": {
      "image/png": "[encoded data removed]",
      "text/plain": [
       "<Figure size 432x288 with 1 Axes>"
      ]
     },
     "metadata": {
      "needs_background": "light"
     },
     "output_type": "display_data"
    },
    {
     "data": {
      "image/png": "[encoded data removed]",
      "text/plain": [
       "<Figure size 432x288 with 1 Axes>"
      ]
     },
     "metadata": {
      "needs_background": "light"
     },
     "output_type": "display_data"
    }
   ],
   "source": [
    "agent_number_n=2\n",
    "exec(open('distribution1item_uniform.py').read())\n"
   ]
  },
  {
   "cell_type": "code",
   "execution_count": 6,
   "metadata": {
    "ExecuteTime": {
     "end_time": "2020-10-28T11:59:49.020313Z",
     "start_time": "2020-10-28T11:59:48.956974Z"
    }
   },
   "outputs": [
    {
     "name": "stdout",
     "output_type": "stream",
     "text": [
      "160000\n",
      "40000\n"
     ]
    }
   ],
   "source": [
    "X_train,  X_test = train_test_split(value_list, test_size=0.2, random_state=seed)\n",
    "\n",
    "dataset_size = len(X_train)\n",
    "print(dataset_size)\n",
    "\n",
    "print(len(X_test))"
   ]
  },
  {
   "cell_type": "code",
   "execution_count": 7,
   "metadata": {
    "ExecuteTime": {
     "end_time": "2020-10-28T11:59:49.025300Z",
     "start_time": "2020-10-28T11:59:49.021310Z"
    }
   },
   "outputs": [],
   "source": [
    "time_frame = np.linspace(0, 1, 1000)"
   ]
  },
  {
   "cell_type": "code",
   "execution_count": 8,
   "metadata": {
    "ExecuteTime": {
     "end_time": "2020-10-28T11:59:49.049274Z",
     "start_time": "2020-10-28T11:59:49.028292Z"
    }
   },
   "outputs": [
    {
     "name": "stdout",
     "output_type": "stream",
     "text": [
      "[array([398.39342498,   6.32399283]), array([3.37385503e+02, 8.37534352e-02]), array([124.80044305,   5.2755793 ]), array([238.55342152,   7.78026127]), array([197.18051727,   8.19516856]), array([132.83871216,  14.2786318 ]), array([162.47429703,  11.32321688]), array([326.6265138 ,   2.81981824]), array([245.3671308 ,   2.38230061]), array([393.1687767 ,   9.50473755]), array([107.16316573,  14.00899775]), array([204.85904463,   4.65829008]), array([261.89870333,   3.73374248]), array([286.19906296,   5.23592722]), array([49.31711705,  3.06186514]), array([3.18899287, 0.60329614]), array([98.97132145,  4.02199138]), array([72.69419857,  5.12589114]), array([139.14174737,   8.28123298]), array([252.13725494,  13.12339198]), array([29.61947474,  2.21604204]), array([10.77483047, 10.84407845]), array([48.73685661, 10.49513772]), array([215.97773523,  10.05330542]), array([110.42053015,   3.30234345]), array([166.26922968,  12.89741723]), array([314.87050244,   3.97216638]), array([67.95937705,  4.47181426]), array([194.4356846 ,   7.37776804]), array([106.44780779,   4.16830654]), array([158.63704763,   8.66179703]), array([28.64741127,  9.79584474]), array([ 7.18724813, 14.10466665]), array([50.03565479, 13.56215805]), array([323.46912517,  14.01323081]), array([74.23867542,  4.814314  ]), array([321.3847414 ,   3.85166123]), array([218.74862356,  14.82440444]), array([390.69009812,  13.0785882 ]), array([56.49058482,  9.86062349]), array([36.25457498, 10.18218974]), array([291.56875073,  10.41874343]), array([278.26649546,   5.36156155]), array([59.99464247,  8.94051637]), array([65.79672591,  2.14275158]), array([153.44186512,   6.11277177]), array([315.97126259,   5.24369887]), array([89.82206666, 11.61553998]), array([150.22969464,  12.97543984]), array([23.29595757,  3.29506199]), array([351.38583895,   7.47047264]), array([230.53155593,   0.32963874]), array([49.41018515,  2.11013797]), array([75.05822893, 12.50529528]), array([75.57094888,  3.94514536]), array([154.61726538,   4.12720805]), array([214.96535285,   1.68633093]), array([176.61096801,   9.59005176]), array([250.82556286,   9.89496502]), array([162.23635439,   3.83463547]), array([362.32662581,  10.35707845]), array([198.47135752,   2.30838073]), array([195.71570364,  10.73858073]), array([231.93263991,   8.65213767]), array([197.09695015,  10.76822839]), array([324.2799858 ,  14.86391872]), array([357.01033367,   7.2501397 ]), array([223.43088184,   8.96683483]), array([170.69915302,   4.69100293]), array([175.49488529,   1.27138039]), array([10.95521137,  3.13413292]), array([145.68658043,   3.53638164]), array([1.96829452e+02, 1.18362958e-02]), array([76.14104851,  4.52068781]), array([203.69578024,  12.57516413]), array([52.95687735, 12.34906599]), array([109.63370211,   4.68776308]), array([31.48986261, 13.20107621]), array([114.47888875,   5.74085617]), array([183.46691082,  14.29085457]), array([294.77382093,   4.0306669 ]), array([332.87631911,  14.40928228]), array([3.10175821, 7.04631738]), array([14.7680535 ,  1.09432405]), array([142.69216801,  12.9768378 ]), array([307.39989964,   3.34569798]), array([216.54396521,   5.70792241]), array([109.98399063,   4.22654953]), array([322.90502576,  12.33465648]), array([136.38428449,   4.63248048]), array([63.84703254,  8.78551387]), array([303.02972757,  14.69303974]), array([204.48324659,   0.36987603]), array([165.13241643,  14.74887461]), array([389.84531988,   5.90231999]), array([312.74290791,  12.88363023]), array([302.7015782 ,   3.95189859]), array([359.25800187,   2.51254234]), array([64.98043045,  9.20993756]), array([102.62179935,   4.39343195]), array([154.28753748,   8.59691367]), array([280.84630945,   7.93362839]), array([95.2354993 ,  2.16659009]), array([170.02674401,  13.905543  ]), array([304.53615492,   7.94336955]), array([223.95574643,  11.14482181]), array([164.55453381,   2.02475212]), array([57.13171947, 12.90446852]), array([240.6118312 ,   3.45917187]), array([388.84953224,  13.35759869]), array([271.13132124,  13.91728577]), array([150.2399022,   0.8873959]), array([189.17785694,   6.28145681]), array([213.89797353,   1.94776867]), array([202.08857905,   3.22772564]), array([149.57784512,   2.86205261]), array([261.69481609,   4.15863142]), array([381.65179653,   1.64367095]), array([270.84968841,   4.17687737]), array([108.36772007,   8.03538662]), array([333.13618819,  14.43116171]), array([77.97159313,  2.97025304]), array([72.01666484, 14.48363897]), array([378.81244034,   9.23095876]), array([56.66080684,  5.69191844]), array([367.47321569,   2.93965147]), array([367.92105194,   9.75335035]), array([9.83891967, 9.312209  ]), array([330.1190224 ,   6.68722734]), array([134.06009988,  11.621333  ]), array([215.88006981,   2.33854564]), array([303.69177376,  13.86123114]), array([364.10564508,   1.15001489]), array([115.67721302,   1.76706143]), array([33.84273887, 13.75301553]), array([261.37027695,  11.19112444]), array([2.09367753e+02, 1.71961882e-01]), array([313.08686419,  13.02440197]), array([66.08345436, 11.54140672]), array([26.54312636, 14.1162686 ]), array([172.81166988,  12.51440037]), array([182.00945572,   0.51215208]), array([35.08390698,  1.1322029 ]), array([351.25639338,   5.07488756]), array([199.05372453,  11.05600855]), array([21.76799692,  3.67494258]), array([378.95801416,   2.81849112]), array([185.48416162,   9.07612598]), array([32.40259417,  9.7649603 ]), array([173.44891579,   5.30139914]), array([297.6338318 ,  11.06869033]), array([330.27394652,   4.97301194]), array([61.85835157,  9.25503597]), array([215.63120537,   8.18836303]), array([192.93172692,  12.85714543]), array([184.86208859,  14.43185194]), array([115.28663124,   0.35476952]), array([259.70263768,   2.30501944]), array([344.49543586,  13.4509471 ]), array([83.55215341,  4.08588241]), array([161.16755532,  14.1808168 ]), array([105.4816503 ,   4.03498078]), array([225.06312677,   6.06707791]), array([247.45498919,  10.12389794]), array([198.05361478,   9.02056094]), array([18.63672624,  1.60710815]), array([37.53303113, 13.85841384]), array([1.48183233e+02, 5.27171650e-02]), array([115.2896708 ,   9.93376278]), array([139.63899434,   7.70561248]), array([394.39107775,   4.6825586 ]), array([180.24044537,   3.5419941 ]), array([222.73164717,  11.87585936]), array([394.77506644,  12.17528211]), array([26.51512594,  2.58717912]), array([352.32725153,   8.05893587]), array([282.19132703,  11.19481624]), array([306.35654103,   7.13079901]), array([68.62424563,  3.6829914 ]), array([74.0980223 , 14.37955275]), array([290.0097642 ,   6.45608461]), array([372.62900783,   1.39023243]), array([130.70866836,  14.50189599]), array([194.62904665,   3.49612182]), array([44.16126768, 10.62889852]), array([2.32945439, 7.82490064]), array([12.08457732,  3.53244982]), array([253.59696478,   7.05324017]), array([250.02822705,   8.13331423]), array([107.13871051,   6.76796315]), array([102.47034527,   3.51292537]), array([204.99277086,   2.14345618]), array([174.79793501,   6.64741635]), array([262.51149732,   9.33579995]), array([47.93160005, 11.98391333]), array([227.04397824,   6.1266044 ]), array([193.07647554,  11.55068683]), array([150.69225478,   7.58708615]), array([90.46041262,  6.80123964]), array([131.10518956,  12.75441117])]\n"
     ]
    }
   ],
   "source": [
    "print(X_train[:200])"
   ]
  },
  {
   "cell_type": "code",
   "execution_count": 13,
   "metadata": {
    "ExecuteTime": {
     "end_time": "2020-10-28T12:01:42.679646Z",
     "start_time": "2020-10-28T12:01:42.629139Z"
    }
   },
   "outputs": [],
   "source": [
    "tensor_number=100\n",
    "w1 = tf.Variable(tf.truncated_normal([1,tensor_number],stddev=0.1))\n",
    "w2 = tf.Variable(tf.truncated_normal([tensor_number,tensor_number],stddev=0.1))\n",
    "w3 = tf.Variable(tf.truncated_normal([tensor_number,tensor_number],stddev=0.1))\n",
    "w4 = tf.Variable(tf.truncated_normal([tensor_number,tensor_number],stddev=0.1))\n",
    "w5 = tf.Variable(tf.truncated_normal([tensor_number,1],stddev=0.1))\n",
    "\n",
    "\n",
    "biases1 = tf.Variable(tf.zeros([1,tensor_number])+0.01)\n",
    "biases2 = tf.Variable(tf.zeros([1,tensor_number])+0.01)\n",
    "biases3 = tf.Variable(tf.zeros([1,tensor_number])+0.01)\n",
    "biases4 = tf.Variable(tf.zeros([1,tensor_number])+0.01)\n",
    "biases5 = tf.Variable(tf.zeros([1,1])+0.01)\n",
    "\n",
    "with tf.name_scope('input'):\n",
    "    input_value1 = tf.placeholder(tf.float32,shape=(None,1),name='x-input1')\n",
    "    input_value2 = tf.placeholder(tf.float32,shape=(None,1),name='x-input2')"
   ]
  },
  {
   "cell_type": "code",
   "execution_count": 14,
   "metadata": {
    "ExecuteTime": {
     "end_time": "2020-10-28T12:01:42.992694Z",
     "start_time": "2020-10-28T12:01:42.979728Z"
    }
   },
   "outputs": [],
   "source": [
    "x1 = tf.nn.relu(tf.matmul([input_value1],w1))+biases1\n",
    "x2 = tf.nn.relu(tf.matmul(x1,w2))+biases2\n",
    "x3 = tf.nn.relu(tf.matmul(x2,w3))+biases3\n",
    "x4 = tf.nn.relu(tf.matmul(x3,w4))+biases4\n",
    "y1 = tf.nn.tanh(tf.matmul(x4,w5)+biases5)\n",
    "ao =  y1                                                           "
   ]
  },
  {
   "cell_type": "code",
   "execution_count": null,
   "metadata": {},
   "outputs": [],
   "source": []
  },
  {
   "cell_type": "code",
   "execution_count": 17,
   "metadata": {
    "ExecuteTime": {
     "end_time": "2020-10-28T12:06:13.339717Z",
     "start_time": "2020-10-28T12:06:13.066598Z"
    }
   },
   "outputs": [
    {
     "name": "stdout",
     "output_type": "stream",
     "text": [
      "(10000, -97980201)\n",
      "-97980201\n"
     ]
    },
    {
     "ename": "InvalidArgumentError",
     "evalue": "Expected dimension in the range [0, 0), but got 0\n\t [[node ArgMax_2 (defined at <ipython-input-17-e799b7bdae40>:6) ]]\n\nOriginal stack trace for 'ArgMax_2':\n  File \"D:\\ComputerSoftwares\\Anaconda\\lib\\runpy.py\", line 194, in _run_module_as_main\n    return _run_code(code, main_globals, None,\n  File \"D:\\ComputerSoftwares\\Anaconda\\lib\\runpy.py\", line 87, in _run_code\n    exec(code, run_globals)\n  File \"D:\\ComputerSoftwares\\Anaconda\\lib\\site-packages\\ipykernel_launcher.py\", line 16, in <module>\n    app.launch_new_instance()\n  File \"D:\\ComputerSoftwares\\Anaconda\\lib\\site-packages\\traitlets\\config\\application.py\", line 664, in launch_instance\n    app.start()\n  File \"D:\\ComputerSoftwares\\Anaconda\\lib\\site-packages\\ipykernel\\kernelapp.py\", line 612, in start\n    self.io_loop.start()\n  File \"D:\\ComputerSoftwares\\Anaconda\\lib\\site-packages\\tornado\\platform\\asyncio.py\", line 149, in start\n    self.asyncio_loop.run_forever()\n  File \"D:\\ComputerSoftwares\\Anaconda\\lib\\asyncio\\base_events.py\", line 570, in run_forever\n    self._run_once()\n  File \"D:\\ComputerSoftwares\\Anaconda\\lib\\asyncio\\base_events.py\", line 1859, in _run_once\n    handle._run()\n  File \"D:\\ComputerSoftwares\\Anaconda\\lib\\asyncio\\events.py\", line 81, in _run\n    self._context.run(self._callback, *self._args)\n  File \"D:\\ComputerSoftwares\\Anaconda\\lib\\site-packages\\tornado\\ioloop.py\", line 690, in <lambda>\n    lambda f: self._run_callback(functools.partial(callback, future))\n  File \"D:\\ComputerSoftwares\\Anaconda\\lib\\site-packages\\tornado\\ioloop.py\", line 743, in _run_callback\n    ret = callback()\n  File \"D:\\ComputerSoftwares\\Anaconda\\lib\\site-packages\\tornado\\gen.py\", line 787, in inner\n    self.run()\n  File \"D:\\ComputerSoftwares\\Anaconda\\lib\\site-packages\\tornado\\gen.py\", line 748, in run\n    yielded = self.gen.send(value)\n  File \"D:\\ComputerSoftwares\\Anaconda\\lib\\site-packages\\ipykernel\\kernelbase.py\", line 365, in process_one\n    yield gen.maybe_future(dispatch(*args))\n  File \"D:\\ComputerSoftwares\\Anaconda\\lib\\site-packages\\tornado\\gen.py\", line 209, in wrapper\n    yielded = next(result)\n  File \"D:\\ComputerSoftwares\\Anaconda\\lib\\site-packages\\ipykernel\\kernelbase.py\", line 268, in dispatch_shell\n    yield gen.maybe_future(handler(stream, idents, msg))\n  File \"D:\\ComputerSoftwares\\Anaconda\\lib\\site-packages\\tornado\\gen.py\", line 209, in wrapper\n    yielded = next(result)\n  File \"D:\\ComputerSoftwares\\Anaconda\\lib\\site-packages\\ipykernel\\kernelbase.py\", line 543, in execute_request\n    self.do_execute(\n  File \"D:\\ComputerSoftwares\\Anaconda\\lib\\site-packages\\tornado\\gen.py\", line 209, in wrapper\n    yielded = next(result)\n  File \"D:\\ComputerSoftwares\\Anaconda\\lib\\site-packages\\ipykernel\\ipkernel.py\", line 306, in do_execute\n    res = shell.run_cell(code, store_history=store_history, silent=silent)\n  File \"D:\\ComputerSoftwares\\Anaconda\\lib\\site-packages\\ipykernel\\zmqshell.py\", line 536, in run_cell\n    return super(ZMQInteractiveShell, self).run_cell(*args, **kwargs)\n  File \"D:\\ComputerSoftwares\\Anaconda\\lib\\site-packages\\IPython\\core\\interactiveshell.py\", line 2866, in run_cell\n    result = self._run_cell(\n  File \"D:\\ComputerSoftwares\\Anaconda\\lib\\site-packages\\IPython\\core\\interactiveshell.py\", line 2895, in _run_cell\n    return runner(coro)\n  File \"D:\\ComputerSoftwares\\Anaconda\\lib\\site-packages\\IPython\\core\\async_helpers.py\", line 68, in _pseudo_sync_runner\n    coro.send(None)\n  File \"D:\\ComputerSoftwares\\Anaconda\\lib\\site-packages\\IPython\\core\\interactiveshell.py\", line 3071, in run_cell_async\n    has_raised = await self.run_ast_nodes(code_ast.body, cell_name,\n  File \"D:\\ComputerSoftwares\\Anaconda\\lib\\site-packages\\IPython\\core\\interactiveshell.py\", line 3263, in run_ast_nodes\n    if (await self.run_code(code, result,  async_=asy)):\n  File \"D:\\ComputerSoftwares\\Anaconda\\lib\\site-packages\\IPython\\core\\interactiveshell.py\", line 3343, in run_code\n    exec(code_obj, self.user_global_ns, self.user_ns)\n  File \"<ipython-input-17-e799b7bdae40>\", line 6, in <module>\n    O_star=tf.math.argmax(tf.while_loop(condition, body, (0, 0))[1])\n  File \"D:\\ComputerSoftwares\\Anaconda\\lib\\site-packages\\tensorflow\\python\\util\\dispatch.py\", line 201, in wrapper\n    return target(*args, **kwargs)\n  File \"D:\\ComputerSoftwares\\Anaconda\\lib\\site-packages\\tensorflow\\python\\util\\deprecation.py\", line 507, in new_func\n    return func(*args, **kwargs)\n  File \"D:\\ComputerSoftwares\\Anaconda\\lib\\site-packages\\tensorflow\\python\\ops\\math_ops.py\", line 258, in argmax\n    return argmax_v2(input, axis, output_type, name)\n  File \"D:\\ComputerSoftwares\\Anaconda\\lib\\site-packages\\tensorflow\\python\\util\\dispatch.py\", line 201, in wrapper\n    return target(*args, **kwargs)\n  File \"D:\\ComputerSoftwares\\Anaconda\\lib\\site-packages\\tensorflow\\python\\ops\\math_ops.py\", line 295, in argmax_v2\n    return gen_math_ops.arg_max(input, axis, name=name, output_type=output_type)\n  File \"D:\\ComputerSoftwares\\Anaconda\\lib\\site-packages\\tensorflow\\python\\ops\\gen_math_ops.py\", line 865, in arg_max\n    _, _, _op, _outputs = _op_def_library._apply_op_helper(\n  File \"D:\\ComputerSoftwares\\Anaconda\\lib\\site-packages\\tensorflow\\python\\framework\\op_def_library.py\", line 742, in _apply_op_helper\n    op = g._create_op_internal(op_type_name, inputs, dtypes=None,\n  File \"D:\\ComputerSoftwares\\Anaconda\\lib\\site-packages\\tensorflow\\python\\framework\\ops.py\", line 3477, in _create_op_internal\n    ret = Operation(\n  File \"D:\\ComputerSoftwares\\Anaconda\\lib\\site-packages\\tensorflow\\python\\framework\\ops.py\", line 1949, in __init__\n    self._traceback = tf_stack.extract_stack()\n",
     "output_type": "error",
     "traceback": [
      "\u001b[1;31m---------------------------------------------------------------------------\u001b[0m",
      "\u001b[1;31mInvalidArgumentError\u001b[0m                      Traceback (most recent call last)",
      "\u001b[1;32mD:\\ComputerSoftwares\\Anaconda\\lib\\site-packages\\tensorflow\\python\\client\\session.py\u001b[0m in \u001b[0;36m_do_call\u001b[1;34m(self, fn, *args)\u001b[0m\n\u001b[0;32m   1364\u001b[0m     \u001b[1;32mtry\u001b[0m\u001b[1;33m:\u001b[0m\u001b[1;33m\u001b[0m\u001b[1;33m\u001b[0m\u001b[0m\n\u001b[1;32m-> 1365\u001b[1;33m       \u001b[1;32mreturn\u001b[0m \u001b[0mfn\u001b[0m\u001b[1;33m(\u001b[0m\u001b[1;33m*\u001b[0m\u001b[0margs\u001b[0m\u001b[1;33m)\u001b[0m\u001b[1;33m\u001b[0m\u001b[1;33m\u001b[0m\u001b[0m\n\u001b[0m\u001b[0;32m   1366\u001b[0m     \u001b[1;32mexcept\u001b[0m \u001b[0merrors\u001b[0m\u001b[1;33m.\u001b[0m\u001b[0mOpError\u001b[0m \u001b[1;32mas\u001b[0m \u001b[0me\u001b[0m\u001b[1;33m:\u001b[0m\u001b[1;33m\u001b[0m\u001b[1;33m\u001b[0m\u001b[0m\n",
      "\u001b[1;32mD:\\ComputerSoftwares\\Anaconda\\lib\\site-packages\\tensorflow\\python\\client\\session.py\u001b[0m in \u001b[0;36m_run_fn\u001b[1;34m(feed_dict, fetch_list, target_list, options, run_metadata)\u001b[0m\n\u001b[0;32m   1348\u001b[0m       \u001b[0mself\u001b[0m\u001b[1;33m.\u001b[0m\u001b[0m_extend_graph\u001b[0m\u001b[1;33m(\u001b[0m\u001b[1;33m)\u001b[0m\u001b[1;33m\u001b[0m\u001b[1;33m\u001b[0m\u001b[0m\n\u001b[1;32m-> 1349\u001b[1;33m       return self._call_tf_sessionrun(options, feed_dict, fetch_list,\n\u001b[0m\u001b[0;32m   1350\u001b[0m                                       target_list, run_metadata)\n",
      "\u001b[1;32mD:\\ComputerSoftwares\\Anaconda\\lib\\site-packages\\tensorflow\\python\\client\\session.py\u001b[0m in \u001b[0;36m_call_tf_sessionrun\u001b[1;34m(self, options, feed_dict, fetch_list, target_list, run_metadata)\u001b[0m\n\u001b[0;32m   1440\u001b[0m                           run_metadata):\n\u001b[1;32m-> 1441\u001b[1;33m     return tf_session.TF_SessionRun_wrapper(self._session, options, feed_dict,\n\u001b[0m\u001b[0;32m   1442\u001b[0m                                             \u001b[0mfetch_list\u001b[0m\u001b[1;33m,\u001b[0m \u001b[0mtarget_list\u001b[0m\u001b[1;33m,\u001b[0m\u001b[1;33m\u001b[0m\u001b[1;33m\u001b[0m\u001b[0m\n",
      "\u001b[1;31mInvalidArgumentError\u001b[0m: Expected dimension in the range [0, 0), but got 0\n\t [[{{node ArgMax_2}}]]",
      "\nDuring handling of the above exception, another exception occurred:\n",
      "\u001b[1;31mInvalidArgumentError\u001b[0m                      Traceback (most recent call last)",
      "\u001b[1;32m<ipython-input-17-e799b7bdae40>\u001b[0m in \u001b[0;36m<module>\u001b[1;34m\u001b[0m\n\u001b[0;32m     10\u001b[0m \u001b[1;33m\u001b[0m\u001b[0m\n\u001b[0;32m     11\u001b[0m     \u001b[0mprint\u001b[0m\u001b[1;33m(\u001b[0m\u001b[0msess\u001b[0m\u001b[1;33m.\u001b[0m\u001b[0mrun\u001b[0m\u001b[1;33m(\u001b[0m\u001b[0mout\u001b[0m\u001b[1;33m)\u001b[0m\u001b[1;33m)\u001b[0m\u001b[1;33m\u001b[0m\u001b[1;33m\u001b[0m\u001b[0m\n\u001b[1;32m---> 12\u001b[1;33m     \u001b[0mprint\u001b[0m\u001b[1;33m(\u001b[0m\u001b[0msess\u001b[0m\u001b[1;33m.\u001b[0m\u001b[0mrun\u001b[0m\u001b[1;33m(\u001b[0m\u001b[0mO_star\u001b[0m\u001b[1;33m)\u001b[0m\u001b[1;33m)\u001b[0m\u001b[1;33m\u001b[0m\u001b[1;33m\u001b[0m\u001b[0m\n\u001b[0m\u001b[0;32m     13\u001b[0m \u001b[1;33m\u001b[0m\u001b[0m\n\u001b[0;32m     14\u001b[0m \u001b[1;33m\u001b[0m\u001b[0m\n",
      "\u001b[1;32mD:\\ComputerSoftwares\\Anaconda\\lib\\site-packages\\tensorflow\\python\\client\\session.py\u001b[0m in \u001b[0;36mrun\u001b[1;34m(self, fetches, feed_dict, options, run_metadata)\u001b[0m\n\u001b[0;32m    955\u001b[0m \u001b[1;33m\u001b[0m\u001b[0m\n\u001b[0;32m    956\u001b[0m     \u001b[1;32mtry\u001b[0m\u001b[1;33m:\u001b[0m\u001b[1;33m\u001b[0m\u001b[1;33m\u001b[0m\u001b[0m\n\u001b[1;32m--> 957\u001b[1;33m       result = self._run(None, fetches, feed_dict, options_ptr,\n\u001b[0m\u001b[0;32m    958\u001b[0m                          run_metadata_ptr)\n\u001b[0;32m    959\u001b[0m       \u001b[1;32mif\u001b[0m \u001b[0mrun_metadata\u001b[0m\u001b[1;33m:\u001b[0m\u001b[1;33m\u001b[0m\u001b[1;33m\u001b[0m\u001b[0m\n",
      "\u001b[1;32mD:\\ComputerSoftwares\\Anaconda\\lib\\site-packages\\tensorflow\\python\\client\\session.py\u001b[0m in \u001b[0;36m_run\u001b[1;34m(self, handle, fetches, feed_dict, options, run_metadata)\u001b[0m\n\u001b[0;32m   1178\u001b[0m     \u001b[1;31m# or if the call is a partial run that specifies feeds.\u001b[0m\u001b[1;33m\u001b[0m\u001b[1;33m\u001b[0m\u001b[1;33m\u001b[0m\u001b[0m\n\u001b[0;32m   1179\u001b[0m     \u001b[1;32mif\u001b[0m \u001b[0mfinal_fetches\u001b[0m \u001b[1;32mor\u001b[0m \u001b[0mfinal_targets\u001b[0m \u001b[1;32mor\u001b[0m \u001b[1;33m(\u001b[0m\u001b[0mhandle\u001b[0m \u001b[1;32mand\u001b[0m \u001b[0mfeed_dict_tensor\u001b[0m\u001b[1;33m)\u001b[0m\u001b[1;33m:\u001b[0m\u001b[1;33m\u001b[0m\u001b[1;33m\u001b[0m\u001b[0m\n\u001b[1;32m-> 1180\u001b[1;33m       results = self._do_run(handle, final_targets, final_fetches,\n\u001b[0m\u001b[0;32m   1181\u001b[0m                              feed_dict_tensor, options, run_metadata)\n\u001b[0;32m   1182\u001b[0m     \u001b[1;32melse\u001b[0m\u001b[1;33m:\u001b[0m\u001b[1;33m\u001b[0m\u001b[1;33m\u001b[0m\u001b[0m\n",
      "\u001b[1;32mD:\\ComputerSoftwares\\Anaconda\\lib\\site-packages\\tensorflow\\python\\client\\session.py\u001b[0m in \u001b[0;36m_do_run\u001b[1;34m(self, handle, target_list, fetch_list, feed_dict, options, run_metadata)\u001b[0m\n\u001b[0;32m   1356\u001b[0m \u001b[1;33m\u001b[0m\u001b[0m\n\u001b[0;32m   1357\u001b[0m     \u001b[1;32mif\u001b[0m \u001b[0mhandle\u001b[0m \u001b[1;32mis\u001b[0m \u001b[1;32mNone\u001b[0m\u001b[1;33m:\u001b[0m\u001b[1;33m\u001b[0m\u001b[1;33m\u001b[0m\u001b[0m\n\u001b[1;32m-> 1358\u001b[1;33m       return self._do_call(_run_fn, feeds, fetches, targets, options,\n\u001b[0m\u001b[0;32m   1359\u001b[0m                            run_metadata)\n\u001b[0;32m   1360\u001b[0m     \u001b[1;32melse\u001b[0m\u001b[1;33m:\u001b[0m\u001b[1;33m\u001b[0m\u001b[1;33m\u001b[0m\u001b[0m\n",
      "\u001b[1;32mD:\\ComputerSoftwares\\Anaconda\\lib\\site-packages\\tensorflow\\python\\client\\session.py\u001b[0m in \u001b[0;36m_do_call\u001b[1;34m(self, fn, *args)\u001b[0m\n\u001b[0;32m   1382\u001b[0m                     \u001b[1;34m'\\nsession_config.graph_options.rewrite_options.'\u001b[0m\u001b[1;33m\u001b[0m\u001b[1;33m\u001b[0m\u001b[0m\n\u001b[0;32m   1383\u001b[0m                     'disable_meta_optimizer = True')\n\u001b[1;32m-> 1384\u001b[1;33m       \u001b[1;32mraise\u001b[0m \u001b[0mtype\u001b[0m\u001b[1;33m(\u001b[0m\u001b[0me\u001b[0m\u001b[1;33m)\u001b[0m\u001b[1;33m(\u001b[0m\u001b[0mnode_def\u001b[0m\u001b[1;33m,\u001b[0m \u001b[0mop\u001b[0m\u001b[1;33m,\u001b[0m \u001b[0mmessage\u001b[0m\u001b[1;33m)\u001b[0m\u001b[1;33m\u001b[0m\u001b[1;33m\u001b[0m\u001b[0m\n\u001b[0m\u001b[0;32m   1385\u001b[0m \u001b[1;33m\u001b[0m\u001b[0m\n\u001b[0;32m   1386\u001b[0m   \u001b[1;32mdef\u001b[0m \u001b[0m_extend_graph\u001b[0m\u001b[1;33m(\u001b[0m\u001b[0mself\u001b[0m\u001b[1;33m)\u001b[0m\u001b[1;33m:\u001b[0m\u001b[1;33m\u001b[0m\u001b[1;33m\u001b[0m\u001b[0m\n",
      "\u001b[1;31mInvalidArgumentError\u001b[0m: Expected dimension in the range [0, 0), but got 0\n\t [[node ArgMax_2 (defined at <ipython-input-17-e799b7bdae40>:6) ]]\n\nOriginal stack trace for 'ArgMax_2':\n  File \"D:\\ComputerSoftwares\\Anaconda\\lib\\runpy.py\", line 194, in _run_module_as_main\n    return _run_code(code, main_globals, None,\n  File \"D:\\ComputerSoftwares\\Anaconda\\lib\\runpy.py\", line 87, in _run_code\n    exec(code, run_globals)\n  File \"D:\\ComputerSoftwares\\Anaconda\\lib\\site-packages\\ipykernel_launcher.py\", line 16, in <module>\n    app.launch_new_instance()\n  File \"D:\\ComputerSoftwares\\Anaconda\\lib\\site-packages\\traitlets\\config\\application.py\", line 664, in launch_instance\n    app.start()\n  File \"D:\\ComputerSoftwares\\Anaconda\\lib\\site-packages\\ipykernel\\kernelapp.py\", line 612, in start\n    self.io_loop.start()\n  File \"D:\\ComputerSoftwares\\Anaconda\\lib\\site-packages\\tornado\\platform\\asyncio.py\", line 149, in start\n    self.asyncio_loop.run_forever()\n  File \"D:\\ComputerSoftwares\\Anaconda\\lib\\asyncio\\base_events.py\", line 570, in run_forever\n    self._run_once()\n  File \"D:\\ComputerSoftwares\\Anaconda\\lib\\asyncio\\base_events.py\", line 1859, in _run_once\n    handle._run()\n  File \"D:\\ComputerSoftwares\\Anaconda\\lib\\asyncio\\events.py\", line 81, in _run\n    self._context.run(self._callback, *self._args)\n  File \"D:\\ComputerSoftwares\\Anaconda\\lib\\site-packages\\tornado\\ioloop.py\", line 690, in <lambda>\n    lambda f: self._run_callback(functools.partial(callback, future))\n  File \"D:\\ComputerSoftwares\\Anaconda\\lib\\site-packages\\tornado\\ioloop.py\", line 743, in _run_callback\n    ret = callback()\n  File \"D:\\ComputerSoftwares\\Anaconda\\lib\\site-packages\\tornado\\gen.py\", line 787, in inner\n    self.run()\n  File \"D:\\ComputerSoftwares\\Anaconda\\lib\\site-packages\\tornado\\gen.py\", line 748, in run\n    yielded = self.gen.send(value)\n  File \"D:\\ComputerSoftwares\\Anaconda\\lib\\site-packages\\ipykernel\\kernelbase.py\", line 365, in process_one\n    yield gen.maybe_future(dispatch(*args))\n  File \"D:\\ComputerSoftwares\\Anaconda\\lib\\site-packages\\tornado\\gen.py\", line 209, in wrapper\n    yielded = next(result)\n  File \"D:\\ComputerSoftwares\\Anaconda\\lib\\site-packages\\ipykernel\\kernelbase.py\", line 268, in dispatch_shell\n    yield gen.maybe_future(handler(stream, idents, msg))\n  File \"D:\\ComputerSoftwares\\Anaconda\\lib\\site-packages\\tornado\\gen.py\", line 209, in wrapper\n    yielded = next(result)\n  File \"D:\\ComputerSoftwares\\Anaconda\\lib\\site-packages\\ipykernel\\kernelbase.py\", line 543, in execute_request\n    self.do_execute(\n  File \"D:\\ComputerSoftwares\\Anaconda\\lib\\site-packages\\tornado\\gen.py\", line 209, in wrapper\n    yielded = next(result)\n  File \"D:\\ComputerSoftwares\\Anaconda\\lib\\site-packages\\ipykernel\\ipkernel.py\", line 306, in do_execute\n    res = shell.run_cell(code, store_history=store_history, silent=silent)\n  File \"D:\\ComputerSoftwares\\Anaconda\\lib\\site-packages\\ipykernel\\zmqshell.py\", line 536, in run_cell\n    return super(ZMQInteractiveShell, self).run_cell(*args, **kwargs)\n  File \"D:\\ComputerSoftwares\\Anaconda\\lib\\site-packages\\IPython\\core\\interactiveshell.py\", line 2866, in run_cell\n    result = self._run_cell(\n  File \"D:\\ComputerSoftwares\\Anaconda\\lib\\site-packages\\IPython\\core\\interactiveshell.py\", line 2895, in _run_cell\n    return runner(coro)\n  File \"D:\\ComputerSoftwares\\Anaconda\\lib\\site-packages\\IPython\\core\\async_helpers.py\", line 68, in _pseudo_sync_runner\n    coro.send(None)\n  File \"D:\\ComputerSoftwares\\Anaconda\\lib\\site-packages\\IPython\\core\\interactiveshell.py\", line 3071, in run_cell_async\n    has_raised = await self.run_ast_nodes(code_ast.body, cell_name,\n  File \"D:\\ComputerSoftwares\\Anaconda\\lib\\site-packages\\IPython\\core\\interactiveshell.py\", line 3263, in run_ast_nodes\n    if (await self.run_code(code, result,  async_=asy)):\n  File \"D:\\ComputerSoftwares\\Anaconda\\lib\\site-packages\\IPython\\core\\interactiveshell.py\", line 3343, in run_code\n    exec(code_obj, self.user_global_ns, self.user_ns)\n  File \"<ipython-input-17-e799b7bdae40>\", line 6, in <module>\n    O_star=tf.math.argmax(tf.while_loop(condition, body, (0, 0))[1])\n  File \"D:\\ComputerSoftwares\\Anaconda\\lib\\site-packages\\tensorflow\\python\\util\\dispatch.py\", line 201, in wrapper\n    return target(*args, **kwargs)\n  File \"D:\\ComputerSoftwares\\Anaconda\\lib\\site-packages\\tensorflow\\python\\util\\deprecation.py\", line 507, in new_func\n    return func(*args, **kwargs)\n  File \"D:\\ComputerSoftwares\\Anaconda\\lib\\site-packages\\tensorflow\\python\\ops\\math_ops.py\", line 258, in argmax\n    return argmax_v2(input, axis, output_type, name)\n  File \"D:\\ComputerSoftwares\\Anaconda\\lib\\site-packages\\tensorflow\\python\\util\\dispatch.py\", line 201, in wrapper\n    return target(*args, **kwargs)\n  File \"D:\\ComputerSoftwares\\Anaconda\\lib\\site-packages\\tensorflow\\python\\ops\\math_ops.py\", line 295, in argmax_v2\n    return gen_math_ops.arg_max(input, axis, name=name, output_type=output_type)\n  File \"D:\\ComputerSoftwares\\Anaconda\\lib\\site-packages\\tensorflow\\python\\ops\\gen_math_ops.py\", line 865, in arg_max\n    _, _, _op, _outputs = _op_def_library._apply_op_helper(\n  File \"D:\\ComputerSoftwares\\Anaconda\\lib\\site-packages\\tensorflow\\python\\framework\\op_def_library.py\", line 742, in _apply_op_helper\n    op = g._create_op_internal(op_type_name, inputs, dtypes=None,\n  File \"D:\\ComputerSoftwares\\Anaconda\\lib\\site-packages\\tensorflow\\python\\framework\\ops.py\", line 3477, in _create_op_internal\n    ret = Operation(\n  File \"D:\\ComputerSoftwares\\Anaconda\\lib\\site-packages\\tensorflow\\python\\framework\\ops.py\", line 1949, in __init__\n    self._traceback = tf_stack.extract_stack()\n"
     ]
    }
   ],
   "source": [
    "nn = 1000\n",
    "xx = tf.constant(list(range(n)))\n",
    "condition = lambda i, xx: i < n\n",
    "body = lambda i, xx: ( i + 1, i*(200-i) )\n",
    "i, out = tf.while_loop(condition, body, (0, 0))\n",
    "O_star=tf.math.argmax(tf.while_loop(condition, body, (0, 0))[1])\n",
    "\n",
    "with tf.compat.v1.Session() as sess:\n",
    "    print(sess.run(tf.while_loop(condition, body, (0, 0))))  # prints [0] ... [9999]\n",
    "\n",
    "    print(sess.run(out))\n",
    "    print(sess.run(O_star))\n",
    "\n",
    "    "
   ]
  },
  {
   "cell_type": "code",
   "execution_count": 12,
   "metadata": {
    "ExecuteTime": {
     "end_time": "2020-10-28T11:59:50.874539Z",
     "start_time": "2020-10-28T11:59:49.600891Z"
    }
   },
   "outputs": [
    {
     "ename": "NameError",
     "evalue": "name 't' is not defined",
     "output_type": "error",
     "traceback": [
      "\u001b[1;31m---------------------------------------------------------------------------\u001b[0m",
      "\u001b[1;31mNameError\u001b[0m                                 Traceback (most recent call last)",
      "\u001b[1;32m<ipython-input-12-60bb2b8e6ad7>\u001b[0m in \u001b[0;36m<module>\u001b[1;34m\u001b[0m\n\u001b[1;32m----> 1\u001b[1;33m \u001b[1;32mclass\u001b[0m \u001b[0mLambda\u001b[0m\u001b[1;33m(\u001b[0m\u001b[0mt\u001b[0m\u001b[1;33m.\u001b[0m\u001b[0mnn\u001b[0m\u001b[1;33m.\u001b[0m\u001b[0mModule\u001b[0m\u001b[1;33m)\u001b[0m\u001b[1;33m:\u001b[0m\u001b[1;33m\u001b[0m\u001b[1;33m\u001b[0m\u001b[0m\n\u001b[0m\u001b[0;32m      2\u001b[0m     \u001b[1;32mdef\u001b[0m \u001b[0m__init__\u001b[0m\u001b[1;33m(\u001b[0m\u001b[0mself\u001b[0m\u001b[1;33m,\u001b[0m \u001b[0mnum_input\u001b[0m\u001b[1;33m,\u001b[0m \u001b[0mnum_hidden\u001b[0m\u001b[1;33m,\u001b[0m \u001b[0mnum_output\u001b[0m\u001b[1;33m)\u001b[0m\u001b[1;33m:\u001b[0m\u001b[1;33m\u001b[0m\u001b[1;33m\u001b[0m\u001b[0m\n\u001b[0;32m      3\u001b[0m \u001b[1;33m\u001b[0m\u001b[0m\n\u001b[0;32m      4\u001b[0m         \u001b[0msuper\u001b[0m\u001b[1;33m(\u001b[0m\u001b[0mLambda\u001b[0m\u001b[1;33m,\u001b[0m \u001b[0mself\u001b[0m\u001b[1;33m)\u001b[0m\u001b[1;33m.\u001b[0m\u001b[0m__init__\u001b[0m\u001b[1;33m(\u001b[0m\u001b[1;33m)\u001b[0m\u001b[1;33m\u001b[0m\u001b[1;33m\u001b[0m\u001b[0m\n\u001b[0;32m      5\u001b[0m         \u001b[0mself\u001b[0m\u001b[1;33m.\u001b[0m\u001b[0mu_off\u001b[0m \u001b[1;33m=\u001b[0m \u001b[0mVar\u001b[0m\u001b[1;33m(\u001b[0m\u001b[0mt\u001b[0m\u001b[1;33m.\u001b[0m\u001b[0mTensor\u001b[0m\u001b[1;33m(\u001b[0m\u001b[1;33m[\u001b[0m\u001b[1;36m1.0\u001b[0m\u001b[1;33m]\u001b[0m\u001b[1;33m)\u001b[0m\u001b[1;33m,\u001b[0m \u001b[0mrequires_grad\u001b[0m\u001b[1;33m=\u001b[0m\u001b[1;32mTrue\u001b[0m\u001b[1;33m)\u001b[0m\u001b[1;33m\u001b[0m\u001b[1;33m\u001b[0m\u001b[0m\n",
      "\u001b[1;31mNameError\u001b[0m: name 't' is not defined"
     ]
    }
   ],
   "source": [
    "class Lambda(t.nn.Module):\n",
    "    def __init__(self, num_input, num_hidden, num_output):\n",
    "\n",
    "        super(Lambda, self).__init__()\n",
    "        self.u_off = Var(t.Tensor([1.0]), requires_grad=True)\n",
    "        self.u_off = t.nn.Parameter(self.u_off).cuda()\n",
    "        self.u_def = Var(t.Tensor([3.0]), requires_grad=True)\n",
    "        self.u_def = t.nn.Parameter(self.u_def).cuda()\n",
    "\n",
    "        self.hidden = t.nn.Linear(num_input, num_hidden)\n",
    "        self.hidden_plus = t.nn.Linear(num_hidden, num_hidden)\n",
    "        self.hidden_deep = t.nn.Linear(num_hidden, num_hidden)\n",
    "        self.output = t.nn.Linear(num_hidden, num_output)\n",
    "\n",
    "        self.hidden = self.hidden.cuda()\n",
    "        self.hidden_plus = self.hidden_plus.cuda()\n",
    "        self.hidden_deep = self.hidden_deep.cuda()\n",
    "        self.output = self.output.cuda()\n",
    "\n",
    "    def forward(self, x, type_off, type_def):\n",
    "\n",
    "        h = t.sigmoid(self.hidden(x))\n",
    "        h = t.relu_(self.hidden_plus(h))\n",
    "        h = t.sigmoid(self.hidden_deep(h))\n",
    "        o = self.output(h)\n",
    "\n",
    "        val_off, val_def = valuation(type_off, type_def, x)\n",
    "        val_off *= self.u_off\n",
    "        val_def *= self.u_def\n",
    "\n",
    "        val_off += o\n",
    "        val_def += o\n",
    "\n",
    "        max_off, max_t_off = val_off.max(0)\n",
    "        max_def, max_t_def = val_def.max(0)\n",
    "\n",
    "        val_sum = val_off + val_def\n",
    "        max_val, t_end = val_sum.max(0)\n",
    "        end_val_off = val_off[int(t_end)]\n",
    "        end_val_def = val_def[int(t_end)]\n",
    "\n",
    "        pay_off = min((max_def - end_val_def) / self.u_off, type_off)\n",
    "        pay_def = min((max_off - end_val_off) / self.u_def, type_def)\n",
    "        payment = pay_off + pay_def\n",
    "\n",
    "        return payment, o, x[int(t_end)]\n",
    "\n",
    "\n"
   ]
  },
  {
   "cell_type": "code",
   "execution_count": null,
   "metadata": {
    "ExecuteTime": {
     "end_time": "2020-10-28T11:59:50.875502Z",
     "start_time": "2020-10-28T11:59:40.454Z"
    }
   },
   "outputs": [],
   "source": [
    "random.seed(2000)\n",
    "t.manual_seed(256)\n",
    "time_frame = t.linspace(0, 1, 1000)\n",
    "time_frame = t.unsqueeze(time_frame, dim=1)\n",
    "time_frame = Var(time_frame)\n",
    "time_frame = time_frame.cuda()\n",
    "lamb = Lambda(1, 100, 1)\n",
    "\n",
    "print(time_frame)"
   ]
  },
  {
   "cell_type": "code",
   "execution_count": null,
   "metadata": {
    "ExecuteTime": {
     "end_time": "2020-10-28T11:59:50.875502Z",
     "start_time": "2020-10-28T11:59:40.455Z"
    }
   },
   "outputs": [],
   "source": [
    "optimizer = opt.RMSprop(lamb.parameters(), lr=0.0001, alpha=0.9)\n",
    "optimizer = opt.SGD(lamb.parameters(), lr=0.01)\n",
    "# optimizer = opt.Adam(lamb.parameters(), lr=0.0001, betas=(0.9, 0.99))\n",
    "\n",
    "\n",
    "batch_size = 64\n",
    "batch_length = int(math.sqrt(batch_size))\n",
    "t_off = np.linspace(0, 400, batch_length)\n",
    "t_def = np.linspace(0, 15, batch_length)\n",
    "index_train = []\n",
    "for i in range(batch_length):\n",
    "    for j in range(batch_length):\n",
    "        index_train.append([t_off[i], t_def[j]])\n",
    "\n",
    "echo = 10000"
   ]
  },
  {
   "cell_type": "code",
   "execution_count": null,
   "metadata": {
    "ExecuteTime": {
     "end_time": "2020-10-28T11:59:50.876499Z",
     "start_time": "2020-10-28T11:59:40.456Z"
    }
   },
   "outputs": [],
   "source": [
    "print(index_train)"
   ]
  },
  {
   "cell_type": "code",
   "execution_count": null,
   "metadata": {
    "ExecuteTime": {
     "end_time": "2020-10-28T11:59:50.877497Z",
     "start_time": "2020-10-28T11:59:40.457Z"
    }
   },
   "outputs": [],
   "source": [
    "print(index_train)"
   ]
  },
  {
   "cell_type": "code",
   "execution_count": null,
   "metadata": {
    "ExecuteTime": {
     "end_time": "2020-10-28T11:59:50.877497Z",
     "start_time": "2020-10-28T11:59:40.458Z"
    }
   },
   "outputs": [],
   "source": [
    "\n",
    "\n",
    "\n",
    "for i in range(echo):\n",
    "\n",
    "    # offender_types = []\n",
    "    # defender_types = []\n",
    "    loss_sum = 0\n",
    "    \"\"\"\n",
    "    for j in range(batch_size):\n",
    "        offender_types.append(random.randint(0, 400))\n",
    "        defender_types.append(random.randint(0, 15))\n",
    "    \"\"\"\n",
    "    for j in range(batch_size):\n",
    "        p, curve, te = lamb(time_frame, index_train[j][0], index_train[j][1])\n",
    "        loss_sum += p\n",
    "\n",
    "    loss = loss_function(loss_sum / batch_size)\n",
    "    optimizer.zero_grad()\n",
    "    loss.backward()\n",
    "    optimizer.step()\n",
    "\n",
    "    if i % 5 == 0:\n",
    "        # offender_types = sum(offender_types) / batch_size\n",
    "        # defender_types = sum(defender_types) / batch_size\n",
    "        loss_sum = loss_sum[0].data / batch_size\n",
    "        # print(offender_types, defender_types, loss_sum)\n",
    "        print(\"%.5f\" % loss_sum.item())\n",
    "\n",
    "        plt.cla()\n",
    "        plt.axvline(te.cpu().data)\n",
    "        plt.plot(time_frame.cpu().data.numpy(), curve.cpu().data.numpy())\n",
    "        plt.text(\n",
    "            0.5,\n",
    "            0,\n",
    "            \"Loss=%.4f\" % (loss.cpu().data.numpy()),\n",
    "            fontdict={\"size\": 20, \"color\": \"red\"},\n",
    "        )\n",
    "        plt.pause(0.03)"
   ]
  },
  {
   "cell_type": "code",
   "execution_count": null,
   "metadata": {},
   "outputs": [],
   "source": []
  }
 ],
 "metadata": {
  "kernelspec": {
   "display_name": "Python 3",
   "language": "python",
   "name": "python3"
  },
  "language_info": {
   "codemirror_mode": {
    "name": "ipython",
    "version": 3
   },
   "file_extension": ".py",
   "mimetype": "text/x-python",
   "name": "python",
   "nbconvert_exporter": "python",
   "pygments_lexer": "ipython3",
   "version": "3.8.3"
  },
  "toc": {
   "base_numbering": 1,
   "nav_menu": {},
   "number_sections": true,
   "sideBar": true,
   "skip_h1_title": false,
   "title_cell": "Table of Contents",
   "title_sidebar": "Contents",
   "toc_cell": false,
   "toc_position": {},
   "toc_section_display": true,
   "toc_window_display": false
  }
 },
 "nbformat": 4,
 "nbformat_minor": 4
}
