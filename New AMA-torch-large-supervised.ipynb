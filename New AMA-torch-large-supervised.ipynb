{
 "cells": [
  {
   "cell_type": "code",
   "execution_count": 1,
   "metadata": {
    "ExecuteTime": {
     "end_time": "2020-11-09T02:27:17.939471Z",
     "start_time": "2020-11-09T02:27:16.777709Z"
    }
   },
   "outputs": [
    {
     "name": "stderr",
     "output_type": "stream",
     "text": [
      "D:\\ComputerSoftwares\\Anaconda\\lib\\site-packages\\sklearn\\utils\\deprecation.py:143: FutureWarning: The sklearn.datasets.samples_generator module is  deprecated in version 0.22 and will be removed in version 0.24. The corresponding classes / functions should instead be imported from sklearn.datasets. Anything that cannot be imported from sklearn.datasets is now part of the private API.\n",
      "  warnings.warn(message, FutureWarning)\n"
     ]
    }
   ],
   "source": [
    "import math\n",
    "import random\n",
    "import torch\n",
    "import numpy as np\n",
    "import torch.nn.functional\n",
    "import matplotlib.pyplot as plt\n",
    "import torch.optim as opt\n",
    "from torch.autograd import Variable\n",
    "from sklearn.model_selection import train_test_split\n",
    "\n",
    "import scipy.stats as st\n",
    "from sklearn.datasets.samples_generator import make_blobs\n",
    "from matplotlib.colors import LogNorm \n",
    "import matplotlib.cm as cm\n",
    "\n",
    "from scipy.interpolate import griddata\n",
    "\n"
   ]
  },
  {
   "cell_type": "code",
   "execution_count": 2,
   "metadata": {
    "ExecuteTime": {
     "end_time": "2020-11-09T02:27:18.015246Z",
     "start_time": "2020-11-09T02:27:17.940436Z"
    }
   },
   "outputs": [
    {
     "name": "stdout",
     "output_type": "stream",
     "text": [
      "cuda:0\n"
     ]
    }
   ],
   "source": [
    "if torch.cuda.is_available():  \n",
    "    dev = \"cuda:0\" \n",
    "else:  \n",
    "    dev = \"cpu\"  \n",
    "\n",
    "print(dev)"
   ]
  },
  {
   "cell_type": "code",
   "execution_count": 3,
   "metadata": {
    "ExecuteTime": {
     "end_time": "2020-11-09T02:27:18.028651Z",
     "start_time": "2020-11-09T02:27:18.017373Z"
    }
   },
   "outputs": [],
   "source": [
    "def valuation(type_offender, type_defender, t):\n",
    "    v_1 = type_offender * (t - t ** 2 / 2)\n",
    "    v_2 = type_defender * (1 - t)\n",
    "    \n",
    "    return v_1, v_2\n",
    "\n",
    "\n",
    "def loss_function(value):\n",
    "    return -value\n"
   ]
  },
  {
   "cell_type": "code",
   "execution_count": 4,
   "metadata": {
    "ExecuteTime": {
     "end_time": "2020-11-09T02:27:18.047597Z",
     "start_time": "2020-11-09T02:27:18.030643Z"
    }
   },
   "outputs": [],
   "source": [
    "class Net(torch.nn.Module):\n",
    "    def __init__(self):\n",
    "\n",
    "        super(Net, self).__init__()\n",
    "        self.u_offender = Variable(torch.Tensor([1.0]), requires_grad=False).cuda() \n",
    "        self.u_defender = torch.nn.Parameter(torch.Tensor([1.0]), requires_grad=False).cuda() \n",
    "        num_input=1\n",
    "        num_hidden=100\n",
    "        num_output=1\n",
    "        \n",
    "        self.hidden_0 = torch.nn.Linear(num_input, num_hidden)\n",
    "        self.hidden_1 = torch.nn.Linear(num_hidden, num_hidden)\n",
    "        self.hidden_2 = torch.nn.Linear(num_hidden, num_hidden)\n",
    "        self.hidden_3 = torch.nn.Linear(num_hidden, num_hidden)\n",
    "        self.output   = torch.nn.Linear(num_hidden, num_output)\n",
    "        \n",
    "        \n",
    "\n",
    "    def forward(self, x, type_offender, type_defender): # type_offender val_offender   ;  type_defender val_defender\n",
    "        \n",
    "        h1 = torch.sigmoid(self.hidden_0(x))\n",
    "        h2 = torch.relu_(self.hidden_1(h1))\n",
    "        h3 = torch.relu_(self.hidden_2(h2))\n",
    "        h4 = torch.sigmoid(self.hidden_3(h3))\n",
    "        ao = self.output(h4)\n",
    "        \n",
    "        \n",
    "        value_offender, value_defender = valuation(type_offender, type_defender, x)\n",
    "        temp_val_offender = (value_offender * (self.u_offender).cuda()).cuda() \n",
    "        temp_val_defender = (value_defender * (self.u_defender).cuda()).cuda()\n",
    "        \n",
    "        \n",
    "        val_offender = temp_val_offender + ao\n",
    "        val_defender = temp_val_defender + ao\n",
    "        #print(o.grad_fn,temp_val_defender.grad_fn)\n",
    "        #print(val_offender)\n",
    "        \n",
    "        max_offender, max_t_offender = val_offender.max(0)\n",
    "        max_defender, max_t_defender = val_defender.max(0)\n",
    "        \n",
    "        \n",
    "        \n",
    "        #print(\"max_offender: \" ,max_offender,max_offender.grad)\n",
    "        \n",
    "        val_sum = val_offender + val_defender - ao\n",
    "        max_val, t_end = val_sum.max(0) \n",
    "\n",
    "        end_val_offender = val_offender[int(t_end)].cuda()\n",
    "        end_val_defender = val_defender[int(t_end)].cuda()\n",
    "        pay_offender = (max_defender - end_val_defender) / (self.u_offender).cuda()\n",
    "        pay_defender = (max_offender - end_val_offender) / (self.u_defender).cuda()\n",
    "        \n",
    "#         if((max_defender - end_val_defender) / self.u_offender > value_offender[int(t_end)]):\n",
    "#             print(\"error: payment offender\",(max_defender - end_val_defender) / self.u_offender,value_offender[int(t_end)]);\n",
    "#         if((max_offender - end_val_offender) / self.u_defender > value_defender[int(t_end)]):\n",
    "#             print(\"error: payment defender\",(max_offender - end_val_offender) / self.u_defender,value_defender[int(t_end)]);\n",
    "        \n",
    "        payment = pay_offender + pay_defender\n",
    "\n",
    "        return payment, ao, x[int(t_end)], self.u_offender ,self.u_defender\n",
    "\n",
    "\n"
   ]
  },
  {
   "cell_type": "code",
   "execution_count": 5,
   "metadata": {
    "ExecuteTime": {
     "end_time": "2020-11-09T02:27:18.056573Z",
     "start_time": "2020-11-09T02:27:18.049592Z"
    }
   },
   "outputs": [],
   "source": [
    "def weight_init(m):\n",
    "    if isinstance(m, torch.nn.Conv2d):\n",
    "        torch.nn.init.xavier_normal_(m.weight, gain=nn.init.calculate_gain('relu'))\n",
    "        torch.nn.init.zeros_(m.bias)\n",
    "    elif isinstance(m, torch.nn.Linear):\n",
    "        torch.nn.init.xavier_normal_(m.weight)\n",
    "        torch.nn.init.zeros_(m.bias)\n",
    "        "
   ]
  },
  {
   "cell_type": "code",
   "execution_count": 6,
   "metadata": {
    "ExecuteTime": {
     "end_time": "2020-11-09T02:27:19.333737Z",
     "start_time": "2020-11-09T02:27:18.058569Z"
    }
   },
   "outputs": [
    {
     "name": "stdout",
     "output_type": "stream",
     "text": [
      "tensor([[0.0000],\n",
      "        [0.1000],\n",
      "        [0.2000],\n",
      "        [0.3000],\n",
      "        [0.4000],\n",
      "        [0.5000],\n",
      "        [0.6000],\n",
      "        [0.7000],\n",
      "        [0.8000],\n",
      "        [0.9000],\n",
      "        [1.0000]], device='cuda:0')\n"
     ]
    }
   ],
   "source": [
    "random.seed(2000)\n",
    "torch.manual_seed(256)\n",
    "time_frame = np.linspace(0, 1, 11)\n",
    "time_frame = np.expand_dims(time_frame, axis=1)\n",
    "\n",
    "time_frame = torch.from_numpy(time_frame).cuda()\n",
    "time_frame = time_frame.type(torch.float32)\n",
    "time_frame.requires_gard = False\n",
    "net  = Net()\n",
    "net.apply(weight_init)\n",
    "print(time_frame)"
   ]
  },
  {
   "cell_type": "code",
   "execution_count": 7,
   "metadata": {
    "ExecuteTime": {
     "end_time": "2020-11-09T02:27:21.887757Z",
     "start_time": "2020-11-09T02:27:19.334735Z"
    }
   },
   "outputs": [
    {
     "name": "stdout",
     "output_type": "stream",
     "text": [
      "[391.1958048    8.07743806]\n",
      "[[271.69199845  12.05608554]\n",
      " [ 85.35414143   6.78185943]\n",
      " [ 92.12115161   8.22734879]\n",
      " ...\n",
      " [303.15368136   3.59778968]\n",
      " [191.24357187   7.38312562]\n",
      " [163.77016144   3.63757603]]\n",
      "[271.69199845  85.35414143  92.12115161 ... 303.15368136 191.24357187\n",
      " 163.77016144]\n"
     ]
    },
    {
     "data": {
      "image/png": "[encoded data removed]",
      "text/plain": [
       "<Figure size 432x288 with 1 Axes>"
      ]
     },
     "metadata": {
      "needs_background": "light"
     },
     "output_type": "display_data"
    },
    {
     "data": {
      "image/png": "[encoded data removed]",
      "text/plain": [
       "<Figure size 432x288 with 1 Axes>"
      ]
     },
     "metadata": {
      "needs_background": "light"
     },
     "output_type": "display_data"
    },
    {
     "name": "stdout",
     "output_type": "stream",
     "text": [
      "180000\n",
      "[[1.01623022e+02 1.45134801e+01]\n",
      " [3.58692764e+02 2.38606712e+00]\n",
      " [2.95406096e+02 1.38418421e+01]\n",
      " [2.57091259e+02 6.59259653e+00]\n",
      " [6.22504093e+01 1.16473372e+01]\n",
      " [1.82995642e+02 7.06279225e+00]\n",
      " [1.72626895e+02 3.55264040e+00]\n",
      " [3.41189650e+02 1.17431676e+01]\n",
      " [2.48701560e+02 8.16909651e+00]\n",
      " [2.88651362e+01 3.47370677e-01]\n",
      " [2.97685552e+02 1.04270591e+01]\n",
      " [1.06923335e+02 8.71202509e+00]\n",
      " [3.09082895e+01 6.52370323e+00]\n",
      " [2.39770819e+02 1.13704165e+01]\n",
      " [2.69825039e+01 7.51637857e+00]\n",
      " [8.04731585e+01 9.13683528e+00]\n",
      " [3.14530904e+02 3.10470423e+00]\n",
      " [3.64684973e+02 1.14127070e+01]\n",
      " [2.75471190e+02 1.03352282e+01]\n",
      " [1.87554542e+02 4.51921096e+00]\n",
      " [2.13081019e+02 6.58091709e+00]\n",
      " [3.45864064e+02 5.45856074e+00]\n",
      " [2.61937827e+02 8.83745731e+00]\n",
      " [3.79090481e+02 1.47907281e+01]\n",
      " [3.46618991e+02 1.28660272e+01]\n",
      " [1.36808661e+01 9.10215798e+00]\n",
      " [2.28880074e+02 6.29833958e+00]\n",
      " [2.79569145e+02 1.16590495e+01]\n",
      " [3.21707352e+02 1.18319849e+01]\n",
      " [3.10470455e+02 3.41400851e+00]\n",
      " [1.87193855e+02 8.02041804e+00]\n",
      " [3.23542547e+02 5.21871744e+00]\n",
      " [2.48134222e+02 1.07944523e+00]\n",
      " [2.20998110e+02 8.30181328e+00]\n",
      " [3.16604330e+02 2.90549272e+00]\n",
      " [1.58908349e+02 3.20022033e+00]\n",
      " [9.25404704e+01 1.03704982e+01]\n",
      " [3.53517401e+02 2.94265404e+00]\n",
      " [1.73791099e+02 1.05246838e+01]\n",
      " [3.95673025e+02 6.39827196e+00]\n",
      " [7.42814897e+01 7.44380476e-01]\n",
      " [6.23549008e+01 4.58116477e+00]\n",
      " [1.89895414e+02 7.73418017e+00]\n",
      " [1.16784107e+00 9.10343092e+00]\n",
      " [1.68924281e+02 6.73392275e+00]\n",
      " [2.62637877e+02 6.37088845e+00]\n",
      " [8.86592791e+01 5.48375187e+00]\n",
      " [2.06113201e+02 3.94529845e+00]\n",
      " [6.93537761e+01 7.93561380e-01]\n",
      " [1.39642407e+02 6.47952568e+00]\n",
      " [1.65488404e+01 5.49726929e+00]\n",
      " [2.01009580e+02 4.95210505e+00]\n",
      " [8.54370550e+01 1.48866492e+01]\n",
      " [2.74273238e+02 5.05306953e-01]\n",
      " [1.44977784e+02 9.11271557e+00]\n",
      " [2.87398800e+02 3.77581879e+00]\n",
      " [1.23739245e+02 1.14262134e+01]\n",
      " [3.03466514e+02 3.67565255e+00]\n",
      " [3.18143449e+02 1.06677294e+01]\n",
      " [3.32828888e+02 6.60762408e+00]\n",
      " [2.39325285e+02 4.93208911e+00]\n",
      " [1.10260175e+02 9.29020148e+00]\n",
      " [2.15852247e+02 8.78444029e+00]\n",
      " [2.87001863e+02 8.76469198e+00]\n",
      " [1.39714176e+01 1.46674404e+01]\n",
      " [1.34406635e+02 1.46683278e+01]\n",
      " [2.53505997e+02 9.96854183e+00]\n",
      " [4.22102347e+01 6.42874656e+00]\n",
      " [3.03259147e+02 1.32147966e+01]\n",
      " [1.87175821e+02 4.03515056e-01]\n",
      " [3.00494363e+02 1.07677863e+01]\n",
      " [2.97054002e+02 1.46904583e+01]\n",
      " [2.82773220e+02 1.46785223e+01]\n",
      " [3.64693148e+02 5.54385582e+00]\n",
      " [3.50310732e+02 1.25913167e+01]\n",
      " [3.65201981e+02 6.54528470e+00]\n",
      " [3.82272363e+02 1.42301028e+01]\n",
      " [2.03164419e+01 1.06132664e+01]\n",
      " [3.31204753e+02 1.00721707e+01]\n",
      " [1.44206385e+02 9.47979150e-01]\n",
      " [2.63480715e+02 1.64607267e-01]\n",
      " [2.33976556e+02 7.91972414e-02]\n",
      " [2.55465356e+02 1.01666617e+01]\n",
      " [6.52943170e+01 3.76418209e+00]\n",
      " [1.25933549e+02 8.03928880e+00]\n",
      " [3.28846072e+02 1.54884864e+00]\n",
      " [3.19251501e+02 4.49918427e+00]\n",
      " [2.59218617e+02 1.32012709e+01]\n",
      " [1.77537341e+01 1.21951564e+01]\n",
      " [1.22091229e+02 5.42517438e+00]\n",
      " [3.55185341e+00 1.28445202e+01]\n",
      " [2.49585744e+02 8.02815262e+00]\n",
      " [1.23178595e+02 5.84480999e-01]\n",
      " [3.38072171e+02 5.62762717e-01]\n",
      " [2.09358666e+02 8.87927490e+00]\n",
      " [1.67779467e+02 1.26163262e+00]\n",
      " [7.35399543e+01 1.45430103e+01]\n",
      " [2.55970337e+02 1.13126888e+01]\n",
      " [3.66328882e+02 5.08291696e+00]\n",
      " [1.08909395e+02 4.20659848e-01]]\n",
      "20000\n"
     ]
    }
   ],
   "source": [
    "agent_number_n=2\n",
    "seed = 7\n",
    "np.random.seed(seed)\n",
    "exec(open('distribution1item_uniform.py').read())\n",
    "\n",
    "X_train,  X_test = train_test_split(value_list, test_size=0.1, random_state=seed)\n",
    "\n",
    "X_train=np.array(X_train)\n",
    "X_test=np.array(X_test)\n",
    "dataset_size = len(X_train)\n",
    "print(dataset_size)\n",
    "print(X_train[:100])\n",
    "print(len(X_test))\n",
    "\n"
   ]
  },
  {
   "cell_type": "code",
   "execution_count": 8,
   "metadata": {
    "ExecuteTime": {
     "end_time": "2020-11-09T02:27:21.893959Z",
     "start_time": "2020-11-09T02:27:21.889713Z"
    }
   },
   "outputs": [],
   "source": [
    "index_train=[]\n",
    "batch_length = int(10)\n",
    "t_off = np.linspace(0, 400, batch_length)\n",
    "t_def = np.linspace(0, 15, batch_length)\n",
    "index_train = []\n",
    "for i in range(batch_length):\n",
    "    for j in range(batch_length):\n",
    "        index_train.append([t_off[i], t_def[j]])"
   ]
  },
  {
   "cell_type": "code",
   "execution_count": 9,
   "metadata": {
    "ExecuteTime": {
     "end_time": "2020-11-09T02:27:21.909378Z",
     "start_time": "2020-11-09T02:27:21.894698Z"
    }
   },
   "outputs": [],
   "source": [
    "#net = torch.load(\"AMA_net_large_sigmoid_3\")\n",
    "\n",
    "#net.u_defender = torch.nn.Parameter(torch.Tensor([1.005]), requires_grad=True)"
   ]
  },
  {
   "cell_type": "code",
   "execution_count": 10,
   "metadata": {
    "ExecuteTime": {
     "end_time": "2020-11-09T02:27:21.916359Z",
     "start_time": "2020-11-09T02:27:21.910376Z"
    }
   },
   "outputs": [
    {
     "data": {
      "text/plain": [
       "Net(\n",
       "  (hidden_0): Linear(in_features=1, out_features=100, bias=True)\n",
       "  (hidden_1): Linear(in_features=100, out_features=100, bias=True)\n",
       "  (hidden_2): Linear(in_features=100, out_features=100, bias=True)\n",
       "  (hidden_3): Linear(in_features=100, out_features=100, bias=True)\n",
       "  (output): Linear(in_features=100, out_features=1, bias=True)\n",
       ")"
      ]
     },
     "execution_count": 10,
     "metadata": {},
     "output_type": "execute_result"
    }
   ],
   "source": [
    "net.to(dev)"
   ]
  },
  {
   "cell_type": "code",
   "execution_count": 11,
   "metadata": {
    "ExecuteTime": {
     "end_time": "2020-11-09T02:27:21.921346Z",
     "start_time": "2020-11-09T02:27:21.917375Z"
    }
   },
   "outputs": [],
   "source": [
    "\n",
    "#optimizer = opt.RMSprop(net.parameters(), lr=0.00001)\n",
    "#optimizer = opt.SGD(net.parameters(), lr=0.002)\n",
    "optimizer = opt.Adam(net.parameters(), lr=0.0005)\n",
    "\n",
    "batch_size = 1\n",
    "echo = 10000"
   ]
  },
  {
   "cell_type": "code",
   "execution_count": 12,
   "metadata": {
    "ExecuteTime": {
     "end_time": "2020-11-09T02:27:47.927784Z",
     "start_time": "2020-11-09T02:27:21.922345Z"
    },
    "scrolled": true
   },
   "outputs": [
    {
     "name": "stdout",
     "output_type": "stream",
     "text": [
      "sum_average: 12110.80423  ， 4.02488 ， 1.00000\n",
      "sum_average: 9518.76604  ， 12.28780 ， 1.00000\n",
      "sum_average: 8922.25154  ， 9.07826 ， 1.00000\n",
      "sum_average: 8588.14179  ， 7.67465 ， 1.00000\n",
      "sum_average: 8419.78360  ， 11.21962 ， 1.00000\n",
      "sum_average: 8343.34261  ， 11.30837 ， 1.00000\n",
      "sum_average: 8312.61512  ， 14.15204 ， 1.00000\n",
      "sum_average: 8301.80006  ， 10.02113 ， 1.00000\n",
      "sum_average: 8298.45547  ， 5.56474 ， 1.00000\n",
      "sum_average: 8297.45376  ， 5.82604 ， 1.00000\n",
      "sum_average: 8296.13628  ， 12.08396 ， 1.00000\n",
      "sum_average: 8171.60312  ， 1.94066 ， 1.00000\n",
      "sum_average: 3540.87453  ， 33.66202 ， 1.00000\n",
      "sum_average: 2476.82276  ， 48.48551 ， 1.00000\n",
      "sum_average: 1847.99637  ， 53.87489 ， 1.00000\n",
      "sum_average: 1417.74712  ， 18.53809 ， 1.00000\n",
      "sum_average: 1126.86691  ， 63.28992 ， 1.00000\n",
      "sum_average: 916.37008  ， 25.12669 ， 1.00000\n",
      "sum_average: 758.60201  ， 2.00171 ， 1.00000\n",
      "sum_average: 635.92779  ， 0.00000 ， 1.00000\n",
      "sum_average: 535.83133  ， 32.65967 ， 1.00000\n",
      "sum_average: 452.72253  ， 0.00000 ， 1.00000\n",
      "sum_average: 383.70218  ， 82.63483 ， 1.00000\n",
      "sum_average: 324.90156  ， 37.12526 ， 1.00000\n",
      "sum_average: 275.59267  ， 78.75750 ， 1.00000\n",
      "sum_average: 232.95020  ， 84.18805 ， 1.00000\n",
      "sum_average: 196.47088  ， 87.26231 ， 1.00000\n",
      "sum_average: 165.04995  ， 90.12607 ， 1.00000\n",
      "sum_average: 138.23234  ， 0.00000 ， 1.00000\n",
      "sum_average: 114.55081  ， 0.00000 ， 1.00000\n",
      "sum_average: 94.48006  ， 88.83397 ， 1.00000\n",
      "sum_average: 77.66825  ， 95.59478 ， 1.00000\n",
      "sum_average: 62.64615  ， 86.92413 ， 1.00000\n",
      "sum_average: 50.59827  ， 0.00000 ， 1.00000\n",
      "sum_average: 40.66207  ， 0.00000 ， 1.00000\n",
      "sum_average: 32.00157  ， 93.41052 ， 1.00000\n",
      "sum_average: 24.90517  ， 0.00000 ， 1.00000\n",
      "sum_average: 19.32358  ， 96.89047 ， 1.00000\n",
      "sum_average: 14.93698  ， 0.00000 ， 1.00000\n",
      "sum_average: 11.41578  ， 102.89130 ， 1.00000\n",
      "sum_average: 8.70845  ， 105.57661 ， 1.00000\n",
      "sum_average: 6.63228  ， 99.10370 ， 1.00000\n",
      "sum_average: 5.05813  ， 93.23603 ， 1.00000\n",
      "sum_average: 3.85886  ， 94.55925 ， 1.00000\n",
      "sum_average: 2.95686  ， 0.00000 ， 1.00000\n",
      "sum_average: 2.27736  ， 104.85056 ， 1.00000\n",
      "sum_average: 1.76144  ， 105.91270 ， 1.00000\n",
      "sum_average: 0.99034  ， 0.00000 ， 1.00000\n",
      "sum_average: 0.58993  ， 97.60312 ， 1.00000\n",
      "sum_average: 0.36622  ， 104.74640 ， 1.00000\n",
      "sum_average: 0.22942  ， 103.96902 ， 1.00000\n",
      "sum_average: 0.14559  ， 103.87605 ， 1.00000\n",
      "sum_average: 0.12429  ， 99.07002 ， 1.00000\n",
      "sum_average: 0.06125  ， 100.61277 ， 1.00000\n",
      "sum_average: 0.04059  ， 0.00000 ， 1.00000\n",
      "sum_average: 0.02730  ， 100.53899 ， 1.00000\n",
      "sum_average: 0.01861  ， 0.00000 ， 1.00000\n",
      "sum_average: 0.01293  ， 0.00000 ， 1.00000\n",
      "sum_average: 0.09094  ， 2.16950 ， 1.00000\n",
      "sum_average: 0.00688  ， 100.79657 ， 1.00000\n",
      "sum_average: 0.00519  ， 98.58430 ， 1.00000\n",
      "sum_average: 0.00475  ， 0.00000 ， 1.00000\n",
      "sum_average: 0.00348  ， 0.00000 ， 1.00000\n",
      "sum_average: 0.00288  ， 94.58673 ， 1.00000\n",
      "sum_average: 0.00309  ， 107.57417 ， 1.00000\n",
      "sum_average: 0.00230  ， 0.00000 ， 1.00000\n",
      "sum_average: 0.00228  ， 0.00000 ， 1.00000\n",
      "sum_average: 0.00198  ， 0.00000 ， 1.00000\n",
      "sum_average: 0.00228  ， 104.28387 ， 1.00000\n",
      "sum_average: 0.00182  ， 94.52442 ， 1.00000\n",
      "sum_average: 0.00791  ， 0.00000 ， 1.00000\n",
      "sum_average: 0.00167  ， 0.00000 ， 1.00000\n",
      "sum_average: 0.00259  ， 106.05878 ， 1.00000\n",
      "sum_average: 0.00175  ， 103.27890 ， 1.00000\n",
      "sum_average: 0.00154  ， 106.52354 ， 1.00000\n",
      "sum_average: 0.00332  ， 100.42572 ， 1.00000\n",
      "sum_average: 0.00148  ， 94.40787 ， 1.00000\n",
      "sum_average: 0.09631  ， 0.00000 ， 1.00000\n",
      "sum_average: 0.00163  ， 0.00000 ， 1.00000\n",
      "sum_average: 0.00142  ， 0.00000 ， 1.00000\n",
      "sum_average: 0.12627  ， 0.00000 ， 1.00000\n",
      "sum_average: 0.00138  ， 108.20759 ， 1.00000\n",
      "sum_average: 0.01521  ， 0.00000 ， 1.00000\n",
      "sum_average: 0.00142  ， 0.00000 ， 1.00000\n",
      "sum_average: 0.00153  ， 0.00000 ， 1.00000\n",
      "sum_average: 0.00144  ， 102.92481 ， 1.00000\n",
      "sum_average: 0.00165  ， 0.00000 ， 1.00000\n",
      "sum_average: 0.00140  ， 104.62785 ， 1.00000\n",
      "sum_average: 0.00129  ， 11.92747 ， 1.00000\n",
      "sum_average: 0.00137  ， 0.00000 ， 1.00000\n",
      "sum_average: 0.07532  ， 0.00000 ， 1.00000\n",
      "sum_average: 0.00133  ， 96.43327 ， 1.00000\n",
      "sum_average: 0.00130  ， 2.07654 ， 1.00000\n",
      "sum_average: 0.00130  ， 0.00000 ， 1.00000\n",
      "sum_average: 0.00406  ， 6.38969 ， 1.00000\n",
      "sum_average: 0.00125  ， 98.41597 ， 1.00000\n",
      "sum_average: 0.00926  ， 0.00000 ， 1.00000\n",
      "sum_average: 0.00117  ， 0.00000 ， 1.00000\n",
      "sum_average: 0.00569  ， 104.02457 ， 1.00000\n",
      "sum_average: 0.00114  ， 0.00000 ， 1.00000\n"
     ]
    }
   ],
   "source": [
    "supervised_label = [46.769999999999264,-9.999999999999997e-3,-9.999999999999913e-3,-3.6699999999999657,-16.209999999999734,-26.61000000000136,-34.87000000000163,-40.990000000000414,-44.96999999999962,-46.769999999999264,-46.769999999999264]\n",
    "supervised_label = np.array(supervised_label)\n",
    "supervised_label = np.expand_dims(supervised_label, axis=1)\n",
    "supervised_label = torch.from_numpy(supervised_label).cuda() \n",
    "for i in range(int(echo)):\n",
    "\n",
    "    # offender_types = []\n",
    "    # defender_types = []\n",
    "    loss_sum = 0\n",
    "    loss_sum1 = 0\n",
    "    denominator =0\n",
    "    \"\"\"\n",
    "    for j in range(batch_size):\n",
    "        offender_types.append(random.randint(0, 400))\n",
    "        defender_types.append(random.randint(0, 15))\n",
    "    \"\"\"\n",
    "    for j in range(batch_size):\n",
    "        index_random = random.randint(0,len(X_train)-1)\n",
    "        pay , curve_o, o_star, uu_offender, uu_defender = net(time_frame, \n",
    "                            X_train[index_random][0], X_train[index_random][1])\n",
    "        \n",
    "        loss_sum += torch.sum(torch.square(curve_o - supervised_label))\n",
    "        loss_sum1 += pay\n",
    "        denominator+=1\n",
    "        \n",
    "    \n",
    "    loss_average=float(loss_sum1 / denominator)\n",
    "    \n",
    "    \n",
    "    optimizer.zero_grad()\n",
    "    #loss = torch.square(loss_function(loss_sum / denominator) + 52)\n",
    "    loss = loss_sum / denominator\n",
    "    \n",
    "    loss.backward()\n",
    "    \n",
    "    \n",
    "\n",
    "    optimizer.step()\n",
    "    \n",
    "        \n",
    "\n",
    "    if i % 100 == 0:\n",
    "        #offender_types = sum(offender_types) / batch_size\n",
    "        #defender_types = sum(defender_types) / batch_size\n",
    "        #print(loss_sum.data)\n",
    "        #print(offender_types, defender_types, loss_sum)\n",
    "        #print(\"curve for o: \",curve)\n",
    "        print(\"sum_average: %.5f \" % float(loss_sum/denominator),'， %.5f' % float(loss_average),'， %.5f' % float(uu_defender))\n",
    "        #plt.pause(0.03)\n",
    "    "
   ]
  },
  {
   "cell_type": "code",
   "execution_count": 13,
   "metadata": {
    "ExecuteTime": {
     "end_time": "2020-11-09T02:27:48.148878Z",
     "start_time": "2020-11-09T02:27:47.928782Z"
    }
   },
   "outputs": [
    {
     "name": "stdout",
     "output_type": "stream",
     "text": [
      "loss_sum: -0.02843 0.028427180994625205\n",
      "tensor([1.], device='cuda:0')\n"
     ]
    },
    {
     "data": {
      "text/plain": [
       "[<matplotlib.lines.Line2D at 0x2028c04c790>]"
      ]
     },
     "execution_count": 13,
     "metadata": {},
     "output_type": "execute_result"
    },
    {
     "data": {
      "image/png": "[encoded data removed]",
      "text/plain": [
       "<Figure size 432x288 with 1 Axes>"
      ]
     },
     "metadata": {
      "needs_background": "light"
     },
     "output_type": "display_data"
    }
   ],
   "source": [
    "print(\"loss_sum: %.5f\" % -loss , float(loss_sum/denominator))\n",
    "\n",
    "print(o_star)\n",
    "plt.cla()\n",
    "plt.axvline(o_star.cpu().data,color ='red')\n",
    "plt.plot(time_frame.cpu().data.numpy(), curve_o.cpu().data.numpy())\n",
    "\n",
    "\n"
   ]
  },
  {
   "cell_type": "code",
   "execution_count": 14,
   "metadata": {
    "ExecuteTime": {
     "end_time": "2020-11-09T02:28:07.931592Z",
     "start_time": "2020-11-09T02:27:48.149910Z"
    }
   },
   "outputs": [
    {
     "name": "stdout",
     "output_type": "stream",
     "text": [
      "20000\n",
      "test_average: 50.56538\n"
     ]
    }
   ],
   "source": [
    "loss_sum1=0\n",
    "Z_payment=[]\n",
    "Z_o_star=[]\n",
    "for i in range(len(X_test)):\n",
    "    pay , curve_o, o_star, uu_offender, uu_defender = net(time_frame, \n",
    "                            X_test[i][0], X_test[i][1])\n",
    "    Z_payment.append(float(pay))\n",
    "    Z_o_star.append(float(o_star))\n",
    "    loss_sum1 += float(pay)\n",
    "\n",
    "print(len(X_test))\n",
    "print(\"test_average: %.5f\" % (loss_sum1/len(X_test) ))"
   ]
  },
  {
   "cell_type": "code",
   "execution_count": 15,
   "metadata": {
    "ExecuteTime": {
     "end_time": "2020-11-09T02:28:08.084811Z",
     "start_time": "2020-11-09T02:28:07.932560Z"
    }
   },
   "outputs": [],
   "source": [
    "torch.save(net, \"New AMA-torch-large-supervised\")"
   ]
  },
  {
   "cell_type": "code",
   "execution_count": 16,
   "metadata": {
    "ExecuteTime": {
     "end_time": "2020-11-09T02:28:08.092411Z",
     "start_time": "2020-11-09T02:28:08.086394Z"
    }
   },
   "outputs": [
    {
     "name": "stdout",
     "output_type": "stream",
     "text": [
      "20000\n",
      "20000\n"
     ]
    }
   ],
   "source": [
    "X_test=np.array(X_test)\n",
    "Z_payment=np.array(Z_payment)\n",
    "Z_o_star=np.array(Z_o_star)\n",
    "print(len(X_test[:,0]))\n",
    "\n",
    "print(len(Z_payment))"
   ]
  },
  {
   "cell_type": "code",
   "execution_count": 17,
   "metadata": {
    "ExecuteTime": {
     "end_time": "2020-11-09T02:28:08.440482Z",
     "start_time": "2020-11-09T02:28:08.093375Z"
    }
   },
   "outputs": [
    {
     "data": {
      "image/png": "[encoded data removed]",
      "text/plain": [
       "<Figure size 432x288 with 1 Axes>"
      ]
     },
     "metadata": {
      "needs_background": "light"
     },
     "output_type": "display_data"
    }
   ],
   "source": [
    "from mpl_toolkits import mplot3d\n",
    "\n",
    "ax = plt.axes(projection='3d')\n",
    "\n",
    "\n",
    "ax.scatter3D(X_test[:,0], X_test[:,1], Z_payment,cmap='Greens');\n",
    "\n",
    "\n",
    "#ax.plot_surface(X_test[:,0], X_test[:,1], Z_payment)\n",
    "ax.set_title('surface');\n"
   ]
  },
  {
   "cell_type": "code",
   "execution_count": 18,
   "metadata": {
    "ExecuteTime": {
     "end_time": "2020-11-09T02:28:08.907250Z",
     "start_time": "2020-11-09T02:28:08.441490Z"
    }
   },
   "outputs": [
    {
     "data": {
      "image/png": "[encoded data removed]",
      "text/plain": [
       "<Figure size 432x288 with 2 Axes>"
      ]
     },
     "metadata": {
      "needs_background": "light"
     },
     "output_type": "display_data"
    }
   ],
   "source": [
    "fig = plt.figure()\n",
    "contour = plt.tricontourf(X_test[:,1],  X_test[:,0], Z_payment\n",
    "              \n",
    "               #cmap = cm.get_cmap(name='jet')\n",
    "                         )\n",
    "fig.colorbar(contour)\n",
    "plt.title('payment')\n",
    "plt.xlabel(r\"Defender type $\\dot{\\Theta}$d\")\n",
    "plt.ylabel(r\"offender type $\\dot{\\Theta}$o\")\n",
    "\n",
    "fig.savefig('3D.png')\n",
    "plt.show()"
   ]
  },
  {
   "cell_type": "code",
   "execution_count": 19,
   "metadata": {
    "ExecuteTime": {
     "end_time": "2020-11-09T02:28:09.222082Z",
     "start_time": "2020-11-09T02:28:08.908247Z"
    }
   },
   "outputs": [
    {
     "data": {
      "image/png": "[encoded data removed]",
      "text/plain": [
       "<Figure size 432x288 with 2 Axes>"
      ]
     },
     "metadata": {
      "needs_background": "light"
     },
     "output_type": "display_data"
    }
   ],
   "source": [
    "fig = plt.figure()\n",
    "contour = plt.tricontourf(X_test[:,1],  X_test[:,0], Z_payment,\n",
    "              \n",
    "               #cmap = cm.get_cmap(name='jet')\n",
    "                         )\n",
    "fig.colorbar(contour)\n",
    "plt.title('payment')\n",
    "plt.xlabel(r\"Defender type $\\dot{\\Theta}$d\")\n",
    "plt.ylabel(r\"offender type $\\dot{\\Theta}$o\")\n",
    "\n",
    "fig.savefig('3D.png')\n",
    "plt.show()"
   ]
  },
  {
   "cell_type": "code",
   "execution_count": 20,
   "metadata": {
    "ExecuteTime": {
     "end_time": "2020-11-09T02:28:09.539155Z",
     "start_time": "2020-11-09T02:28:09.223079Z"
    }
   },
   "outputs": [
    {
     "data": {
      "image/png": "[encoded data removed]",
      "text/plain": [
       "<Figure size 432x288 with 2 Axes>"
      ]
     },
     "metadata": {
      "needs_background": "light"
     },
     "output_type": "display_data"
    }
   ],
   "source": [
    "grid_x, grid_y = np.mgrid[0:15:400j, 400:0:400j]\n",
    "points =np.reshape([X_test[:,1],X_test[:,0]],(2,-1))\n",
    "points = np.transpose(points)\n",
    "grid_z0 = griddata(points, Z_payment, (grid_x, grid_y), method='nearest')\n",
    "im =plt.imshow(grid_z0.T, extent=(0,15,0,400) , aspect='auto',interpolation='bilinear')\n",
    "plt.colorbar(im)\n",
    "plt.title('payment')\n",
    "plt.xlabel(r\"Defender type $\\dot{\\Theta}$d\")\n",
    "plt.ylabel(r\"offender type $\\dot{\\Theta}$o\")\n",
    "plt.show()"
   ]
  },
  {
   "cell_type": "code",
   "execution_count": 21,
   "metadata": {
    "ExecuteTime": {
     "end_time": "2020-11-09T02:28:09.802469Z",
     "start_time": "2020-11-09T02:28:09.540117Z"
    }
   },
   "outputs": [
    {
     "data": {
      "image/png": "[encoded data removed]",
      "text/plain": [
       "<Figure size 432x288 with 2 Axes>"
      ]
     },
     "metadata": {
      "needs_background": "light"
     },
     "output_type": "display_data"
    }
   ],
   "source": [
    "fig = plt.figure()\n",
    "contour = plt.tricontourf(X_test[:,1],  X_test[:,0],  Z_o_star\n",
    "              \n",
    "               #cmap = cm.get_cmap(name='jet')\n",
    "                         )\n",
    "fig.colorbar(contour)\n",
    "plt.title('t*')\n",
    "plt.xlabel(r\"Defender type $\\dot{\\Theta}$d\")\n",
    "plt.ylabel(r\"offender type $\\dot{\\Theta}$o\")\n",
    "\n",
    "plt.show()"
   ]
  },
  {
   "cell_type": "code",
   "execution_count": 22,
   "metadata": {
    "ExecuteTime": {
     "end_time": "2020-11-09T02:28:10.134340Z",
     "start_time": "2020-11-09T02:28:09.803423Z"
    }
   },
   "outputs": [
    {
     "data": {
      "image/png": "[encoded data removed]",
      "text/plain": [
       "<Figure size 432x288 with 2 Axes>"
      ]
     },
     "metadata": {
      "needs_background": "light"
     },
     "output_type": "display_data"
    }
   ],
   "source": [
    "grid_x, grid_y = np.mgrid[0:15:400j, 400:0:400j]\n",
    "\n",
    "points =np.reshape([X_test[:,1],X_test[:,0]],(2,-1))\n",
    "\n",
    "points = np.transpose(points)\n",
    "\n",
    "grid_z1 = griddata(points, Z_o_star, (grid_x, grid_y), method='nearest')\n",
    "\n",
    "\n",
    "im =plt.imshow(grid_z1.T, extent=(0,15,0,400) , aspect='auto',interpolation='bilinear')\n",
    "plt.colorbar(im)\n",
    "plt.title('t*')\n",
    "plt.xlabel(r\"Defender type $\\dot{\\Theta}$d\")\n",
    "plt.ylabel(r\"offender type $\\dot{\\Theta}$o\")\n",
    "plt.show()"
   ]
  },
  {
   "cell_type": "code",
   "execution_count": 23,
   "metadata": {
    "ExecuteTime": {
     "end_time": "2020-11-09T02:28:10.140023Z",
     "start_time": "2020-11-09T02:28:10.136335Z"
    }
   },
   "outputs": [
    {
     "name": "stdout",
     "output_type": "stream",
     "text": [
      "342.90589156092847\n"
     ]
    }
   ],
   "source": [
    "print(X_test[i][0])"
   ]
  },
  {
   "cell_type": "code",
   "execution_count": 24,
   "metadata": {
    "ExecuteTime": {
     "end_time": "2020-11-09T02:28:23.075696Z",
     "start_time": "2020-11-09T02:28:10.141323Z"
    }
   },
   "outputs": [],
   "source": [
    "li=np.linspace(0,15,5001)\n",
    "Z_o_star_100=[]\n",
    "Z_o_star_200=[]\n",
    "Z_o_star_300=[]\n",
    "for sample in li:\n",
    "        pay , curve_o, o_star, uu_offender, uu_defender = net(time_frame, \n",
    "                            100, sample)\n",
    "        Z_o_star_100.append(float(o_star))\n",
    "        \n",
    "        pay , curve_o, o_star, uu_offender, uu_defender = net(time_frame, \n",
    "                            200, sample)\n",
    "        Z_o_star_200.append(float(o_star))\n",
    "        \n",
    "        pay , curve_o, o_star, uu_offender, uu_defender = net(time_frame, \n",
    "                            300, sample)\n",
    "        Z_o_star_300.append(float(o_star))"
   ]
  },
  {
   "cell_type": "code",
   "execution_count": 25,
   "metadata": {
    "ExecuteTime": {
     "end_time": "2020-11-09T02:28:23.228456Z",
     "start_time": "2020-11-09T02:28:23.076659Z"
    }
   },
   "outputs": [
    {
     "data": {
      "image/png": "[encoded data removed]",
      "text/plain": [
       "<Figure size 432x288 with 1 Axes>"
      ]
     },
     "metadata": {
      "needs_background": "light"
     },
     "output_type": "display_data"
    }
   ],
   "source": [
    "plt.cla()\n",
    "plt.plot(li, Z_o_star_100,label=\"$\\dot{\\Theta}$o=100\")\n",
    "plt.plot(li, Z_o_star_200,label=\"$\\dot{\\Theta}$o=200\")\n",
    "plt.plot(li, Z_o_star_300,label=\"$\\dot{\\Theta}$o=300\")\n",
    "plt.title('t*')\n",
    "plt.xlabel(r\"defender type $\\dot{\\Theta}$d\")\n",
    "plt.ylabel(r\"t*\")\n",
    "plt.legend(loc=2, ncol=2)\n",
    "\n",
    "plt.show()"
   ]
  },
  {
   "cell_type": "code",
   "execution_count": 26,
   "metadata": {
    "ExecuteTime": {
     "end_time": "2020-11-09T02:28:37.515306Z",
     "start_time": "2020-11-09T02:28:23.229412Z"
    }
   },
   "outputs": [],
   "source": [
    "li=np.linspace(0,400,5001)\n",
    "Z_o_star_5=[]\n",
    "Z_o_star_9=[]\n",
    "Z_o_star_13=[]\n",
    "\n",
    "for sample in li:\n",
    "    pay , curve_o, o_star, uu_offender, uu_defender = net(time_frame, \n",
    "                            sample, 5)\n",
    "    Z_o_star_5.append(float(o_star))\n",
    "    \n",
    "    pay , curve_o, o_star, uu_offender, uu_defender = net(time_frame, \n",
    "                            sample, 9)\n",
    "    Z_o_star_9.append(float(o_star))\n",
    "    \n",
    "    pay , curve_o, o_star, uu_offender, uu_defender = net(time_frame, \n",
    "                            sample, 13)\n",
    "    Z_o_star_13.append(float(o_star))\n",
    "    \n",
    "\n"
   ]
  },
  {
   "cell_type": "code",
   "execution_count": 27,
   "metadata": {
    "ExecuteTime": {
     "end_time": "2020-11-09T02:28:37.679375Z",
     "start_time": "2020-11-09T02:28:37.516303Z"
    }
   },
   "outputs": [
    {
     "data": {
      "image/png": "[encoded data removed]",
      "text/plain": [
       "<Figure size 432x288 with 1 Axes>"
      ]
     },
     "metadata": {
      "needs_background": "light"
     },
     "output_type": "display_data"
    }
   ],
   "source": [
    "plt.cla()\n",
    "plt.plot(li, Z_o_star_5,label=\"$\\dot{\\Theta}$d=5\")\n",
    "plt.plot(li, Z_o_star_9,label=\"$\\dot{\\Theta}$d=9\")\n",
    "plt.plot(li, Z_o_star_13,label=\"$\\dot{\\Theta}$d=13\")\n",
    "plt.title('t*')\n",
    "plt.xlabel(r\"offender type $\\dot{\\Theta}$o\")\n",
    "plt.ylabel(r\"t*\")\n",
    "plt.legend(loc=2, ncol=2)\n",
    "plt.show()"
   ]
  },
  {
   "cell_type": "code",
   "execution_count": 28,
   "metadata": {
    "ExecuteTime": {
     "end_time": "2020-11-09T02:28:37.814017Z",
     "start_time": "2020-11-09T02:28:37.680373Z"
    }
   },
   "outputs": [
    {
     "data": {
      "image/png": "[encoded data removed]",
      "text/plain": [
       "<Figure size 432x288 with 1 Axes>"
      ]
     },
     "metadata": {
      "needs_background": "light"
     },
     "output_type": "display_data"
    }
   ],
   "source": [
    "li=np.linspace(0,400,5001)\n",
    "Z_o_star_1=[]\n",
    "Z_o_star_2=[]\n",
    "Z_o_star_3=[]\n",
    "\n",
    "pay , curve_o, o_star, uu_offender, uu_defender = net(time_frame, \n",
    "                            80, 8)\n",
    "Z_o_star_1=curve_o.cpu().data.numpy()\n",
    "    \n",
    "pay , curve_o, o_star, uu_offender, uu_defender = net(time_frame, \n",
    "                            130, 8)\n",
    "Z_o_star_2=curve_o.cpu().data.numpy()\n",
    "    \n",
    "pay , curve_o, o_star, uu_offender, uu_defender = net(time_frame, \n",
    "                            180, 8)\n",
    "Z_o_star_3=curve_o.cpu().data.numpy()\n",
    "    \n",
    "\n",
    "plt.cla()\n",
    "plt.plot(time_frame.cpu().data.numpy(), Z_o_star_1,label=\"$\\dot{\\Theta}$d=1\")\n",
    "plt.plot(time_frame.cpu().data.numpy(), Z_o_star_2,label=\"$\\dot{\\Theta}$d=2\")\n",
    "plt.plot(time_frame.cpu().data.numpy(), Z_o_star_3,label=\"$\\dot{\\Theta}$d=3\")\n",
    "\n",
    "\n",
    "pay , curve_o, o_star, uu_offender, uu_defender = net(time_frame, \n",
    "                            320, 5)\n",
    "Z_o_star_1=curve_o.cpu().data.numpy()\n",
    "    \n",
    "pay , curve_o, o_star, uu_offender, uu_defender = net(time_frame, \n",
    "                            320, 9)\n",
    "Z_o_star_2=curve_o.cpu().data.numpy()\n",
    "    \n",
    "pay , curve_o, o_star, uu_offender, uu_defender = net(time_frame, \n",
    "                            320, 13)\n",
    "Z_o_star_3=curve_o.cpu().data.numpy()\n",
    "    \n",
    "\n",
    "plt.plot(time_frame.cpu().data.numpy(), Z_o_star_1,label=\"$\\dot{\\Theta}$d=1\")\n",
    "plt.plot(time_frame.cpu().data.numpy(), Z_o_star_2,label=\"$\\dot{\\Theta}$d=2\")\n",
    "plt.plot(time_frame.cpu().data.numpy(), Z_o_star_3,label=\"$\\dot{\\Theta}$d=3\")\n",
    "plt.title('a(t)')\n",
    "plt.xlabel(r\"t\")\n",
    "plt.ylabel(r\"a(t)\")\n",
    "#plt.legend(loc=2, ncol=2)\n",
    "plt.show()"
   ]
  },
  {
   "cell_type": "code",
   "execution_count": null,
   "metadata": {},
   "outputs": [],
   "source": []
  }
 ],
 "metadata": {
  "hide_input": false,
  "kernelspec": {
   "display_name": "Python 3",
   "language": "python",
   "name": "python3"
  },
  "language_info": {
   "codemirror_mode": {
    "name": "ipython",
    "version": 3
   },
   "file_extension": ".py",
   "mimetype": "text/x-python",
   "name": "python",
   "nbconvert_exporter": "python",
   "pygments_lexer": "ipython3",
   "version": "3.8.3"
  },
  "toc": {
   "base_numbering": 1,
   "nav_menu": {},
   "number_sections": true,
   "sideBar": true,
   "skip_h1_title": false,
   "title_cell": "Table of Contents",
   "title_sidebar": "Contents",
   "toc_cell": false,
   "toc_position": {},
   "toc_section_display": true,
   "toc_window_display": false
  },
  "varInspector": {
   "cols": {
    "lenName": 16,
    "lenType": 16,
    "lenVar": 40
   },
   "kernels_config": {
    "python": {
     "delete_cmd_postfix": "",
     "delete_cmd_prefix": "del ",
     "library": "var_list.py",
     "varRefreshCmd": "print(var_dic_list())"
    },
    "r": {
     "delete_cmd_postfix": ") ",
     "delete_cmd_prefix": "rm(",
     "library": "var_list.r",
     "varRefreshCmd": "cat(var_dic_list()) "
    }
   },
   "types_to_exclude": [
    "module",
    "function",
    "builtin_function_or_method",
    "instance",
    "_Feature"
   ],
   "window_display": false
  }
 },
 "nbformat": 4,
 "nbformat_minor": 4
}
